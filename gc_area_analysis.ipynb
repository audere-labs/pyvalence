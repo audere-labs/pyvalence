{
 "cells": [
  {
   "cell_type": "code",
   "execution_count": 56,
   "metadata": {
    "collapsed": true
   },
   "outputs": [],
   "source": [
    "from chemtbd.io import Agilent\n",
    "import numpy as np"
   ]
  },
  {
   "cell_type": "code",
   "execution_count": 73,
   "metadata": {
    "collapsed": true
   },
   "outputs": [],
   "source": [
    "#import data\n",
    "agi = Agilent.from_root('data')"
   ]
  },
  {
   "cell_type": "code",
   "execution_count": 97,
   "metadata": {},
   "outputs": [
    {
     "name": "stderr",
     "output_type": "stream",
     "text": [
      "D:\\Applications\\Anaconda\\envs\\chemtool\\lib\\site-packages\\pandas\\core\\indexing.py:141: SettingWithCopyWarning: \n",
      "A value is trying to be set on a copy of a slice from a DataFrame\n",
      "\n",
      "See the caveats in the documentation: http://pandas.pydata.org/pandas-docs/stable/indexing.html#indexing-view-versus-copy\n",
      "  self._setitem_with_indexer(indexer, value)\n"
     ]
    },
    {
     "data": {
      "text/html": [
       "<div>\n",
       "<table border=\"1\" class=\"dataframe\">\n",
       "  <thead>\n",
       "    <tr style=\"text-align: right;\">\n",
       "      <th></th>\n",
       "      <th>header=</th>\n",
       "      <th>pk</th>\n",
       "      <th>rt</th>\n",
       "      <th>pct_area</th>\n",
       "      <th>library_id</th>\n",
       "      <th>ref</th>\n",
       "      <th>cas</th>\n",
       "      <th>qual</th>\n",
       "      <th>key</th>\n",
       "      <th>tic_area</th>\n",
       "    </tr>\n",
       "  </thead>\n",
       "  <tbody>\n",
       "    <tr>\n",
       "      <th>0</th>\n",
       "      <td>1=</td>\n",
       "      <td>2.0</td>\n",
       "      <td>10.9317</td>\n",
       "      <td>7.8521</td>\n",
       "      <td>Methyl palmitoleate</td>\n",
       "      <td>9.0</td>\n",
       "      <td>000000-00-0</td>\n",
       "      <td>99.0</td>\n",
       "      <td>FA14.D</td>\n",
       "      <td>937080.0</td>\n",
       "    </tr>\n",
       "    <tr>\n",
       "      <th>1</th>\n",
       "      <td>2=</td>\n",
       "      <td>3.0</td>\n",
       "      <td>11.0462</td>\n",
       "      <td>47.9339</td>\n",
       "      <td>Methyl palmitate</td>\n",
       "      <td>10.0</td>\n",
       "      <td>000000-00-0</td>\n",
       "      <td>97.0</td>\n",
       "      <td>FA14.D</td>\n",
       "      <td>5720503.0</td>\n",
       "    </tr>\n",
       "    <tr>\n",
       "      <th>2</th>\n",
       "      <td>3=</td>\n",
       "      <td>6.0</td>\n",
       "      <td>12.1734</td>\n",
       "      <td>29.8931</td>\n",
       "      <td>cis-9-Oleic methyl ester</td>\n",
       "      <td>33.0</td>\n",
       "      <td>000000-00-0</td>\n",
       "      <td>94.0</td>\n",
       "      <td>FA14.D</td>\n",
       "      <td>3567489.0</td>\n",
       "    </tr>\n",
       "    <tr>\n",
       "      <th>3</th>\n",
       "      <td>4=</td>\n",
       "      <td>7.0</td>\n",
       "      <td>12.3222</td>\n",
       "      <td>2.4524</td>\n",
       "      <td>Methyl stearate</td>\n",
       "      <td>19.0</td>\n",
       "      <td>000000-00-0</td>\n",
       "      <td>97.0</td>\n",
       "      <td>FA14.D</td>\n",
       "      <td>292677.0</td>\n",
       "    </tr>\n",
       "  </tbody>\n",
       "</table>\n",
       "</div>"
      ],
      "text/plain": [
       "  header=   pk       rt  pct_area                library_id   ref  \\\n",
       "0      1=  2.0  10.9317    7.8521       Methyl palmitoleate   9.0   \n",
       "1      2=  3.0  11.0462   47.9339          Methyl palmitate  10.0   \n",
       "2      3=  6.0  12.1734   29.8931  cis-9-Oleic methyl ester  33.0   \n",
       "3      4=  7.0  12.3222    2.4524           Methyl stearate  19.0   \n",
       "\n",
       "           cas  qual     key   tic_area  \n",
       "0  000000-00-0  99.0  FA14.D   937080.0  \n",
       "1  000000-00-0  97.0  FA14.D  5720503.0  \n",
       "2  000000-00-0  94.0  FA14.D  3567489.0  \n",
       "3  000000-00-0  97.0  FA14.D   292677.0  "
      ]
     },
     "execution_count": 97,
     "metadata": {},
     "output_type": "execute_result"
    }
   ],
   "source": [
    "def matchlib2TIC(key):\n",
    "    \n",
    "    ticDF = agi.results('tic').loc[agi.results('tic')['key'] == key]\n",
    "    libDF = agi.results('lib').loc[agi.results('lib')['key'] == key]\n",
    "    libDF['tic_area'] = np.nan\n",
    "\n",
    "    #find shortest\n",
    "    if len(libDF) <= len(ticDF):\n",
    "        short = libDF\n",
    "        long = ticDF\n",
    "        looper = len(libDF)\n",
    "    else:\n",
    "        short = ticDF\n",
    "        long = libDF\n",
    "        looper = len(ticDF)\n",
    "        \n",
    "    #loop and match\n",
    "    for index,row in short.iterrows():\n",
    "        sqrError = (short['rt'].ix[index]-long['rt'].ix[index:len(long)])**2    \n",
    "        area_row = sqrError.idxmin(axis=1)\n",
    "        libDF['tic_area'].ix[index] = ticDF['area'].ix[area_row]\n",
    "\n",
    "\n",
    "    return libDF\n",
    "matchlib2TIC('FA14.D')"
   ]
  },
  {
   "cell_type": "code",
   "execution_count": null,
   "metadata": {
    "collapsed": true
   },
   "outputs": [],
   "source": []
  }
 ],
 "metadata": {
  "kernelspec": {
   "display_name": "Python 3",
   "language": "python",
   "name": "python3"
  },
  "language_info": {
   "codemirror_mode": {
    "name": "ipython",
    "version": 3
   },
   "file_extension": ".py",
   "mimetype": "text/x-python",
   "name": "python",
   "nbconvert_exporter": "python",
   "pygments_lexer": "ipython3",
   "version": "3.6.1"
  }
 },
 "nbformat": 4,
 "nbformat_minor": 2
}
