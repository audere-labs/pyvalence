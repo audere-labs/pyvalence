{
 "cells": [
  {
   "cell_type": "code",
   "execution_count": 1,
   "metadata": {
    "collapsed": true
   },
   "outputs": [],
   "source": [
    "from chemtbd.io import Agilent\n",
    "import numpy as np\n",
    "import pandas as pd"
   ]
  },
  {
   "cell_type": "code",
   "execution_count": 2,
   "metadata": {
    "collapsed": true
   },
   "outputs": [],
   "source": [
    "agi = Agilent.from_root('data')"
   ]
  },
  {
   "cell_type": "markdown",
   "metadata": {},
   "source": [
    "__matclibarea_one__ matches lib dataframe to fid or tic dataframes\n",
    "\n",
    "- key: string, typically the file name\n",
    "- libdf: dataframe, dataframe containing chemical identification information i.e. library/id, rt, etc\n",
    "- areaddf: dataframe, dataframe containing either tic or fid areas and retetion times (rt)\n",
    "- areatype: string, `fid` or `tic`\n",
    "\n",
    "example:\n",
    "```\n",
    "key = 'FA13.D'\n",
    "libdf = agi[key].results.lib\n",
    "ticdf  = agi[key].results.tic\n",
    "fiddf = agi[key].results.fid\n",
    "matchlib2area_one('FA14.D',libdf,ticdf,'tic')\n",
    "```\n",
    "\n",
    "__matchlib2area_all__ matches lib dataframe to fid or tic dataframes for all data sets in a folder containing .D files generated from Agilent\n",
    "\n",
    "example:\n",
    "```\n",
    "matched_df = matchlib2area_all(agi,'tic')\n",
    "```"
   ]
  },
  {
   "cell_type": "code",
   "execution_count": 3,
   "metadata": {},
   "outputs": [
    {
     "name": "stdout",
     "output_type": "stream",
     "text": [
      "FA14_2.D did not match successfully\n"
     ]
    },
    {
     "data": {
      "text/html": [
       "<div>\n",
       "<table border=\"1\" class=\"dataframe\">\n",
       "  <thead>\n",
       "    <tr style=\"text-align: right;\">\n",
       "      <th></th>\n",
       "      <th>index</th>\n",
       "      <th>header=</th>\n",
       "      <th>pk</th>\n",
       "      <th>rt</th>\n",
       "      <th>pct_area</th>\n",
       "      <th>library_id</th>\n",
       "      <th>ref</th>\n",
       "      <th>cas</th>\n",
       "      <th>qual</th>\n",
       "      <th>key</th>\n",
       "      <th>tic_area</th>\n",
       "    </tr>\n",
       "  </thead>\n",
       "  <tbody>\n",
       "    <tr>\n",
       "      <th>0</th>\n",
       "      <td>0</td>\n",
       "      <td>1=</td>\n",
       "      <td>1.0</td>\n",
       "      <td>5.7877</td>\n",
       "      <td>2.0335</td>\n",
       "      <td>Methyl octanoate</td>\n",
       "      <td>17.0</td>\n",
       "      <td>000000-00-0</td>\n",
       "      <td>96.0</td>\n",
       "      <td>FA03.D</td>\n",
       "      <td>1489466.0</td>\n",
       "    </tr>\n",
       "    <tr>\n",
       "      <th>1</th>\n",
       "      <td>1</td>\n",
       "      <td>2=</td>\n",
       "      <td>2.0</td>\n",
       "      <td>7.3441</td>\n",
       "      <td>3.4015</td>\n",
       "      <td>Methyl decanoate</td>\n",
       "      <td>1.0</td>\n",
       "      <td>000000-00-0</td>\n",
       "      <td>98.0</td>\n",
       "      <td>FA03.D</td>\n",
       "      <td>2491449.0</td>\n",
       "    </tr>\n",
       "    <tr>\n",
       "      <th>2</th>\n",
       "      <td>2</td>\n",
       "      <td>3=</td>\n",
       "      <td>3.0</td>\n",
       "      <td>8.0364</td>\n",
       "      <td>1.7448</td>\n",
       "      <td>Methyl undecanoate</td>\n",
       "      <td>2.0</td>\n",
       "      <td>000000-00-0</td>\n",
       "      <td>98.0</td>\n",
       "      <td>FA03.D</td>\n",
       "      <td>1277982.0</td>\n",
       "    </tr>\n",
       "    <tr>\n",
       "      <th>3</th>\n",
       "      <td>3</td>\n",
       "      <td>4=</td>\n",
       "      <td>4.0</td>\n",
       "      <td>8.6715</td>\n",
       "      <td>3.9674</td>\n",
       "      <td>Methyl dodecanoate</td>\n",
       "      <td>3.0</td>\n",
       "      <td>000000-00-0</td>\n",
       "      <td>98.0</td>\n",
       "      <td>FA03.D</td>\n",
       "      <td>2905961.0</td>\n",
       "    </tr>\n",
       "    <tr>\n",
       "      <th>4</th>\n",
       "      <td>4</td>\n",
       "      <td>5=</td>\n",
       "      <td>5.0</td>\n",
       "      <td>9.2781</td>\n",
       "      <td>1.9607</td>\n",
       "      <td>Methyl tridecanoate</td>\n",
       "      <td>4.0</td>\n",
       "      <td>000000-00-0</td>\n",
       "      <td>99.0</td>\n",
       "      <td>FA03.D</td>\n",
       "      <td>1436154.0</td>\n",
       "    </tr>\n",
       "  </tbody>\n",
       "</table>\n",
       "</div>"
      ],
      "text/plain": [
       "   index header=   pk      rt  pct_area           library_id   ref  \\\n",
       "0      0      1=  1.0  5.7877    2.0335     Methyl octanoate  17.0   \n",
       "1      1      2=  2.0  7.3441    3.4015     Methyl decanoate   1.0   \n",
       "2      2      3=  3.0  8.0364    1.7448   Methyl undecanoate   2.0   \n",
       "3      3      4=  4.0  8.6715    3.9674   Methyl dodecanoate   3.0   \n",
       "4      4      5=  5.0  9.2781    1.9607  Methyl tridecanoate   4.0   \n",
       "\n",
       "           cas  qual     key   tic_area  \n",
       "0  000000-00-0  96.0  FA03.D  1489466.0  \n",
       "1  000000-00-0  98.0  FA03.D  2491449.0  \n",
       "2  000000-00-0  98.0  FA03.D  1277982.0  \n",
       "3  000000-00-0  98.0  FA03.D  2905961.0  \n",
       "4  000000-00-0  99.0  FA03.D  1436154.0  "
      ]
     },
     "execution_count": 3,
     "metadata": {},
     "output_type": "execute_result"
    }
   ],
   "source": [
    "def matchlib2area_one(key,libdf, areadf,areatype):\n",
    "    returndf = libdf.copy()\n",
    "    \n",
    "    if areatype == 'tic':\n",
    "        colname = 'tic_area'\n",
    "    elif areatype == 'fid':\n",
    "        colname = 'fid_area'\n",
    "    else:\n",
    "        print('incorrect area type')\n",
    "\n",
    "    returndf[colname] = np.nan\n",
    "    #find shortest\n",
    "    if len(libdf) <= len(areadf):\n",
    "        short = libdf\n",
    "        long = areadf\n",
    "    else:\n",
    "        short = areadf\n",
    "        long = libdf\n",
    "        \n",
    "    #loop and match\n",
    "    match_list = []\n",
    "    for index,row in short.iterrows():\n",
    "        sqrError = (short['rt'].ix[index]-long['rt'].ix[index:len(long)])**2    \n",
    "        area_row = sqrError.idxmin(axis=1)\n",
    "        match_list.append(areadf['area'].ix[area_row])\n",
    "    if areatype == 'tic':\n",
    "        returndf['tic_area'] = match_list\n",
    "    elif areatype == 'fid':\n",
    "        returndf['fid_area'] = match_list\n",
    "    \n",
    "    return returndf\n",
    "\n",
    "def matchlib2area_all(data_dic,areatype='tic'):\n",
    "    libdf = data_dic.results('lib').groupby('key')\n",
    "    areadf  = data_dic.results(areatype).groupby('key')\n",
    "\n",
    "    #return_dic = {}\n",
    "    return_df = pd.DataFrame()\n",
    "    for name, group in libdf:\n",
    "        try:\n",
    "            return_df = return_df.append(matchlib2area_one(name,group,areadf.get_group(name),areatype))\n",
    "            # return_dic[name] = matchlib2area_one(name,group,areadf.get_group(name),areatype)\n",
    "        except:\n",
    "            print(name+' did not match successfully')\n",
    "    return return_df.reset_index()\n",
    "\n",
    "matched_df = matchlib2area_all(agi,'tic')\n",
    "matched_df.head()"
   ]
  },
  {
   "cell_type": "markdown",
   "metadata": {},
   "source": [
    "This creates a df containing the concentrations, I assumed the starting concentration of the stock was 1M, to get from hanna. The general data input represented by __calc_conc_df__ will always be this format; however, we will need to have a different ways for the user to input this information"
   ]
  },
  {
   "cell_type": "code",
   "execution_count": 26,
   "metadata": {},
   "outputs": [
    {
     "data": {
      "text/html": [
       "<div>\n",
       "<table border=\"1\" class=\"dataframe\">\n",
       "  <thead>\n",
       "    <tr style=\"text-align: right;\">\n",
       "      <th></th>\n",
       "      <th>FA03.D</th>\n",
       "      <th>FA04.D</th>\n",
       "      <th>FA05.D</th>\n",
       "    </tr>\n",
       "    <tr>\n",
       "      <th>library_id</th>\n",
       "      <th></th>\n",
       "      <th></th>\n",
       "      <th></th>\n",
       "    </tr>\n",
       "  </thead>\n",
       "  <tbody>\n",
       "    <tr>\n",
       "      <th>Methyl octanoate</th>\n",
       "      <td>0.25</td>\n",
       "      <td>0.5</td>\n",
       "      <td>1.0</td>\n",
       "    </tr>\n",
       "    <tr>\n",
       "      <th>Methyl decanoate</th>\n",
       "      <td>0.25</td>\n",
       "      <td>0.5</td>\n",
       "      <td>1.0</td>\n",
       "    </tr>\n",
       "    <tr>\n",
       "      <th>Methyl undecanoate</th>\n",
       "      <td>0.25</td>\n",
       "      <td>0.5</td>\n",
       "      <td>1.0</td>\n",
       "    </tr>\n",
       "    <tr>\n",
       "      <th>Methyl dodecanoate</th>\n",
       "      <td>0.25</td>\n",
       "      <td>0.5</td>\n",
       "      <td>1.0</td>\n",
       "    </tr>\n",
       "    <tr>\n",
       "      <th>Methyl tridecanoate</th>\n",
       "      <td>0.25</td>\n",
       "      <td>0.5</td>\n",
       "      <td>1.0</td>\n",
       "    </tr>\n",
       "  </tbody>\n",
       "</table>\n",
       "</div>"
      ],
      "text/plain": [
       "                     FA03.D  FA04.D  FA05.D\n",
       "library_id                                 \n",
       "Methyl octanoate       0.25     0.5     1.0\n",
       "Methyl decanoate       0.25     0.5     1.0\n",
       "Methyl undecanoate     0.25     0.5     1.0\n",
       "Methyl dodecanoate     0.25     0.5     1.0\n",
       "Methyl tridecanoate    0.25     0.5     1.0"
      ]
     },
     "execution_count": 26,
     "metadata": {},
     "output_type": "execute_result"
    }
   ],
   "source": [
    "cal_files = ['FA03.D','FA04.D','FA05.D']\n",
    "cal_dilutions = {'FA03.D': 0.25,'FA04.D':0.50,'FA05.D':1.0}\n",
    "cal_conc_df = pd.DataFrame({'library_id':agi['FA03.D'].results['lib']['library_id'],'Conc_0':1})\n",
    "\n",
    "for key,val in cal_dilutions.items():\n",
    "    cal_conc_df[key] = cal_conc_df['Conc_0']*val\n",
    "cal_conc_df.set_index(['library_id'],inplace=True)\n",
    "cal_conc_df.drop('Conc_0',1,inplace=True)\n",
    "cal_conc_df.head()"
   ]
  },
  {
   "cell_type": "markdown",
   "metadata": {},
   "source": [
    "Calculate a linear fit to calibration data for each species"
   ]
  },
  {
   "cell_type": "code",
   "execution_count": 27,
   "metadata": {
    "collapsed": true
   },
   "outputs": [],
   "source": [
    "def calc_calibration(matched_df, cal_conc_df):\n",
    "    pass"
   ]
  },
  {
   "cell_type": "code",
   "execution_count": 28,
   "metadata": {
    "collapsed": true
   },
   "outputs": [],
   "source": [
    "species = 'Methyl octanoate'\n"
   ]
  },
  {
   "cell_type": "markdown",
   "metadata": {},
   "source": [
    "Fuctions which still need to be built"
   ]
  },
  {
   "cell_type": "code",
   "execution_count": null,
   "metadata": {
    "collapsed": true
   },
   "outputs": [],
   "source": [
    "def calc_conc():\n",
    "    pass\n",
    "\n",
    "def calc_mass():\n",
    "    pass\n",
    "\n",
    "def make_plot_percentarea():\n",
    "    pass\n",
    "\n",
    "def make_plot_concarea():\n",
    "    pass\n",
    "\n",
    "def make_plot_massarea():\n",
    "    pass"
   ]
  }
 ],
 "metadata": {
  "kernelspec": {
   "display_name": "Python 3",
   "language": "python",
   "name": "python3"
  },
  "language_info": {
   "codemirror_mode": {
    "name": "ipython",
    "version": 3
   },
   "file_extension": ".py",
   "mimetype": "text/x-python",
   "name": "python",
   "nbconvert_exporter": "python",
   "pygments_lexer": "ipython3",
   "version": "3.6.1"
  }
 },
 "nbformat": 4,
 "nbformat_minor": 2
}
