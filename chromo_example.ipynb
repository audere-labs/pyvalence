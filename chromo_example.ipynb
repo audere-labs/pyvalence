{
 "cells": [
  {
   "cell_type": "markdown",
   "metadata": {
    "collapsed": true
   },
   "source": [
    "# Reading Agilent GCMS Files with `chemtbd`\n",
    "\n",
    "Currently there is a hiearchy of objects for reading GCMS data:\n",
    "\n",
    "- `AgilentGcmsDataMs` object will read a `.D` `DATA.MS` file into `chromatogram` and `spectra` DataFrames.\n",
    "- `AgilentGcmsResults` object will read a `.D` `RESULTS.CSV` file into `tic`, `lib` and `fid` DataFrames.\n",
    "- `AgilentGcms` will read both `DATA.MS` and `RESULTS.CSV` into datat frames from one or more `.D` directories.\n",
    "\n",
    "To get started let's look at `AgilentGcms`:"
   ]
  },
  {
   "cell_type": "code",
   "execution_count": 11,
   "metadata": {},
   "outputs": [],
   "source": [
    "from valence.build import AgilentGcms"
   ]
  },
  {
   "cell_type": "markdown",
   "metadata": {},
   "source": [
    "`AgilentGcms` has three main constructors:\n",
    "\n",
    "- `from_dir` expects a path to single Agilent `.D` directory as input\n",
    "- `from_root` expects a path to a parent directory containing one or more `.D` directories as children\n",
    "- `()` expects a list of one or more paths to Agilent `.D` directories\n",
    "\n",
    "For example, let's load all `.D` folders from the directory `data/test3`:"
   ]
  },
  {
   "cell_type": "code",
   "execution_count": 12,
   "metadata": {
    "scrolled": false
   },
   "outputs": [],
   "source": [
    "agi = AgilentGcms.from_root('data/test3')"
   ]
  },
  {
   "cell_type": "markdown",
   "metadata": {
    "collapsed": true
   },
   "source": [
    "Let's look at what `.D` folders loaded from the above directory:"
   ]
  },
  {
   "cell_type": "code",
   "execution_count": 13,
   "metadata": {},
   "outputs": [
    {
     "data": {
      "text/plain": [
       "dict_keys(['FA01.D', 'FA02.D', 'FA03.D', 'FA04.D', 'FA05.D', 'FA06.D', 'FA07.D', 'FA08.D', 'FA09.D', 'FA10.D', 'FA11.D', 'FA12.D', 'FA13.D', 'FA14.D', 'FA15.D'])"
      ]
     },
     "execution_count": 13,
     "metadata": {},
     "output_type": "execute_result"
    }
   ],
   "source": [
    "agi.keys"
   ]
  },
  {
   "cell_type": "markdown",
   "metadata": {},
   "source": [
    "# Accessing all Files\n",
    "\n",
    "We can access the __RESULTS.CSV__ `lib`, `fid`, and `tic` tables from all Agilent directories as a single pandas DataFrame using the below commands."
   ]
  },
  {
   "cell_type": "code",
   "execution_count": 14,
   "metadata": {},
   "outputs": [
    {
     "data": {
      "text/html": [
       "<div>\n",
       "<table border=\"1\" class=\"dataframe\">\n",
       "  <thead>\n",
       "    <tr style=\"text-align: right;\">\n",
       "      <th></th>\n",
       "      <th>header=</th>\n",
       "      <th>pk</th>\n",
       "      <th>rt</th>\n",
       "      <th>pct_area</th>\n",
       "      <th>library_id</th>\n",
       "      <th>ref</th>\n",
       "      <th>cas</th>\n",
       "      <th>qual</th>\n",
       "    </tr>\n",
       "    <tr>\n",
       "      <th>key</th>\n",
       "      <th></th>\n",
       "      <th></th>\n",
       "      <th></th>\n",
       "      <th></th>\n",
       "      <th></th>\n",
       "      <th></th>\n",
       "      <th></th>\n",
       "      <th></th>\n",
       "    </tr>\n",
       "  </thead>\n",
       "  <tbody>\n",
       "    <tr>\n",
       "      <th>FA03.D</th>\n",
       "      <td>1=</td>\n",
       "      <td>1.0</td>\n",
       "      <td>5.7877</td>\n",
       "      <td>2.0335</td>\n",
       "      <td>Methyl octanoate</td>\n",
       "      <td>17.0</td>\n",
       "      <td>000000-00-0</td>\n",
       "      <td>96.0</td>\n",
       "    </tr>\n",
       "    <tr>\n",
       "      <th>FA03.D</th>\n",
       "      <td>2=</td>\n",
       "      <td>2.0</td>\n",
       "      <td>7.3441</td>\n",
       "      <td>3.4015</td>\n",
       "      <td>Methyl decanoate</td>\n",
       "      <td>1.0</td>\n",
       "      <td>000000-00-0</td>\n",
       "      <td>98.0</td>\n",
       "    </tr>\n",
       "    <tr>\n",
       "      <th>FA03.D</th>\n",
       "      <td>3=</td>\n",
       "      <td>3.0</td>\n",
       "      <td>8.0364</td>\n",
       "      <td>1.7448</td>\n",
       "      <td>Methyl undecanoate</td>\n",
       "      <td>2.0</td>\n",
       "      <td>000000-00-0</td>\n",
       "      <td>98.0</td>\n",
       "    </tr>\n",
       "    <tr>\n",
       "      <th>FA03.D</th>\n",
       "      <td>4=</td>\n",
       "      <td>4.0</td>\n",
       "      <td>8.6715</td>\n",
       "      <td>3.9674</td>\n",
       "      <td>Methyl dodecanoate</td>\n",
       "      <td>3.0</td>\n",
       "      <td>000000-00-0</td>\n",
       "      <td>98.0</td>\n",
       "    </tr>\n",
       "    <tr>\n",
       "      <th>FA03.D</th>\n",
       "      <td>5=</td>\n",
       "      <td>5.0</td>\n",
       "      <td>9.2781</td>\n",
       "      <td>1.9607</td>\n",
       "      <td>Methyl tridecanoate</td>\n",
       "      <td>4.0</td>\n",
       "      <td>000000-00-0</td>\n",
       "      <td>99.0</td>\n",
       "    </tr>\n",
       "  </tbody>\n",
       "</table>\n",
       "</div>"
      ],
      "text/plain": [
       "       header=   pk      rt  pct_area           library_id   ref          cas  \\\n",
       "key                                                                             \n",
       "FA03.D      1=  1.0  5.7877    2.0335     Methyl octanoate  17.0  000000-00-0   \n",
       "FA03.D      2=  2.0  7.3441    3.4015     Methyl decanoate   1.0  000000-00-0   \n",
       "FA03.D      3=  3.0  8.0364    1.7448   Methyl undecanoate   2.0  000000-00-0   \n",
       "FA03.D      4=  4.0  8.6715    3.9674   Methyl dodecanoate   3.0  000000-00-0   \n",
       "FA03.D      5=  5.0  9.2781    1.9607  Methyl tridecanoate   4.0  000000-00-0   \n",
       "\n",
       "        qual  \n",
       "key           \n",
       "FA03.D  96.0  \n",
       "FA03.D  98.0  \n",
       "FA03.D  98.0  \n",
       "FA03.D  98.0  \n",
       "FA03.D  99.0  "
      ]
     },
     "execution_count": 14,
     "metadata": {},
     "output_type": "execute_result"
    }
   ],
   "source": [
    "agi.results_lib.head()"
   ]
  },
  {
   "cell_type": "code",
   "execution_count": 15,
   "metadata": {},
   "outputs": [
    {
     "data": {
      "text/html": [
       "<div>\n",
       "<table border=\"1\" class=\"dataframe\">\n",
       "  <thead>\n",
       "    <tr style=\"text-align: right;\">\n",
       "      <th></th>\n",
       "      <th>header=</th>\n",
       "      <th>peak</th>\n",
       "      <th>rt</th>\n",
       "      <th>first</th>\n",
       "      <th>end</th>\n",
       "      <th>pk_ty</th>\n",
       "      <th>height</th>\n",
       "      <th>area</th>\n",
       "      <th>pct_max</th>\n",
       "      <th>pct_total</th>\n",
       "    </tr>\n",
       "    <tr>\n",
       "      <th>key</th>\n",
       "      <th></th>\n",
       "      <th></th>\n",
       "      <th></th>\n",
       "      <th></th>\n",
       "      <th></th>\n",
       "      <th></th>\n",
       "      <th></th>\n",
       "      <th></th>\n",
       "      <th></th>\n",
       "      <th></th>\n",
       "    </tr>\n",
       "  </thead>\n",
       "  <tbody>\n",
       "    <tr>\n",
       "      <th>FA03.D</th>\n",
       "      <td>1=</td>\n",
       "      <td>1</td>\n",
       "      <td>6.250716</td>\n",
       "      <td>5.938180</td>\n",
       "      <td>6.563252</td>\n",
       "      <td>M</td>\n",
       "      <td>2578080</td>\n",
       "      <td>14894660</td>\n",
       "      <td>1</td>\n",
       "      <td>1.962</td>\n",
       "    </tr>\n",
       "    <tr>\n",
       "      <th>FA03.D</th>\n",
       "      <td>2=</td>\n",
       "      <td>2</td>\n",
       "      <td>7.858187</td>\n",
       "      <td>7.465278</td>\n",
       "      <td>8.251096</td>\n",
       "      <td>M</td>\n",
       "      <td>9647430</td>\n",
       "      <td>24914490</td>\n",
       "      <td>1</td>\n",
       "      <td>3.282</td>\n",
       "    </tr>\n",
       "    <tr>\n",
       "      <th>FA03.D</th>\n",
       "      <td>3=</td>\n",
       "      <td>3</td>\n",
       "      <td>8.357856</td>\n",
       "      <td>7.939963</td>\n",
       "      <td>8.775749</td>\n",
       "      <td>M</td>\n",
       "      <td>6084180</td>\n",
       "      <td>12779820</td>\n",
       "      <td>1</td>\n",
       "      <td>1.683</td>\n",
       "    </tr>\n",
       "    <tr>\n",
       "      <th>FA03.D</th>\n",
       "      <td>4=</td>\n",
       "      <td>4</td>\n",
       "      <td>9.798795</td>\n",
       "      <td>9.308855</td>\n",
       "      <td>10.288735</td>\n",
       "      <td>M</td>\n",
       "      <td>19290490</td>\n",
       "      <td>29059610</td>\n",
       "      <td>1</td>\n",
       "      <td>3.828</td>\n",
       "    </tr>\n",
       "    <tr>\n",
       "      <th>FA03.D</th>\n",
       "      <td>5=</td>\n",
       "      <td>5</td>\n",
       "      <td>10.669815</td>\n",
       "      <td>10.136324</td>\n",
       "      <td>11.203306</td>\n",
       "      <td>M</td>\n",
       "      <td>8825210</td>\n",
       "      <td>14361540</td>\n",
       "      <td>1</td>\n",
       "      <td>1.892</td>\n",
       "    </tr>\n",
       "  </tbody>\n",
       "</table>\n",
       "</div>"
      ],
      "text/plain": [
       "       header=  peak         rt      first        end pk_ty    height  \\\n",
       "key                                                                     \n",
       "FA03.D      1=     1   6.250716   5.938180   6.563252     M   2578080   \n",
       "FA03.D      2=     2   7.858187   7.465278   8.251096     M   9647430   \n",
       "FA03.D      3=     3   8.357856   7.939963   8.775749     M   6084180   \n",
       "FA03.D      4=     4   9.798795   9.308855  10.288735     M  19290490   \n",
       "FA03.D      5=     5  10.669815  10.136324  11.203306     M   8825210   \n",
       "\n",
       "            area  pct_max  pct_total  \n",
       "key                                   \n",
       "FA03.D  14894660        1      1.962  \n",
       "FA03.D  24914490        1      3.282  \n",
       "FA03.D  12779820        1      1.683  \n",
       "FA03.D  29059610        1      3.828  \n",
       "FA03.D  14361540        1      1.892  "
      ]
     },
     "execution_count": 15,
     "metadata": {},
     "output_type": "execute_result"
    }
   ],
   "source": [
    "agi.results_fid.head()"
   ]
  },
  {
   "cell_type": "code",
   "execution_count": 16,
   "metadata": {},
   "outputs": [
    {
     "data": {
      "text/html": [
       "<div>\n",
       "<table border=\"1\" class=\"dataframe\">\n",
       "  <thead>\n",
       "    <tr style=\"text-align: right;\">\n",
       "      <th></th>\n",
       "      <th>header=</th>\n",
       "      <th>peak</th>\n",
       "      <th>rt</th>\n",
       "      <th>first</th>\n",
       "      <th>max</th>\n",
       "      <th>last</th>\n",
       "      <th>pk_ty</th>\n",
       "      <th>height</th>\n",
       "      <th>area</th>\n",
       "      <th>pct_max</th>\n",
       "      <th>pct_total</th>\n",
       "    </tr>\n",
       "    <tr>\n",
       "      <th>key</th>\n",
       "      <th></th>\n",
       "      <th></th>\n",
       "      <th></th>\n",
       "      <th></th>\n",
       "      <th></th>\n",
       "      <th></th>\n",
       "      <th></th>\n",
       "      <th></th>\n",
       "      <th></th>\n",
       "      <th></th>\n",
       "      <th></th>\n",
       "    </tr>\n",
       "  </thead>\n",
       "  <tbody>\n",
       "    <tr>\n",
       "      <th>FA01.D</th>\n",
       "      <td>1=</td>\n",
       "      <td>1.0</td>\n",
       "      <td>12.288</td>\n",
       "      <td>1600.0</td>\n",
       "      <td>1609.0</td>\n",
       "      <td>1647.0</td>\n",
       "      <td>rBV3</td>\n",
       "      <td>71023.0</td>\n",
       "      <td>478771.0</td>\n",
       "      <td>39.71</td>\n",
       "      <td>6.909</td>\n",
       "    </tr>\n",
       "    <tr>\n",
       "      <th>FA01.D</th>\n",
       "      <td>2=</td>\n",
       "      <td>2.0</td>\n",
       "      <td>13.598</td>\n",
       "      <td>1830.0</td>\n",
       "      <td>1838.0</td>\n",
       "      <td>1864.0</td>\n",
       "      <td>rBV2</td>\n",
       "      <td>247725.0</td>\n",
       "      <td>825285.0</td>\n",
       "      <td>68.46</td>\n",
       "      <td>11.910</td>\n",
       "    </tr>\n",
       "    <tr>\n",
       "      <th>FA01.D</th>\n",
       "      <td>3=</td>\n",
       "      <td>3.0</td>\n",
       "      <td>14.428</td>\n",
       "      <td>1977.0</td>\n",
       "      <td>1983.0</td>\n",
       "      <td>2004.0</td>\n",
       "      <td>rBV</td>\n",
       "      <td>481706.0</td>\n",
       "      <td>1098175.0</td>\n",
       "      <td>91.09</td>\n",
       "      <td>15.848</td>\n",
       "    </tr>\n",
       "    <tr>\n",
       "      <th>FA01.D</th>\n",
       "      <td>4=</td>\n",
       "      <td>4.0</td>\n",
       "      <td>15.080</td>\n",
       "      <td>2091.0</td>\n",
       "      <td>2097.0</td>\n",
       "      <td>2109.0</td>\n",
       "      <td>rBV</td>\n",
       "      <td>806692.0</td>\n",
       "      <td>1205528.0</td>\n",
       "      <td>100.00</td>\n",
       "      <td>17.397</td>\n",
       "    </tr>\n",
       "    <tr>\n",
       "      <th>FA01.D</th>\n",
       "      <td>5=</td>\n",
       "      <td>5.0</td>\n",
       "      <td>15.692</td>\n",
       "      <td>2198.0</td>\n",
       "      <td>2204.0</td>\n",
       "      <td>2215.0</td>\n",
       "      <td>rBV</td>\n",
       "      <td>731146.0</td>\n",
       "      <td>1085862.0</td>\n",
       "      <td>90.07</td>\n",
       "      <td>15.670</td>\n",
       "    </tr>\n",
       "  </tbody>\n",
       "</table>\n",
       "</div>"
      ],
      "text/plain": [
       "       header=  peak      rt   first     max    last pk_ty    height  \\\n",
       "key                                                                    \n",
       "FA01.D      1=   1.0  12.288  1600.0  1609.0  1647.0  rBV3   71023.0   \n",
       "FA01.D      2=   2.0  13.598  1830.0  1838.0  1864.0  rBV2  247725.0   \n",
       "FA01.D      3=   3.0  14.428  1977.0  1983.0  2004.0  rBV   481706.0   \n",
       "FA01.D      4=   4.0  15.080  2091.0  2097.0  2109.0  rBV   806692.0   \n",
       "FA01.D      5=   5.0  15.692  2198.0  2204.0  2215.0  rBV   731146.0   \n",
       "\n",
       "             area  pct_max  pct_total  \n",
       "key                                    \n",
       "FA01.D   478771.0    39.71      6.909  \n",
       "FA01.D   825285.0    68.46     11.910  \n",
       "FA01.D  1098175.0    91.09     15.848  \n",
       "FA01.D  1205528.0   100.00     17.397  \n",
       "FA01.D  1085862.0    90.07     15.670  "
      ]
     },
     "execution_count": 16,
     "metadata": {},
     "output_type": "execute_result"
    }
   ],
   "source": [
    "agi.results_tic.head()"
   ]
  },
  {
   "cell_type": "markdown",
   "metadata": {},
   "source": [
    "Similarly we can access the __DATA.MS__ `chromatogram` data from all directories:"
   ]
  },
  {
   "cell_type": "code",
   "execution_count": 18,
   "metadata": {},
   "outputs": [
    {
     "data": {
      "text/html": [
       "<div>\n",
       "<table border=\"1\" class=\"dataframe\">\n",
       "  <thead>\n",
       "    <tr style=\"text-align: right;\">\n",
       "      <th></th>\n",
       "      <th>tic</th>\n",
       "      <th>tme</th>\n",
       "    </tr>\n",
       "    <tr>\n",
       "      <th>key</th>\n",
       "      <th></th>\n",
       "      <th></th>\n",
       "    </tr>\n",
       "  </thead>\n",
       "  <tbody>\n",
       "    <tr>\n",
       "      <th>FA01.D</th>\n",
       "      <td>3576027.0</td>\n",
       "      <td>3.086817</td>\n",
       "    </tr>\n",
       "    <tr>\n",
       "      <th>FA01.D</th>\n",
       "      <td>2654533.0</td>\n",
       "      <td>3.092533</td>\n",
       "    </tr>\n",
       "    <tr>\n",
       "      <th>FA01.D</th>\n",
       "      <td>2052596.0</td>\n",
       "      <td>3.098250</td>\n",
       "    </tr>\n",
       "    <tr>\n",
       "      <th>FA01.D</th>\n",
       "      <td>1665840.0</td>\n",
       "      <td>3.103983</td>\n",
       "    </tr>\n",
       "    <tr>\n",
       "      <th>FA01.D</th>\n",
       "      <td>1409909.0</td>\n",
       "      <td>3.109700</td>\n",
       "    </tr>\n",
       "  </tbody>\n",
       "</table>\n",
       "</div>"
      ],
      "text/plain": [
       "              tic       tme\n",
       "key                        \n",
       "FA01.D  3576027.0  3.086817\n",
       "FA01.D  2654533.0  3.092533\n",
       "FA01.D  2052596.0  3.098250\n",
       "FA01.D  1665840.0  3.103983\n",
       "FA01.D  1409909.0  3.109700"
      ]
     },
     "execution_count": 18,
     "metadata": {},
     "output_type": "execute_result"
    }
   ],
   "source": [
    "agi.chromatogram.head()"
   ]
  },
  {
   "cell_type": "markdown",
   "metadata": {},
   "source": [
    "We also have access to the `spectra` data.  However, currently this data is not easily stacked so we provide it as a dictionary of DataFrames rather than one stacked DataFrame.  The keys to the dictionary are the folder names."
   ]
  },
  {
   "cell_type": "code",
   "execution_count": 19,
   "metadata": {},
   "outputs": [
    {
     "data": {
      "text/plain": [
       "dict_keys(['FA01.D', 'FA02.D', 'FA03.D', 'FA04.D', 'FA05.D', 'FA06.D', 'FA07.D', 'FA08.D', 'FA09.D', 'FA10.D', 'FA11.D', 'FA12.D', 'FA13.D', 'FA14.D', 'FA15.D'])"
      ]
     },
     "execution_count": 19,
     "metadata": {},
     "output_type": "execute_result"
    }
   ],
   "source": [
    "agi.spectra.keys()"
   ]
  },
  {
   "cell_type": "code",
   "execution_count": 20,
   "metadata": {},
   "outputs": [
    {
     "data": {
      "text/html": [
       "<div>\n",
       "<table border=\"1\" class=\"dataframe\">\n",
       "  <thead>\n",
       "    <tr style=\"text-align: right;\">\n",
       "      <th></th>\n",
       "      <th>204.9</th>\n",
       "      <th>52.1</th>\n",
       "      <th>155.0</th>\n",
       "      <th>104.1</th>\n",
       "      <th>53.1</th>\n",
       "      <th>207.0</th>\n",
       "      <th>155.8</th>\n",
       "      <th>105.0</th>\n",
       "      <th>54.1</th>\n",
       "      <th>207.9</th>\n",
       "      <th>...</th>\n",
       "      <th>326.6</th>\n",
       "      <th>251.2</th>\n",
       "      <th>316.2</th>\n",
       "      <th>354.4</th>\n",
       "      <th>331.6</th>\n",
       "      <th>105.7</th>\n",
       "      <th>268.5</th>\n",
       "      <th>122.1</th>\n",
       "      <th>202.2</th>\n",
       "      <th>126.7</th>\n",
       "    </tr>\n",
       "  </thead>\n",
       "  <tbody>\n",
       "    <tr>\n",
       "      <th>3.086817</th>\n",
       "      <td>185.0</td>\n",
       "      <td>8090.0</td>\n",
       "      <td>225.0</td>\n",
       "      <td>166.0</td>\n",
       "      <td>40736.0</td>\n",
       "      <td>1851.0</td>\n",
       "      <td>193.0</td>\n",
       "      <td>365.0</td>\n",
       "      <td>21416.0</td>\n",
       "      <td>313.0</td>\n",
       "      <td>...</td>\n",
       "      <td>0.0</td>\n",
       "      <td>0.0</td>\n",
       "      <td>0.0</td>\n",
       "      <td>0.0</td>\n",
       "      <td>0.0</td>\n",
       "      <td>0.0</td>\n",
       "      <td>0.0</td>\n",
       "      <td>0.0</td>\n",
       "      <td>0.0</td>\n",
       "      <td>0.0</td>\n",
       "    </tr>\n",
       "    <tr>\n",
       "      <th>3.092533</th>\n",
       "      <td>0.0</td>\n",
       "      <td>6851.0</td>\n",
       "      <td>0.0</td>\n",
       "      <td>0.0</td>\n",
       "      <td>32048.0</td>\n",
       "      <td>2084.0</td>\n",
       "      <td>0.0</td>\n",
       "      <td>0.0</td>\n",
       "      <td>17080.0</td>\n",
       "      <td>0.0</td>\n",
       "      <td>...</td>\n",
       "      <td>0.0</td>\n",
       "      <td>0.0</td>\n",
       "      <td>0.0</td>\n",
       "      <td>0.0</td>\n",
       "      <td>0.0</td>\n",
       "      <td>0.0</td>\n",
       "      <td>0.0</td>\n",
       "      <td>0.0</td>\n",
       "      <td>0.0</td>\n",
       "      <td>0.0</td>\n",
       "    </tr>\n",
       "    <tr>\n",
       "      <th>3.098250</th>\n",
       "      <td>0.0</td>\n",
       "      <td>5660.0</td>\n",
       "      <td>203.0</td>\n",
       "      <td>0.0</td>\n",
       "      <td>24736.0</td>\n",
       "      <td>1931.0</td>\n",
       "      <td>0.0</td>\n",
       "      <td>568.0</td>\n",
       "      <td>15641.0</td>\n",
       "      <td>0.0</td>\n",
       "      <td>...</td>\n",
       "      <td>0.0</td>\n",
       "      <td>0.0</td>\n",
       "      <td>0.0</td>\n",
       "      <td>0.0</td>\n",
       "      <td>0.0</td>\n",
       "      <td>0.0</td>\n",
       "      <td>0.0</td>\n",
       "      <td>0.0</td>\n",
       "      <td>0.0</td>\n",
       "      <td>0.0</td>\n",
       "    </tr>\n",
       "    <tr>\n",
       "      <th>3.103983</th>\n",
       "      <td>0.0</td>\n",
       "      <td>4772.0</td>\n",
       "      <td>210.0</td>\n",
       "      <td>205.0</td>\n",
       "      <td>23920.0</td>\n",
       "      <td>2675.0</td>\n",
       "      <td>0.0</td>\n",
       "      <td>0.0</td>\n",
       "      <td>14445.0</td>\n",
       "      <td>0.0</td>\n",
       "      <td>...</td>\n",
       "      <td>0.0</td>\n",
       "      <td>0.0</td>\n",
       "      <td>0.0</td>\n",
       "      <td>0.0</td>\n",
       "      <td>0.0</td>\n",
       "      <td>0.0</td>\n",
       "      <td>0.0</td>\n",
       "      <td>0.0</td>\n",
       "      <td>0.0</td>\n",
       "      <td>0.0</td>\n",
       "    </tr>\n",
       "    <tr>\n",
       "      <th>3.109700</th>\n",
       "      <td>0.0</td>\n",
       "      <td>4327.0</td>\n",
       "      <td>0.0</td>\n",
       "      <td>218.0</td>\n",
       "      <td>0.0</td>\n",
       "      <td>2216.0</td>\n",
       "      <td>0.0</td>\n",
       "      <td>506.0</td>\n",
       "      <td>13051.0</td>\n",
       "      <td>0.0</td>\n",
       "      <td>...</td>\n",
       "      <td>0.0</td>\n",
       "      <td>0.0</td>\n",
       "      <td>0.0</td>\n",
       "      <td>0.0</td>\n",
       "      <td>0.0</td>\n",
       "      <td>0.0</td>\n",
       "      <td>0.0</td>\n",
       "      <td>0.0</td>\n",
       "      <td>0.0</td>\n",
       "      <td>0.0</td>\n",
       "    </tr>\n",
       "  </tbody>\n",
       "</table>\n",
       "<p>5 rows × 2057 columns</p>\n",
       "</div>"
      ],
      "text/plain": [
       "          204.9   52.1   155.0  104.1    53.1    207.0  155.8  105.0    54.1   \\\n",
       "3.086817  185.0  8090.0  225.0  166.0  40736.0  1851.0  193.0  365.0  21416.0   \n",
       "3.092533    0.0  6851.0    0.0    0.0  32048.0  2084.0    0.0    0.0  17080.0   \n",
       "3.098250    0.0  5660.0  203.0    0.0  24736.0  1931.0    0.0  568.0  15641.0   \n",
       "3.103983    0.0  4772.0  210.0  205.0  23920.0  2675.0    0.0    0.0  14445.0   \n",
       "3.109700    0.0  4327.0    0.0  218.0      0.0  2216.0    0.0  506.0  13051.0   \n",
       "\n",
       "          207.9  ...    326.6  251.2  316.2  354.4  331.6  105.7  268.5  \\\n",
       "3.086817  313.0  ...      0.0    0.0    0.0    0.0    0.0    0.0    0.0   \n",
       "3.092533    0.0  ...      0.0    0.0    0.0    0.0    0.0    0.0    0.0   \n",
       "3.098250    0.0  ...      0.0    0.0    0.0    0.0    0.0    0.0    0.0   \n",
       "3.103983    0.0  ...      0.0    0.0    0.0    0.0    0.0    0.0    0.0   \n",
       "3.109700    0.0  ...      0.0    0.0    0.0    0.0    0.0    0.0    0.0   \n",
       "\n",
       "          122.1  202.2  126.7  \n",
       "3.086817    0.0    0.0    0.0  \n",
       "3.092533    0.0    0.0    0.0  \n",
       "3.098250    0.0    0.0    0.0  \n",
       "3.103983    0.0    0.0    0.0  \n",
       "3.109700    0.0    0.0    0.0  \n",
       "\n",
       "[5 rows x 2057 columns]"
      ]
     },
     "execution_count": 20,
     "metadata": {},
     "output_type": "execute_result"
    }
   ],
   "source": [
    "agi.spectra['FA01.D'].head()"
   ]
  },
  {
   "cell_type": "markdown",
   "metadata": {},
   "source": [
    "## Acessing a Single Agilent Directory\n",
    "\n",
    "By default the `key` or directory name is index of the Agilent dataframes. Therefore, we can access the `RESULTS.CSV` and `DATA.MS` data for each `.D` individually through the standard pandas index selection procedure:"
   ]
  },
  {
   "cell_type": "code",
   "execution_count": null,
   "metadata": {},
   "outputs": [],
   "source": [
    "agi.results_tic.loc['FA01.D'].head()"
   ]
  },
  {
   "cell_type": "code",
   "execution_count": null,
   "metadata": {},
   "outputs": [],
   "source": [
    "agi.results_tic.loc['FA05.D'].head()"
   ]
  },
  {
   "cell_type": "markdown",
   "metadata": {
    "collapsed": true
   },
   "source": [
    "Calculating aggregate metrics across folders can also be done efficiently using standard pandas methods:"
   ]
  },
  {
   "cell_type": "code",
   "execution_count": null,
   "metadata": {},
   "outputs": [],
   "source": [
    "metrics = {'min': 'min', 'max': 'max', 'mean': 'mean'}\n",
    "agi.results_tic.groupby(level=0).agg({'height': metrics, 'area': metrics})"
   ]
  },
  {
   "cell_type": "code",
   "execution_count": null,
   "metadata": {},
   "outputs": [],
   "source": [
    "%matplotlib inline\n",
    "\n",
    "agi.results_tic.groupby(level=0).agg({'height': metrics, 'area': metrics}).plot()"
   ]
  },
  {
   "cell_type": "markdown",
   "metadata": {},
   "source": [
    "## More on Chromatogram\n",
    "\n",
    "If we only access one folder, using the `AgilentGcmsDataMs` class then the `spectra` is not a single DataFrame rather than a dictionary."
   ]
  },
  {
   "cell_type": "code",
   "execution_count": 26,
   "metadata": {},
   "outputs": [],
   "source": [
    "from valence.build import AgilentGcmsDataMs"
   ]
  },
  {
   "cell_type": "code",
   "execution_count": 29,
   "metadata": {},
   "outputs": [],
   "source": [
    "datams = AgilentGcmsDataMs('data/test3/FA01.d/DATA.MS')"
   ]
  },
  {
   "cell_type": "code",
   "execution_count": 30,
   "metadata": {},
   "outputs": [
    {
     "data": {
      "text/html": [
       "<div>\n",
       "<table border=\"1\" class=\"dataframe\">\n",
       "  <thead>\n",
       "    <tr style=\"text-align: right;\">\n",
       "      <th></th>\n",
       "      <th>204.9</th>\n",
       "      <th>52.1</th>\n",
       "      <th>155.0</th>\n",
       "      <th>104.1</th>\n",
       "      <th>53.1</th>\n",
       "      <th>207.0</th>\n",
       "      <th>155.8</th>\n",
       "      <th>105.0</th>\n",
       "      <th>54.1</th>\n",
       "      <th>207.9</th>\n",
       "      <th>...</th>\n",
       "      <th>326.6</th>\n",
       "      <th>251.2</th>\n",
       "      <th>316.2</th>\n",
       "      <th>354.4</th>\n",
       "      <th>331.6</th>\n",
       "      <th>105.7</th>\n",
       "      <th>268.5</th>\n",
       "      <th>122.1</th>\n",
       "      <th>202.2</th>\n",
       "      <th>126.7</th>\n",
       "    </tr>\n",
       "  </thead>\n",
       "  <tbody>\n",
       "    <tr>\n",
       "      <th>3.086817</th>\n",
       "      <td>185.0</td>\n",
       "      <td>8090.0</td>\n",
       "      <td>225.0</td>\n",
       "      <td>166.0</td>\n",
       "      <td>40736.0</td>\n",
       "      <td>1851.0</td>\n",
       "      <td>193.0</td>\n",
       "      <td>365.0</td>\n",
       "      <td>21416.0</td>\n",
       "      <td>313.0</td>\n",
       "      <td>...</td>\n",
       "      <td>0.0</td>\n",
       "      <td>0.0</td>\n",
       "      <td>0.0</td>\n",
       "      <td>0.0</td>\n",
       "      <td>0.0</td>\n",
       "      <td>0.0</td>\n",
       "      <td>0.0</td>\n",
       "      <td>0.0</td>\n",
       "      <td>0.0</td>\n",
       "      <td>0.0</td>\n",
       "    </tr>\n",
       "    <tr>\n",
       "      <th>3.092533</th>\n",
       "      <td>0.0</td>\n",
       "      <td>6851.0</td>\n",
       "      <td>0.0</td>\n",
       "      <td>0.0</td>\n",
       "      <td>32048.0</td>\n",
       "      <td>2084.0</td>\n",
       "      <td>0.0</td>\n",
       "      <td>0.0</td>\n",
       "      <td>17080.0</td>\n",
       "      <td>0.0</td>\n",
       "      <td>...</td>\n",
       "      <td>0.0</td>\n",
       "      <td>0.0</td>\n",
       "      <td>0.0</td>\n",
       "      <td>0.0</td>\n",
       "      <td>0.0</td>\n",
       "      <td>0.0</td>\n",
       "      <td>0.0</td>\n",
       "      <td>0.0</td>\n",
       "      <td>0.0</td>\n",
       "      <td>0.0</td>\n",
       "    </tr>\n",
       "    <tr>\n",
       "      <th>3.098250</th>\n",
       "      <td>0.0</td>\n",
       "      <td>5660.0</td>\n",
       "      <td>203.0</td>\n",
       "      <td>0.0</td>\n",
       "      <td>24736.0</td>\n",
       "      <td>1931.0</td>\n",
       "      <td>0.0</td>\n",
       "      <td>568.0</td>\n",
       "      <td>15641.0</td>\n",
       "      <td>0.0</td>\n",
       "      <td>...</td>\n",
       "      <td>0.0</td>\n",
       "      <td>0.0</td>\n",
       "      <td>0.0</td>\n",
       "      <td>0.0</td>\n",
       "      <td>0.0</td>\n",
       "      <td>0.0</td>\n",
       "      <td>0.0</td>\n",
       "      <td>0.0</td>\n",
       "      <td>0.0</td>\n",
       "      <td>0.0</td>\n",
       "    </tr>\n",
       "    <tr>\n",
       "      <th>3.103983</th>\n",
       "      <td>0.0</td>\n",
       "      <td>4772.0</td>\n",
       "      <td>210.0</td>\n",
       "      <td>205.0</td>\n",
       "      <td>23920.0</td>\n",
       "      <td>2675.0</td>\n",
       "      <td>0.0</td>\n",
       "      <td>0.0</td>\n",
       "      <td>14445.0</td>\n",
       "      <td>0.0</td>\n",
       "      <td>...</td>\n",
       "      <td>0.0</td>\n",
       "      <td>0.0</td>\n",
       "      <td>0.0</td>\n",
       "      <td>0.0</td>\n",
       "      <td>0.0</td>\n",
       "      <td>0.0</td>\n",
       "      <td>0.0</td>\n",
       "      <td>0.0</td>\n",
       "      <td>0.0</td>\n",
       "      <td>0.0</td>\n",
       "    </tr>\n",
       "    <tr>\n",
       "      <th>3.109700</th>\n",
       "      <td>0.0</td>\n",
       "      <td>4327.0</td>\n",
       "      <td>0.0</td>\n",
       "      <td>218.0</td>\n",
       "      <td>0.0</td>\n",
       "      <td>2216.0</td>\n",
       "      <td>0.0</td>\n",
       "      <td>506.0</td>\n",
       "      <td>13051.0</td>\n",
       "      <td>0.0</td>\n",
       "      <td>...</td>\n",
       "      <td>0.0</td>\n",
       "      <td>0.0</td>\n",
       "      <td>0.0</td>\n",
       "      <td>0.0</td>\n",
       "      <td>0.0</td>\n",
       "      <td>0.0</td>\n",
       "      <td>0.0</td>\n",
       "      <td>0.0</td>\n",
       "      <td>0.0</td>\n",
       "      <td>0.0</td>\n",
       "    </tr>\n",
       "  </tbody>\n",
       "</table>\n",
       "<p>5 rows × 2057 columns</p>\n",
       "</div>"
      ],
      "text/plain": [
       "          204.9   52.1   155.0  104.1    53.1    207.0  155.8  105.0    54.1   \\\n",
       "3.086817  185.0  8090.0  225.0  166.0  40736.0  1851.0  193.0  365.0  21416.0   \n",
       "3.092533    0.0  6851.0    0.0    0.0  32048.0  2084.0    0.0    0.0  17080.0   \n",
       "3.098250    0.0  5660.0  203.0    0.0  24736.0  1931.0    0.0  568.0  15641.0   \n",
       "3.103983    0.0  4772.0  210.0  205.0  23920.0  2675.0    0.0    0.0  14445.0   \n",
       "3.109700    0.0  4327.0    0.0  218.0      0.0  2216.0    0.0  506.0  13051.0   \n",
       "\n",
       "          207.9  ...    326.6  251.2  316.2  354.4  331.6  105.7  268.5  \\\n",
       "3.086817  313.0  ...      0.0    0.0    0.0    0.0    0.0    0.0    0.0   \n",
       "3.092533    0.0  ...      0.0    0.0    0.0    0.0    0.0    0.0    0.0   \n",
       "3.098250    0.0  ...      0.0    0.0    0.0    0.0    0.0    0.0    0.0   \n",
       "3.103983    0.0  ...      0.0    0.0    0.0    0.0    0.0    0.0    0.0   \n",
       "3.109700    0.0  ...      0.0    0.0    0.0    0.0    0.0    0.0    0.0   \n",
       "\n",
       "          122.1  202.2  126.7  \n",
       "3.086817    0.0    0.0    0.0  \n",
       "3.092533    0.0    0.0    0.0  \n",
       "3.098250    0.0    0.0    0.0  \n",
       "3.103983    0.0    0.0    0.0  \n",
       "3.109700    0.0    0.0    0.0  \n",
       "\n",
       "[5 rows x 2057 columns]"
      ]
     },
     "execution_count": 30,
     "metadata": {},
     "output_type": "execute_result"
    }
   ],
   "source": [
    "datams.spectra.head()"
   ]
  },
  {
   "cell_type": "markdown",
   "metadata": {},
   "source": [
    "The chromatogram interface is still consistent."
   ]
  },
  {
   "cell_type": "code",
   "execution_count": 32,
   "metadata": {},
   "outputs": [
    {
     "data": {
      "text/html": [
       "<div>\n",
       "<table border=\"1\" class=\"dataframe\">\n",
       "  <thead>\n",
       "    <tr style=\"text-align: right;\">\n",
       "      <th></th>\n",
       "      <th>tic</th>\n",
       "      <th>tme</th>\n",
       "    </tr>\n",
       "  </thead>\n",
       "  <tbody>\n",
       "    <tr>\n",
       "      <th>0</th>\n",
       "      <td>3576027.0</td>\n",
       "      <td>3.086817</td>\n",
       "    </tr>\n",
       "    <tr>\n",
       "      <th>1</th>\n",
       "      <td>2654533.0</td>\n",
       "      <td>3.092533</td>\n",
       "    </tr>\n",
       "    <tr>\n",
       "      <th>2</th>\n",
       "      <td>2052596.0</td>\n",
       "      <td>3.098250</td>\n",
       "    </tr>\n",
       "    <tr>\n",
       "      <th>3</th>\n",
       "      <td>1665840.0</td>\n",
       "      <td>3.103983</td>\n",
       "    </tr>\n",
       "    <tr>\n",
       "      <th>4</th>\n",
       "      <td>1409909.0</td>\n",
       "      <td>3.109700</td>\n",
       "    </tr>\n",
       "  </tbody>\n",
       "</table>\n",
       "</div>"
      ],
      "text/plain": [
       "         tic       tme\n",
       "0  3576027.0  3.086817\n",
       "1  2654533.0  3.092533\n",
       "2  2052596.0  3.098250\n",
       "3  1665840.0  3.103983\n",
       "4  1409909.0  3.109700"
      ]
     },
     "execution_count": 32,
     "metadata": {},
     "output_type": "execute_result"
    }
   ],
   "source": [
    "datams.chromatogram.head()"
   ]
  },
  {
   "cell_type": "markdown",
   "metadata": {},
   "source": [
    "__The Below Still works__\n",
    "\n",
    "(1) The sum of the rows. There area under each peak, plotted below, is proportional to concentration. This is the same as the tic vs. tme data previous.\n",
    "\n",
    "Below shows the plot someone would want to see to verify their data. This file is a standard curve meaning they put in a known concentration of 9 species which is reflected in the appearance of 9 distinct peaks"
   ]
  },
  {
   "cell_type": "code",
   "execution_count": 33,
   "metadata": {},
   "outputs": [
    {
     "data": {
      "text/plain": [
       "<matplotlib.axes._subplots.AxesSubplot at 0x110a92a20>"
      ]
     },
     "execution_count": 33,
     "metadata": {},
     "output_type": "execute_result"
    },
    {
     "data": {
      "image/png": "[encoded data removed]",
      "text/plain": [
       "<matplotlib.figure.Figure at 0x161a797f0>"
      ]
     },
     "metadata": {},
     "output_type": "display_data"
    }
   ],
   "source": [
    "%matplotlib inline\n",
    "datams.spectra.sum(axis=1).plot()"
   ]
  },
  {
   "cell_type": "markdown",
   "metadata": {},
   "source": [
    "(2) For each time point there a X number of columns. Each column represents the strength of an ion at that timepoint. The ions are generated when a molecule hits the detector. Since only one compound (theorectically) is hitting the detector at that time(s) (the range from the beginning to the end of the peak), the pattern of the ion strenghts is a signature for that specific molecule. It is effectively a molecular fingerprint. Sometimes people like to look at this data, but more importantly people cross reference this data against a library and has the library tell them the molecule.\n",
    "\n",
    "Below is the molecular \"finger print\" for the peak around 15.1 min."
   ]
  },
  {
   "cell_type": "code",
   "execution_count": 34,
   "metadata": {},
   "outputs": [
    {
     "data": {
      "text/html": [
       "<div>\n",
       "<table border=\"1\" class=\"dataframe\">\n",
       "  <thead>\n",
       "    <tr style=\"text-align: right;\">\n",
       "      <th></th>\n",
       "      <th>15.1086666667</th>\n",
       "    </tr>\n",
       "  </thead>\n",
       "  <tbody>\n",
       "    <tr>\n",
       "      <th>50.1</th>\n",
       "      <td>0.0</td>\n",
       "    </tr>\n",
       "    <tr>\n",
       "      <th>50.2</th>\n",
       "      <td>0.0</td>\n",
       "    </tr>\n",
       "    <tr>\n",
       "      <th>50.6</th>\n",
       "      <td>0.0</td>\n",
       "    </tr>\n",
       "    <tr>\n",
       "      <th>50.7</th>\n",
       "      <td>0.0</td>\n",
       "    </tr>\n",
       "    <tr>\n",
       "      <th>50.8</th>\n",
       "      <td>0.0</td>\n",
       "    </tr>\n",
       "  </tbody>\n",
       "</table>\n",
       "</div>"
      ],
      "text/plain": [
       "      15.108667\n",
       "50.1        0.0\n",
       "50.2        0.0\n",
       "50.6        0.0\n",
       "50.7        0.0\n",
       "50.8        0.0"
      ]
     },
     "execution_count": 34,
     "metadata": {},
     "output_type": "execute_result"
    },
    {
     "data": {
      "image/png": "[encoded data removed]",
      "text/plain": [
       "<matplotlib.figure.Figure at 0x110879eb8>"
      ]
     },
     "metadata": {},
     "output_type": "display_data"
    }
   ],
   "source": [
    "import pandas as pd\n",
    "%matplotlib inline\n",
    "example_ion_df = pd.DataFrame(datams.spectra.iloc[2101,:]).sort_index()\n",
    "example_ion_df.plot()\n",
    "example_ion_df.head()"
   ]
  },
  {
   "cell_type": "markdown",
   "metadata": {},
   "source": [
    "A common feature of software that manipulates this data is that someone could click on a timepoint in the first plot and get a display of the second plot. Or have someway to specify a timepoint for which i want to see the ion profile."
   ]
  },
  {
   "cell_type": "code",
   "execution_count": null,
   "metadata": {
    "collapsed": true
   },
   "outputs": [],
   "source": []
  },
  {
   "cell_type": "code",
   "execution_count": null,
   "metadata": {
    "collapsed": true
   },
   "outputs": [],
   "source": []
  }
 ],
 "metadata": {
  "kernelspec": {
   "display_name": "Python 3",
   "language": "python",
   "name": "python3"
  },
  "language_info": {
   "codemirror_mode": {
    "name": "ipython",
    "version": 3
   },
   "file_extension": ".py",
   "mimetype": "text/x-python",
   "name": "python",
   "nbconvert_exporter": "python",
   "pygments_lexer": "ipython3",
   "version": "3.6.1"
  }
 },
 "nbformat": 4,
 "nbformat_minor": 2
}
