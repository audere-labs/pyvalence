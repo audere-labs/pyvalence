{
 "cells": [
  {
   "cell_type": "markdown",
   "metadata": {},
   "source": [
    "# Quantifying GCQuant for GCMS & GC-TIC\n",
    "\n",
    "\n",
    "\n",
    "To quantify GC data with GCQuant you will need three things:\n",
    "\n",
    "1. A dataframe containing library_ids with corresponding retention times\n",
    "2. A dataframe containing area with corresponding retention times\n",
    "3. A dataframe with calibration curve information.\n",
    "\n",
    "After reading in GCMS data, concentrations can be determined using gcquant. gcquant has the following hierarchy:\n",
    "\n",
    "- no one\n",
    "- no two\n",
    "- no three"
   ]
  },
  {
   "cell_type": "markdown",
   "metadata": {},
   "source": [
    "## LibraryIDs and Areas\n",
    "For this example we will use the GC - Agilent class to create the first two items. This is easily done with the code below. For a full description of the class look [here](https://github.com/blakeboswell/chemtbd/blob/master/example.ipynb)."
   ]
  },
  {
   "cell_type": "code",
   "execution_count": null,
   "metadata": {
    "collapsed": true
   },
   "outputs": [],
   "source": [
    "from chemtbd.io import Agilent\n",
    "agi = Agilent.from_root('data/test3')\n",
    "\n",
    "lib = agi.results_lib\n",
    "area = agi.results_tic"
   ]
  },
  {
   "cell_type": "code",
   "execution_count": null,
   "metadata": {},
   "outputs": [],
   "source": [
    "lib.head()"
   ]
  },
  {
   "cell_type": "code",
   "execution_count": null,
   "metadata": {},
   "outputs": [],
   "source": [
    "area.head()"
   ]
  },
  {
   "cell_type": "markdown",
   "metadata": {},
   "source": [
    "## Create Calibration DataFrame\n",
    "\n",
    "Great! Now that the species have a corresponding area, the next step is to create calibration curves. To create calibration curves the following 3 things will be needed, and this information will need to be captured in a dataframe.\n",
    "\n",
    "- identify files within the subfolder that contain calibration curve data\n",
    "- provide the known concentrations of each species in each file\n",
    "\n",
    "We recommend either putting the data into a csv file and importing it using pandas or creating a pandas dataframe. Below is how this can be performed. \n",
    "\n",
    "#### IMPORTANT: \n",
    "1. The dataframe headers must have a library_id column and the remaining columns should be the file names for each standard. \n",
    "2. Be sure the file names are exactly the same as the files in the subfolder including any extention in the name (e.g. \".D\").\n",
    "3. UNITS UNITS UNITS. The concentrations should be entered in molar (mol/L)."
   ]
  },
  {
   "cell_type": "code",
   "execution_count": null,
   "metadata": {},
   "outputs": [],
   "source": [
    "import pandas as pd\n",
    "standards = pd.read_csv('data/standards.csv')\n",
    "standards.head()"
   ]
  },
  {
   "cell_type": "markdown",
   "metadata": {},
   "source": [
    "## Analysis with GCQuant"
   ]
  },
  {
   "cell_type": "markdown",
   "metadata": {},
   "source": [
    "Now that we have everything we need, lets load the data into GCQuant and see what analysis is now available."
   ]
  },
  {
   "cell_type": "code",
   "execution_count": null,
   "metadata": {
    "collapsed": true
   },
   "outputs": [],
   "source": [
    "from chemtbd.io import GCQuant\n",
    "gcq = GCQuant(lib,area,standards)"
   ]
  },
  {
   "cell_type": "markdown",
   "metadata": {},
   "source": [
    "### Getting compiled data\n",
    "GCQuant compiled both the `lib` and the `area` dataframes which you provided to the class into one dataframe. The rows were matched based on the squared difference of the retention time from each row (i.e. each peak). As shown below this compiled dataframe is now available."
   ]
  },
  {
   "cell_type": "code",
   "execution_count": null,
   "metadata": {},
   "outputs": [],
   "source": [
    "gcq.compiled.head()"
   ]
  },
  {
   "cell_type": "markdown",
   "metadata": {},
   "source": [
    "### Calibration Curve Data\n",
    "The calibration curve data is now available as well. The class provides statistics as well as easily viable plots to make sure your curves area linear."
   ]
  },
  {
   "cell_type": "code",
   "execution_count": null,
   "metadata": {},
   "outputs": [],
   "source": [
    "gcq.stdcurves.head()"
   ]
  },
  {
   "cell_type": "markdown",
   "metadata": {},
   "source": [
    "It is good to make sure all of the correlations have a high r<sup>2</sup> for the linear fit. We can use `.sort('rvalue')` to order the dataframe by r<sup>2</sup> value from lowest to highest."
   ]
  },
  {
   "cell_type": "code",
   "execution_count": null,
   "metadata": {},
   "outputs": [],
   "source": [
    "gcq.stdcurves.sort('rvalue').head()"
   ]
  },
  {
   "cell_type": "markdown",
   "metadata": {},
   "source": [
    "### Quantifying Concentrations"
   ]
  },
  {
   "cell_type": "markdown",
   "metadata": {},
   "source": [
    "Now that we know our calibration curves have a good linear fit, we can easily calculate the unknown concentrations of each species using GCQuants `.concentrations` property."
   ]
  },
  {
   "cell_type": "code",
   "execution_count": null,
   "metadata": {},
   "outputs": [],
   "source": [
    "gcq.concentrations.head()"
   ]
  },
  {
   "cell_type": "markdown",
   "metadata": {},
   "source": [
    "Nice! We now have the calculated concentrations in the `conc` column.  Addtionally GCQuant has provided the normalized concentration, `conc%`, and normalized area, `area%`.\n",
    "\n",
    "But the dataframe isn't always the best way to view the results. GCQuant has a few built in reporting methods to easily \"see\" your results"
   ]
  },
  {
   "cell_type": "markdown",
   "metadata": {},
   "source": [
    "## Report Results\n",
    "### Pivot Table \n",
    "Pivot tables are generally a nice way of organizing printing data. The `.pivot` method is relatively simple to implement on your own. If there are other cases which could be useful below is an example of creating our own pivot table with pandas `.pivot_table` method.\n",
    "\n",
    "*Note: it is important to reset the index of the gcq.concentrations dataframe so the `key` is then a column and not the index.*"
   ]
  },
  {
   "cell_type": "code",
   "execution_count": null,
   "metadata": {},
   "outputs": [],
   "source": [
    "pd.pivot_table(gcq.concentrations.reset_index(),\n",
    "               index='library_id',\n",
    "               columns='key',\n",
    "               values='conc').head()"
   ]
  },
  {
   "cell_type": "markdown",
   "metadata": {},
   "source": [
    "We can also just look at our experimental data without the standard curve data by simply calling `gcq.concentrations_exp`. Similarly, we can get just the standard curve data `gcq.concentrations_std` and place either in a pivot table."
   ]
  },
  {
   "cell_type": "code",
   "execution_count": null,
   "metadata": {},
   "outputs": [],
   "source": [
    "pd.pivot_table(gcq.concentrations_exp.reset_index(),\n",
    "               index='library_id',\n",
    "               columns='key',\n",
    "               values='conc').head()"
   ]
  },
  {
   "cell_type": "code",
   "execution_count": null,
   "metadata": {},
   "outputs": [],
   "source": [
    "pd.pivot_table(gcq.concentrations_std.reset_index(),\n",
    "               index='library_id',\n",
    "               columns='key',\n",
    "               values='conc').head()"
   ]
  },
  {
   "cell_type": "markdown",
   "metadata": {},
   "source": [
    "### Bar Plots"
   ]
  },
  {
   "cell_type": "markdown",
   "metadata": {
    "collapsed": true
   },
   "source": [
    "Your data can easily be plotted with GCQuant. There are many plotting packages available in python, but here Bokeh is used to prepare a few simple examples which you can use as a quick check or to build upon.\n",
    "\n",
    "Bokeh has very good documentation so detailed explanation of the code can be understood by referencing Bokeh's documentation.\n",
    "\n",
    "First import the required classes"
   ]
  },
  {
   "cell_type": "code",
   "execution_count": null,
   "metadata": {},
   "outputs": [],
   "source": [
    "from bokeh.charts import Bar, show, output_notebook\n",
    "from bokeh.layouts import row"
   ]
  },
  {
   "cell_type": "markdown",
   "metadata": {},
   "source": [
    "To see the charts displayed in the notebook use the line below."
   ]
  },
  {
   "cell_type": "code",
   "execution_count": null,
   "metadata": {
    "collapsed": true
   },
   "outputs": [],
   "source": [
    "output_notebook()"
   ]
  },
  {
   "cell_type": "markdown",
   "metadata": {},
   "source": [
    "Now a bar chart of the concentration percents can be created"
   ]
  },
  {
   "cell_type": "code",
   "execution_count": null,
   "metadata": {
    "collapsed": true
   },
   "outputs": [],
   "source": [
    "bar_conc_per = Bar(gcq.concentrations_exp.reset_index(),\n",
    "                       label ='key',\n",
    "                       values = 'conc%',\n",
    "                       agg='sum',\n",
    "                       stack='library_id',\n",
    "                       title = 'Concentration Percentage')\n",
    "show(bar_conc_per)"
   ]
  },
  {
   "cell_type": "markdown",
   "metadata": {},
   "source": [
    "To plot absolute values we can create a similiar plot."
   ]
  },
  {
   "cell_type": "code",
   "execution_count": null,
   "metadata": {
    "collapsed": true
   },
   "outputs": [],
   "source": [
    "bar_conc_abs = Bar(gcq.concentrations_exp.reset_index(),\n",
    "                       label ='key',\n",
    "                       values = 'conc',\n",
    "                       agg='sum',\n",
    "                       stack='library_id',\n",
    "                       title = 'Concentration')\n",
    "show(bar_conc_abs)"
   ]
  },
  {
   "cell_type": "markdown",
   "metadata": {},
   "source": [
    "The same data but not stacked."
   ]
  },
  {
   "cell_type": "code",
   "execution_count": null,
   "metadata": {
    "collapsed": true
   },
   "outputs": [],
   "source": [
    "bar_conc_abs_nostack = Bar(gcq.concentrations_exp.reset_index(),\n",
    "                       label ='key',\n",
    "                       values = 'conc',\n",
    "                       group = 'library_id',\n",
    "                       title = 'Concentration')\n",
    "show(bar_conc_abs_nostack)"
   ]
  },
  {
   "cell_type": "markdown",
   "metadata": {},
   "source": [
    "Combining plots"
   ]
  },
  {
   "cell_type": "code",
   "execution_count": null,
   "metadata": {
    "collapsed": true
   },
   "outputs": [],
   "source": [
    "show(row(bar_conc_per,bar_conc_abs_nostack)) "
   ]
  },
  {
   "cell_type": "code",
   "execution_count": null,
   "metadata": {
    "collapsed": true
   },
   "outputs": [],
   "source": []
  }
 ],
 "metadata": {
  "kernelspec": {
   "display_name": "Python 3",
   "language": "python",
   "name": "python3"
  },
  "language_info": {
   "codemirror_mode": {
    "name": "ipython",
    "version": 3
   },
   "file_extension": ".py",
   "mimetype": "text/x-python",
   "name": "python",
   "nbconvert_exporter": "python",
   "pygments_lexer": "ipython3",
   "version": "3.6.1"
  }
 },
 "nbformat": 4,
 "nbformat_minor": 2
}
