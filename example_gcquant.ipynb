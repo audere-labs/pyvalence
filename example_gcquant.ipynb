{
 "cells": [
  {
   "cell_type": "markdown",
   "metadata": {},
   "source": [
    "# Quantifying with chemtbd\n",
    "\n",
    "After reading in GCMS data, concentrations can be determined using gcquant. gcquant has the following hierarchy:\n",
    "\n",
    "- no one\n",
    "- no two\n",
    "- no three\n",
    "\n",
    "The inputs to calculate concentrations are listed below:\n",
    "\n",
    "1. stfud\n",
    "dfdss\n"
   ]
  },
  {
   "cell_type": "markdown",
   "metadata": {},
   "source": [
    "## Import Data\n",
    "\n",
    "The first thing to do is get your GC data into a dataframe. Below is an example of how this is done with the Agilent class. For a full description of the class look [here](https://github.com/blakeboswell/chemtbd/blob/master/example.ipynb)."
   ]
  },
  {
   "cell_type": "code",
   "execution_count": 1,
   "metadata": {},
   "outputs": [],
   "source": [
    "from chemtbd.io import Agilent\n",
    "agi = Agilent.from_root('data/test3')"
   ]
  },
  {
   "cell_type": "markdown",
   "metadata": {},
   "source": [
    "Now import the GCQuant class:"
   ]
  },
  {
   "cell_type": "code",
   "execution_count": 2,
   "metadata": {
    "collapsed": true
   },
   "outputs": [],
   "source": [
    "from chemtbd.io import GCQuant"
   ]
  },
  {
   "cell_type": "markdown",
   "metadata": {},
   "source": [
    "## Align Peaks on Retention time"
   ]
  },
  {
   "cell_type": "markdown",
   "metadata": {},
   "source": [
    "The next task is to matchup the identified species `.results_lib` to the integrated areas `.results_tic` and/or `.results_fid`. "
   ]
  },
  {
   "cell_type": "code",
   "execution_count": 3,
   "metadata": {},
   "outputs": [
    {
     "data": {
      "text/html": [
       "<div>\n",
       "<table border=\"1\" class=\"dataframe\">\n",
       "  <thead>\n",
       "    <tr style=\"text-align: right;\">\n",
       "      <th></th>\n",
       "      <th>header=</th>\n",
       "      <th>pk</th>\n",
       "      <th>rt</th>\n",
       "      <th>pct_area</th>\n",
       "      <th>library_id</th>\n",
       "      <th>ref</th>\n",
       "      <th>cas</th>\n",
       "      <th>qual</th>\n",
       "    </tr>\n",
       "    <tr>\n",
       "      <th>key</th>\n",
       "      <th></th>\n",
       "      <th></th>\n",
       "      <th></th>\n",
       "      <th></th>\n",
       "      <th></th>\n",
       "      <th></th>\n",
       "      <th></th>\n",
       "      <th></th>\n",
       "    </tr>\n",
       "  </thead>\n",
       "  <tbody>\n",
       "    <tr>\n",
       "      <th>FA03.D</th>\n",
       "      <td>1=</td>\n",
       "      <td>1.0</td>\n",
       "      <td>5.7877</td>\n",
       "      <td>2.0335</td>\n",
       "      <td>Methyl octanoate</td>\n",
       "      <td>17.0</td>\n",
       "      <td>000000-00-0</td>\n",
       "      <td>96.0</td>\n",
       "    </tr>\n",
       "    <tr>\n",
       "      <th>FA03.D</th>\n",
       "      <td>2=</td>\n",
       "      <td>2.0</td>\n",
       "      <td>7.3441</td>\n",
       "      <td>3.4015</td>\n",
       "      <td>Methyl decanoate</td>\n",
       "      <td>1.0</td>\n",
       "      <td>000000-00-0</td>\n",
       "      <td>98.0</td>\n",
       "    </tr>\n",
       "    <tr>\n",
       "      <th>FA03.D</th>\n",
       "      <td>3=</td>\n",
       "      <td>3.0</td>\n",
       "      <td>8.0364</td>\n",
       "      <td>1.7448</td>\n",
       "      <td>Methyl undecanoate</td>\n",
       "      <td>2.0</td>\n",
       "      <td>000000-00-0</td>\n",
       "      <td>98.0</td>\n",
       "    </tr>\n",
       "    <tr>\n",
       "      <th>FA03.D</th>\n",
       "      <td>4=</td>\n",
       "      <td>4.0</td>\n",
       "      <td>8.6715</td>\n",
       "      <td>3.9674</td>\n",
       "      <td>Methyl dodecanoate</td>\n",
       "      <td>3.0</td>\n",
       "      <td>000000-00-0</td>\n",
       "      <td>98.0</td>\n",
       "    </tr>\n",
       "    <tr>\n",
       "      <th>FA03.D</th>\n",
       "      <td>5=</td>\n",
       "      <td>5.0</td>\n",
       "      <td>9.2781</td>\n",
       "      <td>1.9607</td>\n",
       "      <td>Methyl tridecanoate</td>\n",
       "      <td>4.0</td>\n",
       "      <td>000000-00-0</td>\n",
       "      <td>99.0</td>\n",
       "    </tr>\n",
       "  </tbody>\n",
       "</table>\n",
       "</div>"
      ],
      "text/plain": [
       "       header=   pk      rt  pct_area           library_id   ref          cas  \\\n",
       "key                                                                             \n",
       "FA03.D      1=  1.0  5.7877    2.0335     Methyl octanoate  17.0  000000-00-0   \n",
       "FA03.D      2=  2.0  7.3441    3.4015     Methyl decanoate   1.0  000000-00-0   \n",
       "FA03.D      3=  3.0  8.0364    1.7448   Methyl undecanoate   2.0  000000-00-0   \n",
       "FA03.D      4=  4.0  8.6715    3.9674   Methyl dodecanoate   3.0  000000-00-0   \n",
       "FA03.D      5=  5.0  9.2781    1.9607  Methyl tridecanoate   4.0  000000-00-0   \n",
       "\n",
       "        qual  \n",
       "key           \n",
       "FA03.D  96.0  \n",
       "FA03.D  98.0  \n",
       "FA03.D  98.0  \n",
       "FA03.D  98.0  \n",
       "FA03.D  99.0  "
      ]
     },
     "execution_count": 3,
     "metadata": {},
     "output_type": "execute_result"
    }
   ],
   "source": [
    "agi.results_lib.head()"
   ]
  },
  {
   "cell_type": "markdown",
   "metadata": {},
   "source": [
    "Calling the class with the library and area dataframes will make available `qnt.matched` which is where the matched dataframe is stored."
   ]
  },
  {
   "cell_type": "code",
   "execution_count": 4,
   "metadata": {},
   "outputs": [
    {
     "ename": "AttributeError",
     "evalue": "'GCQuant' object has no attribute '_matchlib2area'",
     "output_type": "error",
     "traceback": [
      "\u001b[1;31m---------------------------------------------------------------------------\u001b[0m",
      "\u001b[1;31mAttributeError\u001b[0m                            Traceback (most recent call last)",
      "\u001b[1;32m<ipython-input-4-51e3b0d5ede3>\u001b[0m in \u001b[0;36m<module>\u001b[1;34m()\u001b[0m\n\u001b[1;32m----> 1\u001b[1;33m \u001b[0mqnt\u001b[0m \u001b[1;33m=\u001b[0m \u001b[0mGCQuant\u001b[0m\u001b[1;33m(\u001b[0m\u001b[0magi\u001b[0m\u001b[1;33m.\u001b[0m\u001b[0mresults_lib\u001b[0m\u001b[1;33m,\u001b[0m\u001b[0magi\u001b[0m\u001b[1;33m.\u001b[0m\u001b[0mresults_tic\u001b[0m\u001b[1;33m)\u001b[0m\u001b[1;33m\u001b[0m\u001b[0m\n\u001b[0m",
      "\u001b[1;32mC:\\Users\\Nolan\\Dropbox\\Audere Labs\\Projects\\chemtbd\\chemtbd\\io\\gcquant\\gcquant.py\u001b[0m in \u001b[0;36m__init__\u001b[1;34m(self, lib, area)\u001b[0m\n\u001b[0;32m     19\u001b[0m \u001b[1;33m\u001b[0m\u001b[0m\n\u001b[0;32m     20\u001b[0m     \u001b[1;32mdef\u001b[0m \u001b[0m__init__\u001b[0m\u001b[1;33m(\u001b[0m\u001b[0mself\u001b[0m\u001b[1;33m,\u001b[0m \u001b[0mlib\u001b[0m\u001b[1;33m,\u001b[0m \u001b[0marea\u001b[0m\u001b[1;33m)\u001b[0m\u001b[1;33m:\u001b[0m\u001b[1;33m\u001b[0m\u001b[0m\n\u001b[1;32m---> 21\u001b[1;33m         \u001b[0mself\u001b[0m\u001b[1;33m.\u001b[0m\u001b[0m_align\u001b[0m \u001b[1;33m=\u001b[0m \u001b[0mself\u001b[0m\u001b[1;33m.\u001b[0m\u001b[0m_matchlib2area\u001b[0m\u001b[1;33m(\u001b[0m\u001b[0mlib\u001b[0m\u001b[1;33m,\u001b[0m\u001b[0marea\u001b[0m\u001b[1;33m)\u001b[0m\u001b[1;33m\u001b[0m\u001b[0m\n\u001b[0m\u001b[0;32m     22\u001b[0m \u001b[1;33m\u001b[0m\u001b[0m\n\u001b[0;32m     23\u001b[0m     \u001b[1;33m@\u001b[0m\u001b[0mproperty\u001b[0m\u001b[1;33m\u001b[0m\u001b[0m\n",
      "\u001b[1;31mAttributeError\u001b[0m: 'GCQuant' object has no attribute '_matchlib2area'"
     ]
    }
   ],
   "source": [
    "qnt = GCQuant(agi.results_lib,agi.results_tic)"
   ]
  },
  {
   "cell_type": "code",
   "execution_count": null,
   "metadata": {},
   "outputs": [],
   "source": [
    "qnt.align.head()"
   ]
  },
  {
   "cell_type": "markdown",
   "metadata": {},
   "source": [
    "## Create Calibration Curves"
   ]
  },
  {
   "cell_type": "markdown",
   "metadata": {},
   "source": [
    "## Quantify Concentrations"
   ]
  },
  {
   "cell_type": "markdown",
   "metadata": {},
   "source": [
    "## Plot Results"
   ]
  },
  {
   "cell_type": "code",
   "execution_count": null,
   "metadata": {
    "collapsed": true
   },
   "outputs": [],
   "source": []
  }
 ],
 "metadata": {
  "kernelspec": {
   "display_name": "Python 3",
   "language": "python",
   "name": "python3"
  },
  "language_info": {
   "codemirror_mode": {
    "name": "ipython",
    "version": 3
   },
   "file_extension": ".py",
   "mimetype": "text/x-python",
   "name": "python",
   "nbconvert_exporter": "python",
   "pygments_lexer": "ipython3",
   "version": "3.6.1"
  }
 },
 "nbformat": 4,
 "nbformat_minor": 2
}
