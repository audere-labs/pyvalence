{
 "cells": [
  {
   "cell_type": "markdown",
   "metadata": {
    "collapsed": true
   },
   "source": [
    "## Reading Agilent Data Files with `chemtbd`\n",
    "\n",
    "The interface _will_ change so that things are more easily accessible ... aka less nested.  However, basic functionality is in place.  To import the Agilent reader model, run the following:\n",
    "\n",
    "> Note: Until we actually give `chemtbd` a name and structure it as a package, the below will only work if you're current working directory contains the `chemtbd` folder."
   ]
  },
  {
   "cell_type": "code",
   "execution_count": 5,
   "metadata": {
    "collapsed": true
   },
   "outputs": [],
   "source": [
    "from chemtbd.agilent import agilent_reader"
   ]
  },
  {
   "cell_type": "markdown",
   "metadata": {},
   "source": [
    "The `agilent_reader` module contains an object for reading Agilent directories named `Agilent`.  Use it as follows:"
   ]
  },
  {
   "cell_type": "code",
   "execution_count": 14,
   "metadata": {
    "collapsed": true
   },
   "outputs": [],
   "source": [
    "agi = agilent_reader.Agilent('data/FA13.D')"
   ]
  },
  {
   "cell_type": "markdown",
   "metadata": {
    "collapsed": true
   },
   "source": [
    "The `Agilent` object loads data lazily, so nothing has actually happened yet.  When we ask it for data, it will read the data from disk, structure it as a pandas DataFrame, store it in a cache and finally return it.  The next time we ask for the same data, the DataFrame is loaded from the cache.\n",
    "\n",
    "Currently there are two data access methods:\n",
    "- `results` - returns `tic`, `fid`, and `lib` tables from `RESULTS.csv`\n",
    "- `raw` - returns `tic` and `tme` series from `DATA.MS`\n",
    "\n",
    "Let's read in the `raw` data:"
   ]
  },
  {
   "cell_type": "code",
   "execution_count": 15,
   "metadata": {},
   "outputs": [
    {
     "data": {
      "text/html": [
       "<div>\n",
       "<table border=\"1\" class=\"dataframe\">\n",
       "  <thead>\n",
       "    <tr style=\"text-align: right;\">\n",
       "      <th></th>\n",
       "      <th>data_tic</th>\n",
       "      <th>data_tme</th>\n",
       "    </tr>\n",
       "  </thead>\n",
       "  <tbody>\n",
       "    <tr>\n",
       "      <th>0</th>\n",
       "      <td>3213002.0</td>\n",
       "      <td>3.086750</td>\n",
       "    </tr>\n",
       "    <tr>\n",
       "      <th>1</th>\n",
       "      <td>2360959.0</td>\n",
       "      <td>3.092483</td>\n",
       "    </tr>\n",
       "    <tr>\n",
       "      <th>2</th>\n",
       "      <td>1791725.0</td>\n",
       "      <td>3.098200</td>\n",
       "    </tr>\n",
       "    <tr>\n",
       "      <th>3</th>\n",
       "      <td>1451932.0</td>\n",
       "      <td>3.103917</td>\n",
       "    </tr>\n",
       "    <tr>\n",
       "      <th>4</th>\n",
       "      <td>1223875.0</td>\n",
       "      <td>3.109650</td>\n",
       "    </tr>\n",
       "  </tbody>\n",
       "</table>\n",
       "</div>"
      ],
      "text/plain": [
       "    data_tic  data_tme\n",
       "0  3213002.0  3.086750\n",
       "1  2360959.0  3.092483\n",
       "2  1791725.0  3.098200\n",
       "3  1451932.0  3.103917\n",
       "4  1223875.0  3.109650"
      ]
     },
     "execution_count": 15,
     "metadata": {},
     "output_type": "execute_result"
    }
   ],
   "source": [
    "raw = agi.raw()\n",
    "raw.head()"
   ]
  },
  {
   "cell_type": "markdown",
   "metadata": {
    "collapsed": true
   },
   "source": [
    "The process is similar for `results`:"
   ]
  },
  {
   "cell_type": "code",
   "execution_count": 16,
   "metadata": {},
   "outputs": [
    {
     "data": {
      "text/html": [
       "<div>\n",
       "<table border=\"1\" class=\"dataframe\">\n",
       "  <thead>\n",
       "    <tr style=\"text-align: right;\">\n",
       "      <th></th>\n",
       "      <th>tic_header=</th>\n",
       "      <th>tic_peak</th>\n",
       "      <th>tic_rt</th>\n",
       "      <th>tic_first</th>\n",
       "      <th>tic_max</th>\n",
       "      <th>tic_last</th>\n",
       "      <th>tic_pk_ty</th>\n",
       "      <th>tic_height</th>\n",
       "      <th>tic_area</th>\n",
       "      <th>tic_pct_max</th>\n",
       "      <th>tic_pct_total</th>\n",
       "      <th>lib_Header=</th>\n",
       "      <th>lib_pk</th>\n",
       "      <th>lib_rt</th>\n",
       "      <th>lib_pct_area</th>\n",
       "      <th>lib_library_id</th>\n",
       "      <th>lib_ref</th>\n",
       "      <th>lib_cas</th>\n",
       "      <th>lib_qual</th>\n",
       "    </tr>\n",
       "  </thead>\n",
       "  <tbody>\n",
       "    <tr>\n",
       "      <th>0</th>\n",
       "      <td>1=</td>\n",
       "      <td>1</td>\n",
       "      <td>9.867</td>\n",
       "      <td>1174</td>\n",
       "      <td>1186</td>\n",
       "      <td>1219</td>\n",
       "      <td>rVB</td>\n",
       "      <td>88219</td>\n",
       "      <td>251790</td>\n",
       "      <td>4.16</td>\n",
       "      <td>1.732</td>\n",
       "      <td>1=</td>\n",
       "      <td>1.0</td>\n",
       "      <td>9.8673</td>\n",
       "      <td>1.7321</td>\n",
       "      <td>Methyl myristate</td>\n",
       "      <td>6.0</td>\n",
       "      <td>000000-00-0</td>\n",
       "      <td>97.0</td>\n",
       "    </tr>\n",
       "    <tr>\n",
       "      <th>1</th>\n",
       "      <td>2=</td>\n",
       "      <td>2</td>\n",
       "      <td>10.829</td>\n",
       "      <td>1349</td>\n",
       "      <td>1354</td>\n",
       "      <td>1364</td>\n",
       "      <td>rVV</td>\n",
       "      <td>956983</td>\n",
       "      <td>1330700</td>\n",
       "      <td>22.00</td>\n",
       "      <td>9.154</td>\n",
       "      <td>2=</td>\n",
       "      <td>3.0</td>\n",
       "      <td>10.9316</td>\n",
       "      <td>13.5256</td>\n",
       "      <td>Methyl palmitoleate</td>\n",
       "      <td>9.0</td>\n",
       "      <td>000000-00-0</td>\n",
       "      <td>99.0</td>\n",
       "    </tr>\n",
       "    <tr>\n",
       "      <th>2</th>\n",
       "      <td>3=</td>\n",
       "      <td>3</td>\n",
       "      <td>10.932</td>\n",
       "      <td>1364</td>\n",
       "      <td>1372</td>\n",
       "      <td>1386</td>\n",
       "      <td>rVV</td>\n",
       "      <td>1266157</td>\n",
       "      <td>1966188</td>\n",
       "      <td>32.50</td>\n",
       "      <td>13.526</td>\n",
       "      <td>3=</td>\n",
       "      <td>4.0</td>\n",
       "      <td>11.0460</td>\n",
       "      <td>41.6107</td>\n",
       "      <td>Methyl palmitate</td>\n",
       "      <td>10.0</td>\n",
       "      <td>000000-00-0</td>\n",
       "      <td>97.0</td>\n",
       "    </tr>\n",
       "    <tr>\n",
       "      <th>3</th>\n",
       "      <td>4=</td>\n",
       "      <td>4</td>\n",
       "      <td>11.046</td>\n",
       "      <td>1386</td>\n",
       "      <td>1392</td>\n",
       "      <td>1419</td>\n",
       "      <td>rVB</td>\n",
       "      <td>4142556</td>\n",
       "      <td>6048885</td>\n",
       "      <td>100.00</td>\n",
       "      <td>41.611</td>\n",
       "      <td>4=</td>\n",
       "      <td>7.0</td>\n",
       "      <td>12.1732</td>\n",
       "      <td>29.3428</td>\n",
       "      <td>cis-9-Oleic methyl ester</td>\n",
       "      <td>33.0</td>\n",
       "      <td>000000-00-0</td>\n",
       "      <td>94.0</td>\n",
       "    </tr>\n",
       "    <tr>\n",
       "      <th>4</th>\n",
       "      <td>5=</td>\n",
       "      <td>5</td>\n",
       "      <td>11.344</td>\n",
       "      <td>1438</td>\n",
       "      <td>1444</td>\n",
       "      <td>1459</td>\n",
       "      <td>rBV</td>\n",
       "      <td>117494</td>\n",
       "      <td>191196</td>\n",
       "      <td>3.16</td>\n",
       "      <td>1.315</td>\n",
       "      <td>5=</td>\n",
       "      <td>8.0</td>\n",
       "      <td>12.3220</td>\n",
       "      <td>1.5754</td>\n",
       "      <td>Methyl stearate</td>\n",
       "      <td>19.0</td>\n",
       "      <td>000000-00-0</td>\n",
       "      <td>98.0</td>\n",
       "    </tr>\n",
       "  </tbody>\n",
       "</table>\n",
       "</div>"
      ],
      "text/plain": [
       "  tic_header=  tic_peak  tic_rt  tic_first  tic_max  tic_last tic_pk_ty  \\\n",
       "0          1=         1   9.867       1174     1186      1219      rVB    \n",
       "1          2=         2  10.829       1349     1354      1364      rVV    \n",
       "2          3=         3  10.932       1364     1372      1386      rVV    \n",
       "3          4=         4  11.046       1386     1392      1419      rVB    \n",
       "4          5=         5  11.344       1438     1444      1459      rBV    \n",
       "\n",
       "   tic_height  tic_area  tic_pct_max  tic_pct_total lib_Header=  lib_pk  \\\n",
       "0       88219    251790         4.16          1.732          1=     1.0   \n",
       "1      956983   1330700        22.00          9.154          2=     3.0   \n",
       "2     1266157   1966188        32.50         13.526          3=     4.0   \n",
       "3     4142556   6048885       100.00         41.611          4=     7.0   \n",
       "4      117494    191196         3.16          1.315          5=     8.0   \n",
       "\n",
       "    lib_rt  lib_pct_area            lib_library_id  lib_ref      lib_cas  \\\n",
       "0   9.8673        1.7321          Methyl myristate      6.0  000000-00-0   \n",
       "1  10.9316       13.5256       Methyl palmitoleate      9.0  000000-00-0   \n",
       "2  11.0460       41.6107          Methyl palmitate     10.0  000000-00-0   \n",
       "3  12.1732       29.3428  cis-9-Oleic methyl ester     33.0  000000-00-0   \n",
       "4  12.3220        1.5754           Methyl stearate     19.0  000000-00-0   \n",
       "\n",
       "   lib_qual  \n",
       "0      97.0  \n",
       "1      99.0  \n",
       "2      97.0  \n",
       "3      94.0  \n",
       "4      98.0  "
      ]
     },
     "execution_count": 16,
     "metadata": {},
     "output_type": "execute_result"
    }
   ],
   "source": [
    "results = agi.results()\n",
    "results.head()"
   ]
  },
  {
   "cell_type": "markdown",
   "metadata": {},
   "source": [
    "Go to town plotting and analyzing. \n",
    "\n",
    "Next data to import is the `fid` tables from `results.csv`"
   ]
  },
  {
   "cell_type": "code",
   "execution_count": null,
   "metadata": {
    "collapsed": true
   },
   "outputs": [],
   "source": []
  }
 ],
 "metadata": {
  "kernelspec": {
   "display_name": "Python 3",
   "language": "python",
   "name": "python3"
  },
  "language_info": {
   "codemirror_mode": {
    "name": "ipython",
    "version": 3
   },
   "file_extension": ".py",
   "mimetype": "text/x-python",
   "name": "python",
   "nbconvert_exporter": "python",
   "pygments_lexer": "ipython3",
   "version": "3.6.1"
  }
 },
 "nbformat": 4,
 "nbformat_minor": 2
}
