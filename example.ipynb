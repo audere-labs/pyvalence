{
 "cells": [
  {
   "cell_type": "markdown",
   "metadata": {
    "collapsed": true
   },
   "source": [
    "# Reading Agilent GCMS Files with `chemtbd`\n",
    "\n",
    "> __NOTE__: We need a name.  See [issue 3](https://github.com/blakeboswell/chemtbd/issues/3).\n",
    "\n",
    "Currently there is a hiearchy of objects for reading GCMS data:\n",
    "\n",
    "- `GcmsDir` object will read `RESULTS.csv` and `DATA.MS` from a single Agilent `.D` directory\n",
    "- `GcmsData` object will read a `DATA.MS` file\n",
    "- `GcmsResults` object will read a `RESULTS.csv` file\n",
    "\n",
    "These objects are available for import and direct use.  However, the main interface for file reading is the `chemtbd.io.Agilent` object which is a wrapper for the above methods.\n",
    "\n",
    "To use `chemtbd.io.Agilent`, import it as follows.  The directory that contains the `chemtbd` folder has to be the working directory"
   ]
  },
  {
   "cell_type": "code",
   "execution_count": null,
   "metadata": {
    "collapsed": true
   },
   "outputs": [],
   "source": [
    "from chemtbd.io import Agilent"
   ]
  },
  {
   "cell_type": "markdown",
   "metadata": {},
   "source": [
    "`Agilent` provides three main read functions:\n",
    "\n",
    "- `from_dir` expects a path to single Agilent `.D` directory as input\n",
    "- `from_root` expects a path to a parent directory containing only `.D` directories as children\n",
    "- `from_list` expects a list of paths to Agilent `.D` directories\n",
    "\n",
    "For example, let's load all `.D` folders from the directory `data/test3`:"
   ]
  },
  {
   "cell_type": "code",
   "execution_count": null,
   "metadata": {
    "collapsed": true,
    "scrolled": false
   },
   "outputs": [],
   "source": [
    "agi = Agilent.from_root('data/test3')"
   ]
  },
  {
   "cell_type": "markdown",
   "metadata": {
    "collapsed": true
   },
   "source": [
    "Let's look at what `.D` folders loaded from the above directory:"
   ]
  },
  {
   "cell_type": "code",
   "execution_count": null,
   "metadata": {
    "collapsed": true
   },
   "outputs": [],
   "source": [
    "agi.keys()"
   ]
  },
  {
   "cell_type": "markdown",
   "metadata": {},
   "source": [
    "# Accessing all Files\n",
    "\n",
    "We can access the __RESULTS.CSV__ `lib`, `fid`, and `tic` tables from all Agilent directories as a single pandas DataFrame using the below commands."
   ]
  },
  {
   "cell_type": "code",
   "execution_count": null,
   "metadata": {
    "collapsed": true
   },
   "outputs": [],
   "source": [
    "agi.results_lib.head()"
   ]
  },
  {
   "cell_type": "code",
   "execution_count": null,
   "metadata": {
    "collapsed": true
   },
   "outputs": [],
   "source": [
    "agi.results_fid.head()"
   ]
  },
  {
   "cell_type": "markdown",
   "metadata": {},
   "source": [
    "We can access the __DATA.MS__ `tme` tables from all Agilent directories as a single pandas DataFrame using the below command.  The same command wil work for the `tic` table."
   ]
  },
  {
   "cell_type": "code",
   "execution_count": null,
   "metadata": {
    "collapsed": true
   },
   "outputs": [],
   "source": [
    "agi.datams.head()"
   ]
  },
  {
   "cell_type": "markdown",
   "metadata": {},
   "source": [
    "> __NOTE__:  `tme` and `tic` from `DATA.MS` should probably be in the same table.  see [issue 2](https://github.com/blakeboswell/chemtbd/issues/2) for discussion."
   ]
  },
  {
   "cell_type": "markdown",
   "metadata": {},
   "source": [
    "## Acessing a Single Agilent Directory\n",
    "\n",
    "By default the `key` or directory name is index of the Agilent dataframes. Therefore, we can access the `RESULTS.CSV` and `DATA.MS` data for each `.D` individually through the standard pandas index selection procedure:"
   ]
  },
  {
   "cell_type": "code",
   "execution_count": null,
   "metadata": {
    "collapsed": true
   },
   "outputs": [],
   "source": [
    "agi.results_tic.loc['FA01.D'].head()"
   ]
  },
  {
   "cell_type": "code",
   "execution_count": null,
   "metadata": {
    "collapsed": true
   },
   "outputs": [],
   "source": [
    "agi.results_tic.loc['FA05.D'].head()"
   ]
  },
  {
   "cell_type": "markdown",
   "metadata": {
    "collapsed": true
   },
   "source": [
    "Calculating aggregate metrics across folders can also be done efficiently using standard pandas methods:"
   ]
  },
  {
   "cell_type": "code",
   "execution_count": null,
   "metadata": {
    "collapsed": true
   },
   "outputs": [],
   "source": [
    "metrics = {'min': 'min', 'max': 'max', 'mean': 'mean'}\n",
    "agi.results_tic.groupby(level=0).agg({'height': metrics, 'area': metrics})"
   ]
  },
  {
   "cell_type": "code",
   "execution_count": null,
   "metadata": {
    "collapsed": true
   },
   "outputs": [],
   "source": [
    "%matplotlib inline\n",
    "\n",
    "agi.results_tic.groupby(level=0).agg({'height': metrics, 'area': metrics}).plot()"
   ]
  },
  {
   "cell_type": "markdown",
   "metadata": {},
   "source": [
    "## Chromatogram?\n",
    "\n",
    "Below is a temporary interface for accessing data from `DATA.MS` files... not sure what do do with this data yet."
   ]
  },
  {
   "cell_type": "code",
   "execution_count": 1,
   "metadata": {
    "collapsed": true
   },
   "outputs": [],
   "source": [
    "from chemtbd.io import GcmsData"
   ]
  },
  {
   "cell_type": "markdown",
   "metadata": {},
   "source": [
    "Read directly from single file (no stacking yet because not sure its stackable)"
   ]
  },
  {
   "cell_type": "code",
   "execution_count": 2,
   "metadata": {},
   "outputs": [],
   "source": [
    "gcms_data = GcmsData('data/test3/FA01.d/DATA.MS')"
   ]
  },
  {
   "cell_type": "code",
   "execution_count": 3,
   "metadata": {},
   "outputs": [],
   "source": [
    "chrom = gcms_data.chromatogram"
   ]
  },
  {
   "cell_type": "markdown",
   "metadata": {},
   "source": [
    "The resulting data frame has `index` equal to time and `coloumns` equal to ions."
   ]
  },
  {
   "cell_type": "code",
   "execution_count": 4,
   "metadata": {},
   "outputs": [
    {
     "data": {
      "text/html": [
       "<div>\n",
       "<table border=\"1\" class=\"dataframe\">\n",
       "  <thead>\n",
       "    <tr style=\"text-align: right;\">\n",
       "      <th></th>\n",
       "      <th>204.9</th>\n",
       "      <th>52.1</th>\n",
       "      <th>155.0</th>\n",
       "      <th>104.1</th>\n",
       "      <th>53.1</th>\n",
       "      <th>207.0</th>\n",
       "      <th>155.8</th>\n",
       "      <th>105.0</th>\n",
       "      <th>54.1</th>\n",
       "      <th>207.9</th>\n",
       "      <th>...</th>\n",
       "      <th>326.6</th>\n",
       "      <th>251.2</th>\n",
       "      <th>316.2</th>\n",
       "      <th>354.4</th>\n",
       "      <th>331.6</th>\n",
       "      <th>105.7</th>\n",
       "      <th>268.5</th>\n",
       "      <th>122.1</th>\n",
       "      <th>202.2</th>\n",
       "      <th>126.7</th>\n",
       "    </tr>\n",
       "  </thead>\n",
       "  <tbody>\n",
       "    <tr>\n",
       "      <th>3.086817</th>\n",
       "      <td>185.0</td>\n",
       "      <td>8090.0</td>\n",
       "      <td>225.0</td>\n",
       "      <td>166.0</td>\n",
       "      <td>40736.0</td>\n",
       "      <td>1851.0</td>\n",
       "      <td>193.0</td>\n",
       "      <td>365.0</td>\n",
       "      <td>21416.0</td>\n",
       "      <td>313.0</td>\n",
       "      <td>...</td>\n",
       "      <td>0.0</td>\n",
       "      <td>0.0</td>\n",
       "      <td>0.0</td>\n",
       "      <td>0.0</td>\n",
       "      <td>0.0</td>\n",
       "      <td>0.0</td>\n",
       "      <td>0.0</td>\n",
       "      <td>0.0</td>\n",
       "      <td>0.0</td>\n",
       "      <td>0.0</td>\n",
       "    </tr>\n",
       "    <tr>\n",
       "      <th>3.092533</th>\n",
       "      <td>0.0</td>\n",
       "      <td>6851.0</td>\n",
       "      <td>0.0</td>\n",
       "      <td>0.0</td>\n",
       "      <td>32048.0</td>\n",
       "      <td>2084.0</td>\n",
       "      <td>0.0</td>\n",
       "      <td>0.0</td>\n",
       "      <td>17080.0</td>\n",
       "      <td>0.0</td>\n",
       "      <td>...</td>\n",
       "      <td>0.0</td>\n",
       "      <td>0.0</td>\n",
       "      <td>0.0</td>\n",
       "      <td>0.0</td>\n",
       "      <td>0.0</td>\n",
       "      <td>0.0</td>\n",
       "      <td>0.0</td>\n",
       "      <td>0.0</td>\n",
       "      <td>0.0</td>\n",
       "      <td>0.0</td>\n",
       "    </tr>\n",
       "    <tr>\n",
       "      <th>3.098250</th>\n",
       "      <td>0.0</td>\n",
       "      <td>5660.0</td>\n",
       "      <td>203.0</td>\n",
       "      <td>0.0</td>\n",
       "      <td>24736.0</td>\n",
       "      <td>1931.0</td>\n",
       "      <td>0.0</td>\n",
       "      <td>568.0</td>\n",
       "      <td>15641.0</td>\n",
       "      <td>0.0</td>\n",
       "      <td>...</td>\n",
       "      <td>0.0</td>\n",
       "      <td>0.0</td>\n",
       "      <td>0.0</td>\n",
       "      <td>0.0</td>\n",
       "      <td>0.0</td>\n",
       "      <td>0.0</td>\n",
       "      <td>0.0</td>\n",
       "      <td>0.0</td>\n",
       "      <td>0.0</td>\n",
       "      <td>0.0</td>\n",
       "    </tr>\n",
       "    <tr>\n",
       "      <th>3.103983</th>\n",
       "      <td>0.0</td>\n",
       "      <td>4772.0</td>\n",
       "      <td>210.0</td>\n",
       "      <td>205.0</td>\n",
       "      <td>23920.0</td>\n",
       "      <td>2675.0</td>\n",
       "      <td>0.0</td>\n",
       "      <td>0.0</td>\n",
       "      <td>14445.0</td>\n",
       "      <td>0.0</td>\n",
       "      <td>...</td>\n",
       "      <td>0.0</td>\n",
       "      <td>0.0</td>\n",
       "      <td>0.0</td>\n",
       "      <td>0.0</td>\n",
       "      <td>0.0</td>\n",
       "      <td>0.0</td>\n",
       "      <td>0.0</td>\n",
       "      <td>0.0</td>\n",
       "      <td>0.0</td>\n",
       "      <td>0.0</td>\n",
       "    </tr>\n",
       "    <tr>\n",
       "      <th>3.109700</th>\n",
       "      <td>0.0</td>\n",
       "      <td>4327.0</td>\n",
       "      <td>0.0</td>\n",
       "      <td>218.0</td>\n",
       "      <td>0.0</td>\n",
       "      <td>2216.0</td>\n",
       "      <td>0.0</td>\n",
       "      <td>506.0</td>\n",
       "      <td>13051.0</td>\n",
       "      <td>0.0</td>\n",
       "      <td>...</td>\n",
       "      <td>0.0</td>\n",
       "      <td>0.0</td>\n",
       "      <td>0.0</td>\n",
       "      <td>0.0</td>\n",
       "      <td>0.0</td>\n",
       "      <td>0.0</td>\n",
       "      <td>0.0</td>\n",
       "      <td>0.0</td>\n",
       "      <td>0.0</td>\n",
       "      <td>0.0</td>\n",
       "    </tr>\n",
       "  </tbody>\n",
       "</table>\n",
       "<p>5 rows × 2057 columns</p>\n",
       "</div>"
      ],
      "text/plain": [
       "          204.9   52.1   155.0  104.1    53.1    207.0  155.8  105.0    54.1   \\\n",
       "3.086817  185.0  8090.0  225.0  166.0  40736.0  1851.0  193.0  365.0  21416.0   \n",
       "3.092533    0.0  6851.0    0.0    0.0  32048.0  2084.0    0.0    0.0  17080.0   \n",
       "3.098250    0.0  5660.0  203.0    0.0  24736.0  1931.0    0.0  568.0  15641.0   \n",
       "3.103983    0.0  4772.0  210.0  205.0  23920.0  2675.0    0.0    0.0  14445.0   \n",
       "3.109700    0.0  4327.0    0.0  218.0      0.0  2216.0    0.0  506.0  13051.0   \n",
       "\n",
       "          207.9  ...    326.6  251.2  316.2  354.4  331.6  105.7  268.5  \\\n",
       "3.086817  313.0  ...      0.0    0.0    0.0    0.0    0.0    0.0    0.0   \n",
       "3.092533    0.0  ...      0.0    0.0    0.0    0.0    0.0    0.0    0.0   \n",
       "3.098250    0.0  ...      0.0    0.0    0.0    0.0    0.0    0.0    0.0   \n",
       "3.103983    0.0  ...      0.0    0.0    0.0    0.0    0.0    0.0    0.0   \n",
       "3.109700    0.0  ...      0.0    0.0    0.0    0.0    0.0    0.0    0.0   \n",
       "\n",
       "          122.1  202.2  126.7  \n",
       "3.086817    0.0    0.0    0.0  \n",
       "3.092533    0.0    0.0    0.0  \n",
       "3.098250    0.0    0.0    0.0  \n",
       "3.103983    0.0    0.0    0.0  \n",
       "3.109700    0.0    0.0    0.0  \n",
       "\n",
       "[5 rows x 2057 columns]"
      ]
     },
     "execution_count": 4,
     "metadata": {},
     "output_type": "execute_result"
    }
   ],
   "source": [
    "chrom.head()"
   ]
  },
  {
   "cell_type": "code",
   "execution_count": null,
   "metadata": {},
   "outputs": [],
   "source": []
  },
  {
   "cell_type": "code",
   "execution_count": null,
   "metadata": {},
   "outputs": [],
   "source": []
  },
  {
   "cell_type": "code",
   "execution_count": null,
   "metadata": {
    "collapsed": true
   },
   "outputs": [],
   "source": []
  }
 ],
 "metadata": {
  "kernelspec": {
   "display_name": "Python 3",
   "language": "python",
   "name": "python3"
  },
  "language_info": {
   "codemirror_mode": {
    "name": "ipython",
    "version": 3
   },
   "file_extension": ".py",
   "mimetype": "text/x-python",
   "name": "python",
   "nbconvert_exporter": "python",
   "pygments_lexer": "ipython3",
   "version": "3.6.1"
  }
 },
 "nbformat": 4,
 "nbformat_minor": 2
}
