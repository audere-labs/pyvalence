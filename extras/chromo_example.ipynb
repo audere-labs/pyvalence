{
 "cells": [
  {
   "cell_type": "markdown",
   "metadata": {
    "collapsed": true
   },
   "source": [
    "# Reading Agilent GCMS Files with `chemtbd`\n",
    "\n",
    "Currently there is a hiearchy of objects for reading GCMS data:\n",
    "\n",
    "- `AgilentGcmsDataMs` object will read a `.D` `DATA.MS` file into `chromatogram` and `spectra` DataFrames.\n",
    "- `AgilentGcmsResults` object will read a `.D` `RESULTS.CSV` file into `tic`, `lib` and `fid` DataFrames.\n",
    "- `AgilentGcms` will read both `DATA.MS` and `RESULTS.CSV` into datat frames from one or more `.D` directories.\n",
    "\n",
    "To get started let's look at `AgilentGcms`:"
   ]
  },
  {
   "cell_type": "code",
   "execution_count": 1,
   "metadata": {
    "collapsed": true
   },
   "outputs": [],
   "source": [
    "import pandas as pd\n",
    "from valence.build import AgilentGcms"
   ]
  },
  {
   "cell_type": "markdown",
   "metadata": {},
   "source": [
    "`AgilentGcms` has three main constructors:\n",
    "\n",
    "- `from_dir` expects a path to single Agilent `.D` directory as input\n",
    "- `from_root` expects a path to a parent directory containing one or more `.D` directories as children\n",
    "- `()` expects a list of one or more paths to Agilent `.D` directories\n",
    "\n",
    "For example, let's load all `.D` folders from the directory `data/test3`:"
   ]
  },
  {
   "cell_type": "code",
   "execution_count": 2,
   "metadata": {
    "collapsed": true,
    "scrolled": false
   },
   "outputs": [],
   "source": [
    "agi = AgilentGcms.from_root('data/test3')"
   ]
  },
  {
   "cell_type": "markdown",
   "metadata": {
    "collapsed": true
   },
   "source": [
    "Let's look at what `.D` folders loaded from the above directory:"
   ]
  },
  {
   "cell_type": "code",
   "execution_count": 3,
   "metadata": {},
   "outputs": [
    {
     "data": {
      "text/plain": [
       "dict_keys(['FA01.D', 'FA02.D', 'FA03.D', 'FA04.D', 'FA05.D', 'FA06.D', 'FA07.D', 'FA08.D', 'FA09.D', 'FA10.D', 'FA11.D', 'FA12.D', 'FA13.D', 'FA14.D', 'FA15.D'])"
      ]
     },
     "execution_count": 3,
     "metadata": {},
     "output_type": "execute_result"
    }
   ],
   "source": [
    "agi.keys"
   ]
  },
  {
   "cell_type": "markdown",
   "metadata": {},
   "source": [
    "# Accessing all Files\n",
    "\n",
    "We can access the __RESULTS.CSV__ `lib`, `fid`, and `tic` tables from all Agilent directories as a single pandas DataFrame using the below commands."
   ]
  },
  {
   "cell_type": "code",
   "execution_count": 4,
   "metadata": {},
   "outputs": [
    {
     "data": {
      "text/html": [
       "<div>\n",
       "<table border=\"1\" class=\"dataframe\">\n",
       "  <thead>\n",
       "    <tr style=\"text-align: right;\">\n",
       "      <th></th>\n",
       "      <th>header=</th>\n",
       "      <th>pk</th>\n",
       "      <th>rt</th>\n",
       "      <th>pct_area</th>\n",
       "      <th>library_id</th>\n",
       "      <th>ref</th>\n",
       "      <th>cas</th>\n",
       "      <th>qual</th>\n",
       "    </tr>\n",
       "    <tr>\n",
       "      <th>key</th>\n",
       "      <th></th>\n",
       "      <th></th>\n",
       "      <th></th>\n",
       "      <th></th>\n",
       "      <th></th>\n",
       "      <th></th>\n",
       "      <th></th>\n",
       "      <th></th>\n",
       "    </tr>\n",
       "  </thead>\n",
       "  <tbody>\n",
       "    <tr>\n",
       "      <th>FA03.D</th>\n",
       "      <td>1=</td>\n",
       "      <td>1.0</td>\n",
       "      <td>5.7877</td>\n",
       "      <td>2.0335</td>\n",
       "      <td>Methyl octanoate</td>\n",
       "      <td>17.0</td>\n",
       "      <td>000000-00-0</td>\n",
       "      <td>96.0</td>\n",
       "    </tr>\n",
       "    <tr>\n",
       "      <th>FA03.D</th>\n",
       "      <td>2=</td>\n",
       "      <td>2.0</td>\n",
       "      <td>7.3441</td>\n",
       "      <td>3.4015</td>\n",
       "      <td>Methyl decanoate</td>\n",
       "      <td>1.0</td>\n",
       "      <td>000000-00-0</td>\n",
       "      <td>98.0</td>\n",
       "    </tr>\n",
       "    <tr>\n",
       "      <th>FA03.D</th>\n",
       "      <td>3=</td>\n",
       "      <td>3.0</td>\n",
       "      <td>8.0364</td>\n",
       "      <td>1.7448</td>\n",
       "      <td>Methyl undecanoate</td>\n",
       "      <td>2.0</td>\n",
       "      <td>000000-00-0</td>\n",
       "      <td>98.0</td>\n",
       "    </tr>\n",
       "    <tr>\n",
       "      <th>FA03.D</th>\n",
       "      <td>4=</td>\n",
       "      <td>4.0</td>\n",
       "      <td>8.6715</td>\n",
       "      <td>3.9674</td>\n",
       "      <td>Methyl dodecanoate</td>\n",
       "      <td>3.0</td>\n",
       "      <td>000000-00-0</td>\n",
       "      <td>98.0</td>\n",
       "    </tr>\n",
       "    <tr>\n",
       "      <th>FA03.D</th>\n",
       "      <td>5=</td>\n",
       "      <td>5.0</td>\n",
       "      <td>9.2781</td>\n",
       "      <td>1.9607</td>\n",
       "      <td>Methyl tridecanoate</td>\n",
       "      <td>4.0</td>\n",
       "      <td>000000-00-0</td>\n",
       "      <td>99.0</td>\n",
       "    </tr>\n",
       "  </tbody>\n",
       "</table>\n",
       "</div>"
      ],
      "text/plain": [
       "       header=   pk      rt  pct_area           library_id   ref          cas  \\\n",
       "key                                                                             \n",
       "FA03.D      1=  1.0  5.7877    2.0335     Methyl octanoate  17.0  000000-00-0   \n",
       "FA03.D      2=  2.0  7.3441    3.4015     Methyl decanoate   1.0  000000-00-0   \n",
       "FA03.D      3=  3.0  8.0364    1.7448   Methyl undecanoate   2.0  000000-00-0   \n",
       "FA03.D      4=  4.0  8.6715    3.9674   Methyl dodecanoate   3.0  000000-00-0   \n",
       "FA03.D      5=  5.0  9.2781    1.9607  Methyl tridecanoate   4.0  000000-00-0   \n",
       "\n",
       "        qual  \n",
       "key           \n",
       "FA03.D  96.0  \n",
       "FA03.D  98.0  \n",
       "FA03.D  98.0  \n",
       "FA03.D  98.0  \n",
       "FA03.D  99.0  "
      ]
     },
     "execution_count": 4,
     "metadata": {},
     "output_type": "execute_result"
    }
   ],
   "source": [
    "agi.results_lib.head()"
   ]
  },
  {
   "cell_type": "code",
   "execution_count": 5,
   "metadata": {},
   "outputs": [
    {
     "data": {
      "text/html": [
       "<div>\n",
       "<table border=\"1\" class=\"dataframe\">\n",
       "  <thead>\n",
       "    <tr style=\"text-align: right;\">\n",
       "      <th></th>\n",
       "      <th>header=</th>\n",
       "      <th>peak</th>\n",
       "      <th>rt</th>\n",
       "      <th>first</th>\n",
       "      <th>end</th>\n",
       "      <th>pk_ty</th>\n",
       "      <th>height</th>\n",
       "      <th>area</th>\n",
       "      <th>pct_max</th>\n",
       "      <th>pct_total</th>\n",
       "    </tr>\n",
       "    <tr>\n",
       "      <th>key</th>\n",
       "      <th></th>\n",
       "      <th></th>\n",
       "      <th></th>\n",
       "      <th></th>\n",
       "      <th></th>\n",
       "      <th></th>\n",
       "      <th></th>\n",
       "      <th></th>\n",
       "      <th></th>\n",
       "      <th></th>\n",
       "    </tr>\n",
       "  </thead>\n",
       "  <tbody>\n",
       "    <tr>\n",
       "      <th>FA03.D</th>\n",
       "      <td>1=</td>\n",
       "      <td>1</td>\n",
       "      <td>6.250716</td>\n",
       "      <td>5.938180</td>\n",
       "      <td>6.563252</td>\n",
       "      <td>M</td>\n",
       "      <td>2578080</td>\n",
       "      <td>14894660</td>\n",
       "      <td>1</td>\n",
       "      <td>1.962</td>\n",
       "    </tr>\n",
       "    <tr>\n",
       "      <th>FA03.D</th>\n",
       "      <td>2=</td>\n",
       "      <td>2</td>\n",
       "      <td>7.858187</td>\n",
       "      <td>7.465278</td>\n",
       "      <td>8.251096</td>\n",
       "      <td>M</td>\n",
       "      <td>9647430</td>\n",
       "      <td>24914490</td>\n",
       "      <td>1</td>\n",
       "      <td>3.282</td>\n",
       "    </tr>\n",
       "    <tr>\n",
       "      <th>FA03.D</th>\n",
       "      <td>3=</td>\n",
       "      <td>3</td>\n",
       "      <td>8.357856</td>\n",
       "      <td>7.939963</td>\n",
       "      <td>8.775749</td>\n",
       "      <td>M</td>\n",
       "      <td>6084180</td>\n",
       "      <td>12779820</td>\n",
       "      <td>1</td>\n",
       "      <td>1.683</td>\n",
       "    </tr>\n",
       "    <tr>\n",
       "      <th>FA03.D</th>\n",
       "      <td>4=</td>\n",
       "      <td>4</td>\n",
       "      <td>9.798795</td>\n",
       "      <td>9.308855</td>\n",
       "      <td>10.288735</td>\n",
       "      <td>M</td>\n",
       "      <td>19290490</td>\n",
       "      <td>29059610</td>\n",
       "      <td>1</td>\n",
       "      <td>3.828</td>\n",
       "    </tr>\n",
       "    <tr>\n",
       "      <th>FA03.D</th>\n",
       "      <td>5=</td>\n",
       "      <td>5</td>\n",
       "      <td>10.669815</td>\n",
       "      <td>10.136324</td>\n",
       "      <td>11.203306</td>\n",
       "      <td>M</td>\n",
       "      <td>8825210</td>\n",
       "      <td>14361540</td>\n",
       "      <td>1</td>\n",
       "      <td>1.892</td>\n",
       "    </tr>\n",
       "  </tbody>\n",
       "</table>\n",
       "</div>"
      ],
      "text/plain": [
       "       header=  peak         rt      first        end pk_ty    height  \\\n",
       "key                                                                     \n",
       "FA03.D      1=     1   6.250716   5.938180   6.563252     M   2578080   \n",
       "FA03.D      2=     2   7.858187   7.465278   8.251096     M   9647430   \n",
       "FA03.D      3=     3   8.357856   7.939963   8.775749     M   6084180   \n",
       "FA03.D      4=     4   9.798795   9.308855  10.288735     M  19290490   \n",
       "FA03.D      5=     5  10.669815  10.136324  11.203306     M   8825210   \n",
       "\n",
       "            area  pct_max  pct_total  \n",
       "key                                   \n",
       "FA03.D  14894660        1      1.962  \n",
       "FA03.D  24914490        1      3.282  \n",
       "FA03.D  12779820        1      1.683  \n",
       "FA03.D  29059610        1      3.828  \n",
       "FA03.D  14361540        1      1.892  "
      ]
     },
     "execution_count": 5,
     "metadata": {},
     "output_type": "execute_result"
    }
   ],
   "source": [
    "agi.results_fid.head()"
   ]
  },
  {
   "cell_type": "code",
   "execution_count": 6,
   "metadata": {},
   "outputs": [
    {
     "data": {
      "text/html": [
       "<div>\n",
       "<table border=\"1\" class=\"dataframe\">\n",
       "  <thead>\n",
       "    <tr style=\"text-align: right;\">\n",
       "      <th></th>\n",
       "      <th>header=</th>\n",
       "      <th>peak</th>\n",
       "      <th>rt</th>\n",
       "      <th>first</th>\n",
       "      <th>max</th>\n",
       "      <th>last</th>\n",
       "      <th>pk_ty</th>\n",
       "      <th>height</th>\n",
       "      <th>area</th>\n",
       "      <th>pct_max</th>\n",
       "      <th>pct_total</th>\n",
       "    </tr>\n",
       "    <tr>\n",
       "      <th>key</th>\n",
       "      <th></th>\n",
       "      <th></th>\n",
       "      <th></th>\n",
       "      <th></th>\n",
       "      <th></th>\n",
       "      <th></th>\n",
       "      <th></th>\n",
       "      <th></th>\n",
       "      <th></th>\n",
       "      <th></th>\n",
       "      <th></th>\n",
       "    </tr>\n",
       "  </thead>\n",
       "  <tbody>\n",
       "    <tr>\n",
       "      <th>FA01.D</th>\n",
       "      <td>1=</td>\n",
       "      <td>1.0</td>\n",
       "      <td>12.288</td>\n",
       "      <td>1600.0</td>\n",
       "      <td>1609.0</td>\n",
       "      <td>1647.0</td>\n",
       "      <td>rBV3</td>\n",
       "      <td>71023.0</td>\n",
       "      <td>478771.0</td>\n",
       "      <td>39.71</td>\n",
       "      <td>6.909</td>\n",
       "    </tr>\n",
       "    <tr>\n",
       "      <th>FA01.D</th>\n",
       "      <td>2=</td>\n",
       "      <td>2.0</td>\n",
       "      <td>13.598</td>\n",
       "      <td>1830.0</td>\n",
       "      <td>1838.0</td>\n",
       "      <td>1864.0</td>\n",
       "      <td>rBV2</td>\n",
       "      <td>247725.0</td>\n",
       "      <td>825285.0</td>\n",
       "      <td>68.46</td>\n",
       "      <td>11.910</td>\n",
       "    </tr>\n",
       "    <tr>\n",
       "      <th>FA01.D</th>\n",
       "      <td>3=</td>\n",
       "      <td>3.0</td>\n",
       "      <td>14.428</td>\n",
       "      <td>1977.0</td>\n",
       "      <td>1983.0</td>\n",
       "      <td>2004.0</td>\n",
       "      <td>rBV</td>\n",
       "      <td>481706.0</td>\n",
       "      <td>1098175.0</td>\n",
       "      <td>91.09</td>\n",
       "      <td>15.848</td>\n",
       "    </tr>\n",
       "    <tr>\n",
       "      <th>FA01.D</th>\n",
       "      <td>4=</td>\n",
       "      <td>4.0</td>\n",
       "      <td>15.080</td>\n",
       "      <td>2091.0</td>\n",
       "      <td>2097.0</td>\n",
       "      <td>2109.0</td>\n",
       "      <td>rBV</td>\n",
       "      <td>806692.0</td>\n",
       "      <td>1205528.0</td>\n",
       "      <td>100.00</td>\n",
       "      <td>17.397</td>\n",
       "    </tr>\n",
       "    <tr>\n",
       "      <th>FA01.D</th>\n",
       "      <td>5=</td>\n",
       "      <td>5.0</td>\n",
       "      <td>15.692</td>\n",
       "      <td>2198.0</td>\n",
       "      <td>2204.0</td>\n",
       "      <td>2215.0</td>\n",
       "      <td>rBV</td>\n",
       "      <td>731146.0</td>\n",
       "      <td>1085862.0</td>\n",
       "      <td>90.07</td>\n",
       "      <td>15.670</td>\n",
       "    </tr>\n",
       "  </tbody>\n",
       "</table>\n",
       "</div>"
      ],
      "text/plain": [
       "       header=  peak      rt   first     max    last pk_ty    height  \\\n",
       "key                                                                    \n",
       "FA01.D      1=   1.0  12.288  1600.0  1609.0  1647.0  rBV3   71023.0   \n",
       "FA01.D      2=   2.0  13.598  1830.0  1838.0  1864.0  rBV2  247725.0   \n",
       "FA01.D      3=   3.0  14.428  1977.0  1983.0  2004.0  rBV   481706.0   \n",
       "FA01.D      4=   4.0  15.080  2091.0  2097.0  2109.0  rBV   806692.0   \n",
       "FA01.D      5=   5.0  15.692  2198.0  2204.0  2215.0  rBV   731146.0   \n",
       "\n",
       "             area  pct_max  pct_total  \n",
       "key                                    \n",
       "FA01.D   478771.0    39.71      6.909  \n",
       "FA01.D   825285.0    68.46     11.910  \n",
       "FA01.D  1098175.0    91.09     15.848  \n",
       "FA01.D  1205528.0   100.00     17.397  \n",
       "FA01.D  1085862.0    90.07     15.670  "
      ]
     },
     "execution_count": 6,
     "metadata": {},
     "output_type": "execute_result"
    }
   ],
   "source": [
    "agi.results_tic.head()"
   ]
  },
  {
   "cell_type": "markdown",
   "metadata": {},
   "source": [
    "Similarly we can access the __DATA.MS__ `chromatogram` data from all directories:"
   ]
  },
  {
   "cell_type": "code",
   "execution_count": 7,
   "metadata": {},
   "outputs": [
    {
     "data": {
      "text/html": [
       "<div>\n",
       "<table border=\"1\" class=\"dataframe\">\n",
       "  <thead>\n",
       "    <tr style=\"text-align: right;\">\n",
       "      <th></th>\n",
       "      <th>tic</th>\n",
       "      <th>tme</th>\n",
       "    </tr>\n",
       "    <tr>\n",
       "      <th>key</th>\n",
       "      <th></th>\n",
       "      <th></th>\n",
       "    </tr>\n",
       "  </thead>\n",
       "  <tbody>\n",
       "    <tr>\n",
       "      <th>FA01.D</th>\n",
       "      <td>3576027.0</td>\n",
       "      <td>3.086817</td>\n",
       "    </tr>\n",
       "    <tr>\n",
       "      <th>FA01.D</th>\n",
       "      <td>2654533.0</td>\n",
       "      <td>3.092533</td>\n",
       "    </tr>\n",
       "    <tr>\n",
       "      <th>FA01.D</th>\n",
       "      <td>2052596.0</td>\n",
       "      <td>3.098250</td>\n",
       "    </tr>\n",
       "    <tr>\n",
       "      <th>FA01.D</th>\n",
       "      <td>1665840.0</td>\n",
       "      <td>3.103983</td>\n",
       "    </tr>\n",
       "    <tr>\n",
       "      <th>FA01.D</th>\n",
       "      <td>1409909.0</td>\n",
       "      <td>3.109700</td>\n",
       "    </tr>\n",
       "  </tbody>\n",
       "</table>\n",
       "</div>"
      ],
      "text/plain": [
       "              tic       tme\n",
       "key                        \n",
       "FA01.D  3576027.0  3.086817\n",
       "FA01.D  2654533.0  3.092533\n",
       "FA01.D  2052596.0  3.098250\n",
       "FA01.D  1665840.0  3.103983\n",
       "FA01.D  1409909.0  3.109700"
      ]
     },
     "execution_count": 7,
     "metadata": {},
     "output_type": "execute_result"
    }
   ],
   "source": [
    "agi.chromatogram.head()"
   ]
  },
  {
   "cell_type": "markdown",
   "metadata": {},
   "source": [
    "We also have access to the `spectra` data.  However, currently this data is not easily stacked so we provide it as a dictionary of DataFrames rather than one stacked DataFrame.  The keys to the dictionary are the folder names."
   ]
  },
  {
   "cell_type": "code",
   "execution_count": 8,
   "metadata": {},
   "outputs": [
    {
     "data": {
      "text/plain": [
       "dict_keys(['FA01.D', 'FA02.D', 'FA03.D', 'FA04.D', 'FA05.D', 'FA06.D', 'FA07.D', 'FA08.D', 'FA09.D', 'FA10.D', 'FA11.D', 'FA12.D', 'FA13.D', 'FA14.D', 'FA15.D'])"
      ]
     },
     "execution_count": 8,
     "metadata": {},
     "output_type": "execute_result"
    }
   ],
   "source": [
    "agi.spectra.keys()"
   ]
  },
  {
   "cell_type": "code",
   "execution_count": 5,
   "metadata": {},
   "outputs": [
    {
     "name": "stdout",
     "output_type": "stream",
     "text": [
      "(2957, 2057)\n",
      "(2957, 1492)\n",
      "(2957, 2301)\n",
      "(2957, 2491)\n",
      "(2957, 2601)\n",
      "(2957, 1538)\n",
      "(2957, 1597)\n",
      "(2957, 2010)\n",
      "(2957, 2114)\n",
      "(2957, 1471)\n",
      "(2957, 1762)\n",
      "(2957, 1832)\n",
      "(2957, 1831)\n",
      "(2957, 1845)\n",
      "(2957, 1391)\n"
     ]
    }
   ],
   "source": [
    "for k, v in agi.spectra.items():\n",
    "    print(v.shape)"
   ]
  },
  {
   "cell_type": "markdown",
   "metadata": {},
   "source": [
    "## Acessing a Single Agilent Directory\n",
    "\n",
    "By default the `key` or directory name is index of the Agilent dataframes. Therefore, we can access the `RESULTS.CSV` and `DATA.MS` data for each `.D` individually through the standard pandas index selection procedure:"
   ]
  },
  {
   "cell_type": "code",
   "execution_count": 10,
   "metadata": {},
   "outputs": [
    {
     "data": {
      "text/html": [
       "<div>\n",
       "<table border=\"1\" class=\"dataframe\">\n",
       "  <thead>\n",
       "    <tr style=\"text-align: right;\">\n",
       "      <th></th>\n",
       "      <th>header=</th>\n",
       "      <th>peak</th>\n",
       "      <th>rt</th>\n",
       "      <th>first</th>\n",
       "      <th>max</th>\n",
       "      <th>last</th>\n",
       "      <th>pk_ty</th>\n",
       "      <th>height</th>\n",
       "      <th>area</th>\n",
       "      <th>pct_max</th>\n",
       "      <th>pct_total</th>\n",
       "    </tr>\n",
       "    <tr>\n",
       "      <th>key</th>\n",
       "      <th></th>\n",
       "      <th></th>\n",
       "      <th></th>\n",
       "      <th></th>\n",
       "      <th></th>\n",
       "      <th></th>\n",
       "      <th></th>\n",
       "      <th></th>\n",
       "      <th></th>\n",
       "      <th></th>\n",
       "      <th></th>\n",
       "    </tr>\n",
       "  </thead>\n",
       "  <tbody>\n",
       "    <tr>\n",
       "      <th>FA01.D</th>\n",
       "      <td>1=</td>\n",
       "      <td>1.0</td>\n",
       "      <td>12.288</td>\n",
       "      <td>1600.0</td>\n",
       "      <td>1609.0</td>\n",
       "      <td>1647.0</td>\n",
       "      <td>rBV3</td>\n",
       "      <td>71023.0</td>\n",
       "      <td>478771.0</td>\n",
       "      <td>39.71</td>\n",
       "      <td>6.909</td>\n",
       "    </tr>\n",
       "    <tr>\n",
       "      <th>FA01.D</th>\n",
       "      <td>2=</td>\n",
       "      <td>2.0</td>\n",
       "      <td>13.598</td>\n",
       "      <td>1830.0</td>\n",
       "      <td>1838.0</td>\n",
       "      <td>1864.0</td>\n",
       "      <td>rBV2</td>\n",
       "      <td>247725.0</td>\n",
       "      <td>825285.0</td>\n",
       "      <td>68.46</td>\n",
       "      <td>11.910</td>\n",
       "    </tr>\n",
       "    <tr>\n",
       "      <th>FA01.D</th>\n",
       "      <td>3=</td>\n",
       "      <td>3.0</td>\n",
       "      <td>14.428</td>\n",
       "      <td>1977.0</td>\n",
       "      <td>1983.0</td>\n",
       "      <td>2004.0</td>\n",
       "      <td>rBV</td>\n",
       "      <td>481706.0</td>\n",
       "      <td>1098175.0</td>\n",
       "      <td>91.09</td>\n",
       "      <td>15.848</td>\n",
       "    </tr>\n",
       "    <tr>\n",
       "      <th>FA01.D</th>\n",
       "      <td>4=</td>\n",
       "      <td>4.0</td>\n",
       "      <td>15.080</td>\n",
       "      <td>2091.0</td>\n",
       "      <td>2097.0</td>\n",
       "      <td>2109.0</td>\n",
       "      <td>rBV</td>\n",
       "      <td>806692.0</td>\n",
       "      <td>1205528.0</td>\n",
       "      <td>100.00</td>\n",
       "      <td>17.397</td>\n",
       "    </tr>\n",
       "    <tr>\n",
       "      <th>FA01.D</th>\n",
       "      <td>5=</td>\n",
       "      <td>5.0</td>\n",
       "      <td>15.692</td>\n",
       "      <td>2198.0</td>\n",
       "      <td>2204.0</td>\n",
       "      <td>2215.0</td>\n",
       "      <td>rBV</td>\n",
       "      <td>731146.0</td>\n",
       "      <td>1085862.0</td>\n",
       "      <td>90.07</td>\n",
       "      <td>15.670</td>\n",
       "    </tr>\n",
       "  </tbody>\n",
       "</table>\n",
       "</div>"
      ],
      "text/plain": [
       "       header=  peak      rt   first     max    last pk_ty    height  \\\n",
       "key                                                                    \n",
       "FA01.D      1=   1.0  12.288  1600.0  1609.0  1647.0  rBV3   71023.0   \n",
       "FA01.D      2=   2.0  13.598  1830.0  1838.0  1864.0  rBV2  247725.0   \n",
       "FA01.D      3=   3.0  14.428  1977.0  1983.0  2004.0  rBV   481706.0   \n",
       "FA01.D      4=   4.0  15.080  2091.0  2097.0  2109.0  rBV   806692.0   \n",
       "FA01.D      5=   5.0  15.692  2198.0  2204.0  2215.0  rBV   731146.0   \n",
       "\n",
       "             area  pct_max  pct_total  \n",
       "key                                    \n",
       "FA01.D   478771.0    39.71      6.909  \n",
       "FA01.D   825285.0    68.46     11.910  \n",
       "FA01.D  1098175.0    91.09     15.848  \n",
       "FA01.D  1205528.0   100.00     17.397  \n",
       "FA01.D  1085862.0    90.07     15.670  "
      ]
     },
     "execution_count": 10,
     "metadata": {},
     "output_type": "execute_result"
    }
   ],
   "source": [
    "agi.results_tic.loc['FA01.D'].head()"
   ]
  },
  {
   "cell_type": "code",
   "execution_count": 11,
   "metadata": {},
   "outputs": [
    {
     "data": {
      "text/html": [
       "<div>\n",
       "<table border=\"1\" class=\"dataframe\">\n",
       "  <thead>\n",
       "    <tr style=\"text-align: right;\">\n",
       "      <th></th>\n",
       "      <th>header=</th>\n",
       "      <th>peak</th>\n",
       "      <th>rt</th>\n",
       "      <th>first</th>\n",
       "      <th>max</th>\n",
       "      <th>last</th>\n",
       "      <th>pk_ty</th>\n",
       "      <th>height</th>\n",
       "      <th>area</th>\n",
       "      <th>pct_max</th>\n",
       "      <th>pct_total</th>\n",
       "    </tr>\n",
       "    <tr>\n",
       "      <th>key</th>\n",
       "      <th></th>\n",
       "      <th></th>\n",
       "      <th></th>\n",
       "      <th></th>\n",
       "      <th></th>\n",
       "      <th></th>\n",
       "      <th></th>\n",
       "      <th></th>\n",
       "      <th></th>\n",
       "      <th></th>\n",
       "      <th></th>\n",
       "    </tr>\n",
       "  </thead>\n",
       "  <tbody>\n",
       "    <tr>\n",
       "      <th>FA05.D</th>\n",
       "      <td>1=</td>\n",
       "      <td>1.0</td>\n",
       "      <td>3.877</td>\n",
       "      <td>114.0</td>\n",
       "      <td>139.0</td>\n",
       "      <td>218.0</td>\n",
       "      <td>rBV3</td>\n",
       "      <td>274222.0</td>\n",
       "      <td>4996035.0</td>\n",
       "      <td>15.87</td>\n",
       "      <td>1.649</td>\n",
       "    </tr>\n",
       "    <tr>\n",
       "      <th>FA05.D</th>\n",
       "      <td>2=</td>\n",
       "      <td>2.0</td>\n",
       "      <td>5.771</td>\n",
       "      <td>462.0</td>\n",
       "      <td>470.0</td>\n",
       "      <td>539.0</td>\n",
       "      <td>rBV</td>\n",
       "      <td>1316909.0</td>\n",
       "      <td>8256723.0</td>\n",
       "      <td>26.23</td>\n",
       "      <td>2.725</td>\n",
       "    </tr>\n",
       "    <tr>\n",
       "      <th>FA05.D</th>\n",
       "      <td>3=</td>\n",
       "      <td>3.0</td>\n",
       "      <td>7.338</td>\n",
       "      <td>732.0</td>\n",
       "      <td>744.0</td>\n",
       "      <td>791.0</td>\n",
       "      <td>rBV</td>\n",
       "      <td>4636855.0</td>\n",
       "      <td>9783363.0</td>\n",
       "      <td>31.08</td>\n",
       "      <td>3.229</td>\n",
       "    </tr>\n",
       "    <tr>\n",
       "      <th>FA05.D</th>\n",
       "      <td>4=</td>\n",
       "      <td>4.0</td>\n",
       "      <td>8.025</td>\n",
       "      <td>854.0</td>\n",
       "      <td>864.0</td>\n",
       "      <td>907.0</td>\n",
       "      <td>rBV</td>\n",
       "      <td>3339625.0</td>\n",
       "      <td>5360876.0</td>\n",
       "      <td>17.03</td>\n",
       "      <td>1.769</td>\n",
       "    </tr>\n",
       "    <tr>\n",
       "      <th>FA05.D</th>\n",
       "      <td>5=</td>\n",
       "      <td>5.0</td>\n",
       "      <td>8.672</td>\n",
       "      <td>969.0</td>\n",
       "      <td>977.0</td>\n",
       "      <td>1019.0</td>\n",
       "      <td>rBV</td>\n",
       "      <td>7961067.0</td>\n",
       "      <td>10679280.0</td>\n",
       "      <td>33.93</td>\n",
       "      <td>3.525</td>\n",
       "    </tr>\n",
       "  </tbody>\n",
       "</table>\n",
       "</div>"
      ],
      "text/plain": [
       "       header=  peak     rt  first    max    last pk_ty     height  \\\n",
       "key                                                                  \n",
       "FA05.D      1=   1.0  3.877  114.0  139.0   218.0  rBV3   274222.0   \n",
       "FA05.D      2=   2.0  5.771  462.0  470.0   539.0  rBV   1316909.0   \n",
       "FA05.D      3=   3.0  7.338  732.0  744.0   791.0  rBV   4636855.0   \n",
       "FA05.D      4=   4.0  8.025  854.0  864.0   907.0  rBV   3339625.0   \n",
       "FA05.D      5=   5.0  8.672  969.0  977.0  1019.0  rBV   7961067.0   \n",
       "\n",
       "              area  pct_max  pct_total  \n",
       "key                                     \n",
       "FA05.D   4996035.0    15.87      1.649  \n",
       "FA05.D   8256723.0    26.23      2.725  \n",
       "FA05.D   9783363.0    31.08      3.229  \n",
       "FA05.D   5360876.0    17.03      1.769  \n",
       "FA05.D  10679280.0    33.93      3.525  "
      ]
     },
     "execution_count": 11,
     "metadata": {},
     "output_type": "execute_result"
    }
   ],
   "source": [
    "agi.results_tic.loc['FA05.D'].head()"
   ]
  },
  {
   "cell_type": "markdown",
   "metadata": {
    "collapsed": true
   },
   "source": [
    "Calculating aggregate metrics across folders can also be done efficiently using standard pandas methods:"
   ]
  },
  {
   "cell_type": "code",
   "execution_count": 12,
   "metadata": {},
   "outputs": [
    {
     "data": {
      "text/html": [
       "<div>\n",
       "<table border=\"1\" class=\"dataframe\">\n",
       "  <thead>\n",
       "    <tr>\n",
       "      <th></th>\n",
       "      <th colspan=\"3\" halign=\"left\">height</th>\n",
       "      <th colspan=\"3\" halign=\"left\">area</th>\n",
       "    </tr>\n",
       "    <tr>\n",
       "      <th></th>\n",
       "      <th>min</th>\n",
       "      <th>max</th>\n",
       "      <th>mean</th>\n",
       "      <th>min</th>\n",
       "      <th>max</th>\n",
       "      <th>mean</th>\n",
       "    </tr>\n",
       "    <tr>\n",
       "      <th>key</th>\n",
       "      <th></th>\n",
       "      <th></th>\n",
       "      <th></th>\n",
       "      <th></th>\n",
       "      <th></th>\n",
       "      <th></th>\n",
       "    </tr>\n",
       "  </thead>\n",
       "  <tbody>\n",
       "    <tr>\n",
       "      <th>FA01.D</th>\n",
       "      <td>71023.0</td>\n",
       "      <td>806692.0</td>\n",
       "      <td>3.833519e+05</td>\n",
       "      <td>262254.0</td>\n",
       "      <td>1205528.0</td>\n",
       "      <td>7.699531e+05</td>\n",
       "    </tr>\n",
       "    <tr>\n",
       "      <th>FA03.D</th>\n",
       "      <td>257808.0</td>\n",
       "      <td>4224561.0</td>\n",
       "      <td>1.585329e+06</td>\n",
       "      <td>1094384.0</td>\n",
       "      <td>11356919.0</td>\n",
       "      <td>2.615936e+06</td>\n",
       "    </tr>\n",
       "    <tr>\n",
       "      <th>FA04.D</th>\n",
       "      <td>125515.0</td>\n",
       "      <td>7308538.0</td>\n",
       "      <td>3.151593e+06</td>\n",
       "      <td>2178615.0</td>\n",
       "      <td>21443590.0</td>\n",
       "      <td>5.172142e+06</td>\n",
       "    </tr>\n",
       "    <tr>\n",
       "      <th>FA05.D</th>\n",
       "      <td>274222.0</td>\n",
       "      <td>11951625.0</td>\n",
       "      <td>6.075311e+06</td>\n",
       "      <td>4996035.0</td>\n",
       "      <td>31474938.0</td>\n",
       "      <td>9.773914e+06</td>\n",
       "    </tr>\n",
       "    <tr>\n",
       "      <th>FA08.D</th>\n",
       "      <td>212463.0</td>\n",
       "      <td>9772710.0</td>\n",
       "      <td>4.992586e+06</td>\n",
       "      <td>771626.0</td>\n",
       "      <td>14213024.0</td>\n",
       "      <td>7.492325e+06</td>\n",
       "    </tr>\n",
       "    <tr>\n",
       "      <th>FA09.D</th>\n",
       "      <td>475808.0</td>\n",
       "      <td>12797015.0</td>\n",
       "      <td>6.636412e+06</td>\n",
       "      <td>1131004.0</td>\n",
       "      <td>21836411.0</td>\n",
       "      <td>1.148371e+07</td>\n",
       "    </tr>\n",
       "    <tr>\n",
       "      <th>FA11.D</th>\n",
       "      <td>62857.0</td>\n",
       "      <td>2128129.0</td>\n",
       "      <td>6.554257e+05</td>\n",
       "      <td>110498.0</td>\n",
       "      <td>3238784.0</td>\n",
       "      <td>1.117494e+06</td>\n",
       "    </tr>\n",
       "    <tr>\n",
       "      <th>FA12.D</th>\n",
       "      <td>137815.0</td>\n",
       "      <td>3853020.0</td>\n",
       "      <td>1.261552e+06</td>\n",
       "      <td>293272.0</td>\n",
       "      <td>5980407.0</td>\n",
       "      <td>2.136963e+06</td>\n",
       "    </tr>\n",
       "    <tr>\n",
       "      <th>FA13.D</th>\n",
       "      <td>88219.0</td>\n",
       "      <td>4142556.0</td>\n",
       "      <td>1.130140e+06</td>\n",
       "      <td>191196.0</td>\n",
       "      <td>6048885.0</td>\n",
       "      <td>1.817105e+06</td>\n",
       "    </tr>\n",
       "    <tr>\n",
       "      <th>FA14.D</th>\n",
       "      <td>98208.0</td>\n",
       "      <td>3783103.0</td>\n",
       "      <td>1.011394e+06</td>\n",
       "      <td>181708.0</td>\n",
       "      <td>5720503.0</td>\n",
       "      <td>1.704879e+06</td>\n",
       "    </tr>\n",
       "  </tbody>\n",
       "</table>\n",
       "</div>"
      ],
      "text/plain": [
       "          height                                 area              \\\n",
       "             min         max          mean        min         max   \n",
       "key                                                                 \n",
       "FA01.D   71023.0    806692.0  3.833519e+05   262254.0   1205528.0   \n",
       "FA03.D  257808.0   4224561.0  1.585329e+06  1094384.0  11356919.0   \n",
       "FA04.D  125515.0   7308538.0  3.151593e+06  2178615.0  21443590.0   \n",
       "FA05.D  274222.0  11951625.0  6.075311e+06  4996035.0  31474938.0   \n",
       "FA08.D  212463.0   9772710.0  4.992586e+06   771626.0  14213024.0   \n",
       "FA09.D  475808.0  12797015.0  6.636412e+06  1131004.0  21836411.0   \n",
       "FA11.D   62857.0   2128129.0  6.554257e+05   110498.0   3238784.0   \n",
       "FA12.D  137815.0   3853020.0  1.261552e+06   293272.0   5980407.0   \n",
       "FA13.D   88219.0   4142556.0  1.130140e+06   191196.0   6048885.0   \n",
       "FA14.D   98208.0   3783103.0  1.011394e+06   181708.0   5720503.0   \n",
       "\n",
       "                      \n",
       "                mean  \n",
       "key                   \n",
       "FA01.D  7.699531e+05  \n",
       "FA03.D  2.615936e+06  \n",
       "FA04.D  5.172142e+06  \n",
       "FA05.D  9.773914e+06  \n",
       "FA08.D  7.492325e+06  \n",
       "FA09.D  1.148371e+07  \n",
       "FA11.D  1.117494e+06  \n",
       "FA12.D  2.136963e+06  \n",
       "FA13.D  1.817105e+06  \n",
       "FA14.D  1.704879e+06  "
      ]
     },
     "execution_count": 12,
     "metadata": {},
     "output_type": "execute_result"
    }
   ],
   "source": [
    "metrics = {'min': 'min', 'max': 'max', 'mean': 'mean'}\n",
    "agi.results_tic.groupby(level=0).agg({'height': metrics, 'area': metrics})"
   ]
  },
  {
   "cell_type": "code",
   "execution_count": 13,
   "metadata": {},
   "outputs": [
    {
     "data": {
      "text/plain": [
       "<matplotlib.axes._subplots.AxesSubplot at 0x140af5d68>"
      ]
     },
     "execution_count": 13,
     "metadata": {},
     "output_type": "execute_result"
    },
    {
     "data": {
      "image/png": "[encoded data removed]",
      "text/plain": [
       "<matplotlib.figure.Figure at 0x140af5240>"
      ]
     },
     "metadata": {},
     "output_type": "display_data"
    }
   ],
   "source": [
    "%matplotlib inline\n",
    "\n",
    "agi.results_tic.groupby(level=0).agg({'height': metrics, 'area': metrics}).plot()"
   ]
  },
  {
   "cell_type": "markdown",
   "metadata": {},
   "source": [
    "## More on Chromatogram\n",
    "\n",
    "If we only access one folder, using the `AgilentGcmsDataMs` class then the `spectra` is not a single DataFrame rather than a dictionary."
   ]
  },
  {
   "cell_type": "code",
   "execution_count": 6,
   "metadata": {
    "collapsed": true
   },
   "outputs": [],
   "source": [
    "from valence.build import AgilentGcmsDataMs"
   ]
  },
  {
   "cell_type": "code",
   "execution_count": 7,
   "metadata": {
    "collapsed": true
   },
   "outputs": [],
   "source": [
    "datams = AgilentGcmsDataMs('data/test3/FA01.d/DATA.MS')\n",
    "datams2 = AgilentGcmsDataMs('data/test3/FA02.d/DATA.MS')"
   ]
  },
  {
   "cell_type": "code",
   "execution_count": 8,
   "metadata": {
    "collapsed": true
   },
   "outputs": [],
   "source": [
    "spectra_1 = datams.spectra.reset_index()"
   ]
  },
  {
   "cell_type": "code",
   "execution_count": 9,
   "metadata": {
    "collapsed": true
   },
   "outputs": [],
   "source": [
    "spectra_2 = datams2.spectra.reset_index()"
   ]
  },
  {
   "cell_type": "code",
   "execution_count": null,
   "metadata": {
    "collapsed": true
   },
   "outputs": [],
   "source": []
  },
  {
   "cell_type": "code",
   "execution_count": 10,
   "metadata": {
    "collapsed": true
   },
   "outputs": [],
   "source": [
    "spectra_1['key'] = 'FA01.D'"
   ]
  },
  {
   "cell_type": "code",
   "execution_count": 11,
   "metadata": {
    "collapsed": true
   },
   "outputs": [],
   "source": [
    "spectra_2['key'] = 'FA02.D'"
   ]
  },
  {
   "cell_type": "code",
   "execution_count": 105,
   "metadata": {},
   "outputs": [
    {
     "data": {
      "text/plain": [
       "Index(['index',   204.9,    52.1,   155.0,   104.1,    53.1,   207.0,   155.8,\n",
       "         105.0,    54.1,\n",
       "       ...\n",
       "         251.2,   316.2,   354.4,   331.6,   105.7,   268.5,   122.1,   202.2,\n",
       "         126.7,   'key'],\n",
       "      dtype='object', length=2059)"
      ]
     },
     "execution_count": 105,
     "metadata": {},
     "output_type": "execute_result"
    }
   ],
   "source": [
    "spectra_1.columns"
   ]
  },
  {
   "cell_type": "code",
   "execution_count": 106,
   "metadata": {},
   "outputs": [
    {
     "data": {
      "text/plain": [
       "1364"
      ]
     },
     "execution_count": 106,
     "metadata": {},
     "output_type": "execute_result"
    }
   ],
   "source": [
    "len([i for i in spectra_2.columns if i in spectra_1.columns])"
   ]
  },
  {
   "cell_type": "code",
   "execution_count": 107,
   "metadata": {
    "collapsed": true
   },
   "outputs": [],
   "source": [
    "x = pd.concat([spectra_1, spectra_2], axis=0)"
   ]
  },
  {
   "cell_type": "code",
   "execution_count": 108,
   "metadata": {
    "collapsed": true
   },
   "outputs": [],
   "source": [
    "sdf = x.to_sparse()"
   ]
  },
  {
   "cell_type": "code",
   "execution_count": 109,
   "metadata": {},
   "outputs": [
    {
     "data": {
      "text/html": [
       "<div>\n",
       "<table border=\"1\" class=\"dataframe\">\n",
       "  <thead>\n",
       "    <tr style=\"text-align: right;\">\n",
       "      <th></th>\n",
       "      <th>index</th>\n",
       "      <th>204.9</th>\n",
       "      <th>52.1</th>\n",
       "      <th>155.0</th>\n",
       "      <th>104.1</th>\n",
       "      <th>53.1</th>\n",
       "      <th>207.0</th>\n",
       "      <th>155.8</th>\n",
       "      <th>105.0</th>\n",
       "      <th>54.1</th>\n",
       "      <th>...</th>\n",
       "      <th>316.9</th>\n",
       "      <th>108.7</th>\n",
       "      <th>377.2</th>\n",
       "      <th>167.3</th>\n",
       "      <th>102.3</th>\n",
       "      <th>401.3</th>\n",
       "      <th>142.2</th>\n",
       "      <th>400.5</th>\n",
       "      <th>196.4</th>\n",
       "      <th>220.5</th>\n",
       "    </tr>\n",
       "  </thead>\n",
       "  <tbody>\n",
       "    <tr>\n",
       "      <th>0</th>\n",
       "      <td>3.086817</td>\n",
       "      <td>185.0</td>\n",
       "      <td>8090.0</td>\n",
       "      <td>225.0</td>\n",
       "      <td>166.0</td>\n",
       "      <td>40736.0</td>\n",
       "      <td>1851.0</td>\n",
       "      <td>193.0</td>\n",
       "      <td>365.0</td>\n",
       "      <td>21416.0</td>\n",
       "      <td>...</td>\n",
       "      <td>NaN</td>\n",
       "      <td>NaN</td>\n",
       "      <td>NaN</td>\n",
       "      <td>NaN</td>\n",
       "      <td>NaN</td>\n",
       "      <td>NaN</td>\n",
       "      <td>NaN</td>\n",
       "      <td>NaN</td>\n",
       "      <td>NaN</td>\n",
       "      <td>NaN</td>\n",
       "    </tr>\n",
       "    <tr>\n",
       "      <th>1</th>\n",
       "      <td>3.092533</td>\n",
       "      <td>0.0</td>\n",
       "      <td>6851.0</td>\n",
       "      <td>0.0</td>\n",
       "      <td>0.0</td>\n",
       "      <td>32048.0</td>\n",
       "      <td>2084.0</td>\n",
       "      <td>0.0</td>\n",
       "      <td>0.0</td>\n",
       "      <td>17080.0</td>\n",
       "      <td>...</td>\n",
       "      <td>NaN</td>\n",
       "      <td>NaN</td>\n",
       "      <td>NaN</td>\n",
       "      <td>NaN</td>\n",
       "      <td>NaN</td>\n",
       "      <td>NaN</td>\n",
       "      <td>NaN</td>\n",
       "      <td>NaN</td>\n",
       "      <td>NaN</td>\n",
       "      <td>NaN</td>\n",
       "    </tr>\n",
       "    <tr>\n",
       "      <th>2</th>\n",
       "      <td>3.098250</td>\n",
       "      <td>0.0</td>\n",
       "      <td>5660.0</td>\n",
       "      <td>203.0</td>\n",
       "      <td>0.0</td>\n",
       "      <td>24736.0</td>\n",
       "      <td>1931.0</td>\n",
       "      <td>0.0</td>\n",
       "      <td>568.0</td>\n",
       "      <td>15641.0</td>\n",
       "      <td>...</td>\n",
       "      <td>NaN</td>\n",
       "      <td>NaN</td>\n",
       "      <td>NaN</td>\n",
       "      <td>NaN</td>\n",
       "      <td>NaN</td>\n",
       "      <td>NaN</td>\n",
       "      <td>NaN</td>\n",
       "      <td>NaN</td>\n",
       "      <td>NaN</td>\n",
       "      <td>NaN</td>\n",
       "    </tr>\n",
       "    <tr>\n",
       "      <th>3</th>\n",
       "      <td>3.103983</td>\n",
       "      <td>0.0</td>\n",
       "      <td>4772.0</td>\n",
       "      <td>210.0</td>\n",
       "      <td>205.0</td>\n",
       "      <td>23920.0</td>\n",
       "      <td>2675.0</td>\n",
       "      <td>0.0</td>\n",
       "      <td>0.0</td>\n",
       "      <td>14445.0</td>\n",
       "      <td>...</td>\n",
       "      <td>NaN</td>\n",
       "      <td>NaN</td>\n",
       "      <td>NaN</td>\n",
       "      <td>NaN</td>\n",
       "      <td>NaN</td>\n",
       "      <td>NaN</td>\n",
       "      <td>NaN</td>\n",
       "      <td>NaN</td>\n",
       "      <td>NaN</td>\n",
       "      <td>NaN</td>\n",
       "    </tr>\n",
       "    <tr>\n",
       "      <th>4</th>\n",
       "      <td>3.109700</td>\n",
       "      <td>0.0</td>\n",
       "      <td>4327.0</td>\n",
       "      <td>0.0</td>\n",
       "      <td>218.0</td>\n",
       "      <td>0.0</td>\n",
       "      <td>2216.0</td>\n",
       "      <td>0.0</td>\n",
       "      <td>506.0</td>\n",
       "      <td>13051.0</td>\n",
       "      <td>...</td>\n",
       "      <td>NaN</td>\n",
       "      <td>NaN</td>\n",
       "      <td>NaN</td>\n",
       "      <td>NaN</td>\n",
       "      <td>NaN</td>\n",
       "      <td>NaN</td>\n",
       "      <td>NaN</td>\n",
       "      <td>NaN</td>\n",
       "      <td>NaN</td>\n",
       "      <td>NaN</td>\n",
       "    </tr>\n",
       "  </tbody>\n",
       "</table>\n",
       "<p>5 rows × 2189 columns</p>\n",
       "</div>"
      ],
      "text/plain": [
       "      index  204.9    52.1  155.0  104.1     53.1   207.0  155.8  105.0  \\\n",
       "0  3.086817  185.0  8090.0  225.0  166.0  40736.0  1851.0  193.0  365.0   \n",
       "1  3.092533    0.0  6851.0    0.0    0.0  32048.0  2084.0    0.0    0.0   \n",
       "2  3.098250    0.0  5660.0  203.0    0.0  24736.0  1931.0    0.0  568.0   \n",
       "3  3.103983    0.0  4772.0  210.0  205.0  23920.0  2675.0    0.0    0.0   \n",
       "4  3.109700    0.0  4327.0    0.0  218.0      0.0  2216.0    0.0  506.0   \n",
       "\n",
       "      54.1  ...    316.9  108.7  377.2  167.3  102.3  401.3  142.2  400.5  \\\n",
       "0  21416.0  ...      NaN    NaN    NaN    NaN    NaN    NaN    NaN    NaN   \n",
       "1  17080.0  ...      NaN    NaN    NaN    NaN    NaN    NaN    NaN    NaN   \n",
       "2  15641.0  ...      NaN    NaN    NaN    NaN    NaN    NaN    NaN    NaN   \n",
       "3  14445.0  ...      NaN    NaN    NaN    NaN    NaN    NaN    NaN    NaN   \n",
       "4  13051.0  ...      NaN    NaN    NaN    NaN    NaN    NaN    NaN    NaN   \n",
       "\n",
       "   196.4  220.5  \n",
       "0    NaN    NaN  \n",
       "1    NaN    NaN  \n",
       "2    NaN    NaN  \n",
       "3    NaN    NaN  \n",
       "4    NaN    NaN  \n",
       "\n",
       "[5 rows x 2189 columns]"
      ]
     },
     "execution_count": 109,
     "metadata": {},
     "output_type": "execute_result"
    }
   ],
   "source": [
    "sdf[sdf.key == 'FA01.D'].head()"
   ]
  },
  {
   "cell_type": "code",
   "execution_count": 96,
   "metadata": {
    "collapsed": true
   },
   "outputs": [],
   "source": [
    "sdf = sdf.set_index('key')"
   ]
  },
  {
   "cell_type": "code",
   "execution_count": 99,
   "metadata": {},
   "outputs": [
    {
     "data": {
      "text/plain": [
       "Index(['FA01.D', 'FA01.D', 'FA01.D', 'FA01.D', 'FA01.D', 'FA01.D', 'FA01.D',\n",
       "       'FA01.D', 'FA01.D', 'FA01.D',\n",
       "       ...\n",
       "       'FA02.D', 'FA02.D', 'FA02.D', 'FA02.D', 'FA02.D', 'FA02.D', 'FA02.D',\n",
       "       'FA02.D', 'FA02.D', 'FA02.D'],\n",
       "      dtype='object', name='key', length=5914)"
      ]
     },
     "execution_count": 99,
     "metadata": {},
     "output_type": "execute_result"
    }
   ],
   "source": [
    "sdf.index"
   ]
  },
  {
   "cell_type": "markdown",
   "metadata": {},
   "source": [
    "__The Below Still works__\n",
    "\n",
    "(1) The sum of the rows. There area under each peak, plotted below, is proportional to concentration. This is the same as the tic vs. tme data previous.\n",
    "\n",
    "Below shows the plot someone would want to see to verify their data. This file is a standard curve meaning they put in a known concentration of 9 species which is reflected in the appearance of 9 distinct peaks"
   ]
  },
  {
   "cell_type": "code",
   "execution_count": 33,
   "metadata": {},
   "outputs": [
    {
     "data": {
      "text/plain": [
       "<matplotlib.axes._subplots.AxesSubplot at 0x110a92a20>"
      ]
     },
     "execution_count": 33,
     "metadata": {},
     "output_type": "execute_result"
    },
    {
     "data": {
      "image/png": "[encoded data removed]",
      "text/plain": [
       "<matplotlib.figure.Figure at 0x161a797f0>"
      ]
     },
     "metadata": {},
     "output_type": "display_data"
    }
   ],
   "source": [
    "%matplotlib inline\n",
    "datams.spectra.sum(axis=1).plot()"
   ]
  },
  {
   "cell_type": "markdown",
   "metadata": {},
   "source": [
    "(2) For each time point there a X number of columns. Each column represents the strength of an ion at that timepoint. The ions are generated when a molecule hits the detector. Since only one compound (theorectically) is hitting the detector at that time(s) (the range from the beginning to the end of the peak), the pattern of the ion strenghts is a signature for that specific molecule. It is effectively a molecular fingerprint. Sometimes people like to look at this data, but more importantly people cross reference this data against a library and has the library tell them the molecule.\n",
    "\n",
    "Below is the molecular \"finger print\" for the peak around 15.1 min."
   ]
  },
  {
   "cell_type": "code",
   "execution_count": 34,
   "metadata": {},
   "outputs": [
    {
     "data": {
      "text/html": [
       "<div>\n",
       "<table border=\"1\" class=\"dataframe\">\n",
       "  <thead>\n",
       "    <tr style=\"text-align: right;\">\n",
       "      <th></th>\n",
       "      <th>15.1086666667</th>\n",
       "    </tr>\n",
       "  </thead>\n",
       "  <tbody>\n",
       "    <tr>\n",
       "      <th>50.1</th>\n",
       "      <td>0.0</td>\n",
       "    </tr>\n",
       "    <tr>\n",
       "      <th>50.2</th>\n",
       "      <td>0.0</td>\n",
       "    </tr>\n",
       "    <tr>\n",
       "      <th>50.6</th>\n",
       "      <td>0.0</td>\n",
       "    </tr>\n",
       "    <tr>\n",
       "      <th>50.7</th>\n",
       "      <td>0.0</td>\n",
       "    </tr>\n",
       "    <tr>\n",
       "      <th>50.8</th>\n",
       "      <td>0.0</td>\n",
       "    </tr>\n",
       "  </tbody>\n",
       "</table>\n",
       "</div>"
      ],
      "text/plain": [
       "      15.108667\n",
       "50.1        0.0\n",
       "50.2        0.0\n",
       "50.6        0.0\n",
       "50.7        0.0\n",
       "50.8        0.0"
      ]
     },
     "execution_count": 34,
     "metadata": {},
     "output_type": "execute_result"
    },
    {
     "data": {
      "image/png": "[encoded data removed]",
      "text/plain": [
       "<matplotlib.figure.Figure at 0x110879eb8>"
      ]
     },
     "metadata": {},
     "output_type": "display_data"
    }
   ],
   "source": [
    "import pandas as pd\n",
    "%matplotlib inline\n",
    "example_ion_df = pd.DataFrame(datams.spectra.iloc[2101,:]).sort_index()\n",
    "example_ion_df.plot()\n",
    "example_ion_df.head()"
   ]
  },
  {
   "cell_type": "markdown",
   "metadata": {},
   "source": [
    "A common feature of software that manipulates this data is that someone could click on a timepoint in the first plot and get a display of the second plot. Or have someway to specify a timepoint for which i want to see the ion profile."
   ]
  },
  {
   "cell_type": "code",
   "execution_count": null,
   "metadata": {
    "collapsed": true
   },
   "outputs": [],
   "source": []
  },
  {
   "cell_type": "code",
   "execution_count": null,
   "metadata": {
    "collapsed": true
   },
   "outputs": [],
   "source": []
  }
 ],
 "metadata": {
  "kernelspec": {
   "display_name": "Python 3",
   "language": "python",
   "name": "python3"
  },
  "language_info": {
   "codemirror_mode": {
    "name": "ipython",
    "version": 3
   },
   "file_extension": ".py",
   "mimetype": "text/x-python",
   "name": "python",
   "nbconvert_exporter": "python",
   "pygments_lexer": "ipython3",
   "version": "3.6.1"
  }
 },
 "nbformat": 4,
 "nbformat_minor": 2
}
