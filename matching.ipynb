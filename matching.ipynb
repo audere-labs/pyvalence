{
 "cells": [
  {
   "cell_type": "code",
   "execution_count": 79,
   "metadata": {
    "collapsed": true
   },
   "outputs": [],
   "source": [
    "import pandas as pd\n",
    "from chemtbd.io import Agilent"
   ]
  },
  {
   "cell_type": "code",
   "execution_count": 80,
   "metadata": {
    "collapsed": true
   },
   "outputs": [],
   "source": [
    "agi = Agilent.from_root('data/test3')"
   ]
  },
  {
   "cell_type": "code",
   "execution_count": 82,
   "metadata": {},
   "outputs": [],
   "source": [
    "tic = agi['FA03.D'].results.tic\n",
    "lib = agi['FA03.D'].results.lib\n",
    "fid = agi['FA03.D'].results.fid"
   ]
  },
  {
   "cell_type": "code",
   "execution_count": 86,
   "metadata": {
    "collapsed": true
   },
   "outputs": [],
   "source": [
    "def find_match(x, Y):\n",
    "    ''' find index of argmin lambda(x,Y)\n",
    "    '''\n",
    "    score = lambda y: (x - y)**2\n",
    "    return Y.apply(score).idxmin()\n",
    "\n",
    "def rt_match(lib_row, rt):\n",
    "    ''' find closest rt\n",
    "    '''\n",
    "    x, i = lib_row.rt, lib_row.name\n",
    "    return find_match(x, rt[i:])"
   ]
  },
  {
   "cell_type": "code",
   "execution_count": 96,
   "metadata": {
    "scrolled": false
   },
   "outputs": [],
   "source": [
    "xi = lib.apply(rt_match, rt=tic.rt.sort_values(), axis=1)\n",
    "lib['tic_area'] = tic.area[xi].values\n",
    "lib['tic_rt'] = tic.rt[xi].values\n",
    "\n",
    "xi = lib.apply(rt_match, rt=fid.rt.sort_values(), axis=1)\n",
    "lib['fid_area'] = fid.area[xi].values\n",
    "lib['fid_rt'] = fid.rt[xi].values"
   ]
  },
  {
   "cell_type": "code",
   "execution_count": 99,
   "metadata": {},
   "outputs": [
    {
     "data": {
      "text/plain": [
       "<matplotlib.axes._subplots.AxesSubplot at 0x1136a8e48>"
      ]
     },
     "execution_count": 99,
     "metadata": {},
     "output_type": "execute_result"
    },
    {
     "data": {
      "image/png": "[encoded data removed]",
      "text/plain": [
       "<matplotlib.figure.Figure at 0x1136e4400>"
      ]
     },
     "metadata": {},
     "output_type": "display_data"
    }
   ],
   "source": [
    "%matplotlib inline\n",
    "lib[['rt', 'tic_rt', 'fid_rt']].plot()"
   ]
  }
 ],
 "metadata": {
  "kernelspec": {
   "display_name": "Python 3",
   "language": "python",
   "name": "python3"
  },
  "language_info": {
   "codemirror_mode": {
    "name": "ipython",
    "version": 3
   },
   "file_extension": ".py",
   "mimetype": "text/x-python",
   "name": "python",
   "nbconvert_exporter": "python",
   "pygments_lexer": "ipython3",
   "version": "3.6.1"
  }
 },
 "nbformat": 4,
 "nbformat_minor": 2
}
