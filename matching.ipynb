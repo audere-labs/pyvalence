{
 "cells": [
  {
   "cell_type": "code",
   "execution_count": 1,
   "metadata": {
    "collapsed": true
   },
   "outputs": [],
   "source": [
    "import pandas as pd\n",
    "from chemtbd.io import Agilent"
   ]
  },
  {
   "cell_type": "code",
   "execution_count": 2,
   "metadata": {
    "collapsed": true
   },
   "outputs": [],
   "source": [
    "agi = Agilent.from_root('data/test3')"
   ]
  },
  {
   "cell_type": "code",
   "execution_count": 3,
   "metadata": {
    "collapsed": true
   },
   "outputs": [],
   "source": [
    "tic = agi['FA14.D'].results.tic\n",
    "lib = agi['FA14.D'].results.lib\n",
    "fid = agi['FA14.D'].results.fid"
   ]
  },
  {
   "cell_type": "code",
   "execution_count": 4,
   "metadata": {
    "collapsed": true
   },
   "outputs": [],
   "source": [
    "def find_match(x, Y):\n",
    "    ''' find index of argmin lambda(x,Y)\n",
    "    '''\n",
    "    score = lambda y: (x - y)**2\n",
    "    return Y.apply(score).idxmin()\n",
    "\n",
    "def rt_match(lib_row, rt):\n",
    "    ''' find closest rt\n",
    "    '''\n",
    "    x, i = lib_row.rt, lib_row.name\n",
    "    return find_match(x, rt[i:])"
   ]
  },
  {
   "cell_type": "code",
   "execution_count": 16,
   "metadata": {
    "scrolled": false
   },
   "outputs": [
    {
     "name": "stdout",
     "output_type": "stream",
     "text": [
      "0    5\n",
      "1    5\n",
      "2    3\n",
      "3    2\n",
      "dtype: int64\n"
     ]
    }
   ],
   "source": [
    "xi = lib.apply(rt_match, rt=tic.rt.sort_values(), axis=1)\n",
    "lib['tic_area'] = tic.area[xi].values\n",
    "lib['tic_rt'] = tic.rt[xi].values\n",
    "\n",
    "xi = lib.apply(rt_match, rt=fid.rt.sort_values(), axis=1)\n",
    "print(xi)\n",
    "lib['fid_area'] = fid.area[xi].values\n",
    "lib['fid_rt'] = fid.rt[xi].values"
   ]
  },
  {
   "cell_type": "code",
   "execution_count": 6,
   "metadata": {},
   "outputs": [
    {
     "data": {
      "text/plain": [
       "<matplotlib.axes._subplots.AxesSubplot at 0x11768c320>"
      ]
     },
     "execution_count": 6,
     "metadata": {},
     "output_type": "execute_result"
    },
    {
     "data": {
      "image/png": "[encoded data removed]",
      "text/plain": [
       "<matplotlib.figure.Figure at 0x117661898>"
      ]
     },
     "metadata": {},
     "output_type": "display_data"
    }
   ],
   "source": [
    "%matplotlib inline\n",
    "lib[['rt', 'tic_rt', 'fid_rt']].plot()"
   ]
  },
  {
   "cell_type": "code",
   "execution_count": 12,
   "metadata": {},
   "outputs": [
    {
     "data": {
      "text/html": [
       "<div>\n",
       "<table border=\"1\" class=\"dataframe\">\n",
       "  <thead>\n",
       "    <tr style=\"text-align: right;\">\n",
       "      <th></th>\n",
       "      <th>rt</th>\n",
       "      <th>tic_rt</th>\n",
       "      <th>fid_rt</th>\n",
       "    </tr>\n",
       "  </thead>\n",
       "  <tbody>\n",
       "    <tr>\n",
       "      <th>0</th>\n",
       "      <td>10.9317</td>\n",
       "      <td>10.932</td>\n",
       "      <td>10.59051</td>\n",
       "    </tr>\n",
       "    <tr>\n",
       "      <th>1</th>\n",
       "      <td>11.0462</td>\n",
       "      <td>11.046</td>\n",
       "      <td>10.59051</td>\n",
       "    </tr>\n",
       "    <tr>\n",
       "      <th>2</th>\n",
       "      <td>12.1734</td>\n",
       "      <td>12.173</td>\n",
       "      <td>12.36496</td>\n",
       "    </tr>\n",
       "    <tr>\n",
       "      <th>3</th>\n",
       "      <td>12.3222</td>\n",
       "      <td>12.322</td>\n",
       "      <td>12.48198</td>\n",
       "    </tr>\n",
       "  </tbody>\n",
       "</table>\n",
       "</div>"
      ],
      "text/plain": [
       "        rt  tic_rt    fid_rt\n",
       "0  10.9317  10.932  10.59051\n",
       "1  11.0462  11.046  10.59051\n",
       "2  12.1734  12.173  12.36496\n",
       "3  12.3222  12.322  12.48198"
      ]
     },
     "execution_count": 12,
     "metadata": {},
     "output_type": "execute_result"
    }
   ],
   "source": [
    "lib[['rt', 'tic_rt', 'fid_rt']]"
   ]
  },
  {
   "cell_type": "code",
   "execution_count": 111,
   "metadata": {
    "collapsed": true
   },
   "outputs": [],
   "source": [
    "import numpy as np\n",
    "\n",
    "def score(x, Y):\n",
    "    return np.argmin((x - Y)**2)\n",
    "\n",
    "def min_rt_pairs(xx, yy):\n",
    "    '''\n",
    "    '''\n",
    "    print('all xx', xx)\n",
    "    print('al yy', yy)\n",
    "    sorted_ix = np.argsort(xx)\n",
    "    sorted_yy = np.sort(yy)\n",
    "    \n",
    "    arg_min_iy = 0\n",
    "    arg_min_iys = []\n",
    "    \n",
    "    for ix in sorted_ix:\n",
    "        iy = arg_min_iy\n",
    "        print('x', xx[ix])\n",
    "        arg_min_iy = iy + score(xx[ix], sorted_yy)\n",
    "        print('match', sorted_yy[arg_min_iy])    \n",
    "        arg_min_iys.append(arg_min_iy)\n",
    "            \n",
    "    print('final index', arg_min_iys)\n",
    "    return sorted_yy[arg_min_iys]"
   ]
  },
  {
   "cell_type": "code",
   "execution_count": 112,
   "metadata": {},
   "outputs": [
    {
     "name": "stdout",
     "output_type": "stream",
     "text": [
      "all xx [ 10.9317  11.0462  12.1734  12.3222]\n",
      "al yy [ 12.66993  10.16676  12.48198  12.36496  13.63668  10.59051  13.92386]\n",
      "x 10.9317\n",
      "match 10.59051\n",
      "x 11.0462\n",
      "match 12.36496\n",
      "x 12.1734\n",
      "match 12.66993\n",
      "x 12.3222\n",
      "match 13.92386\n",
      "final index [1, 2, 4, 6]\n"
     ]
    },
    {
     "data": {
      "text/plain": [
       "array([ 10.59051,  12.36496,  12.66993,  13.92386])"
      ]
     },
     "execution_count": 112,
     "metadata": {},
     "output_type": "execute_result"
    }
   ],
   "source": [
    "min_rt_pairs(lib.rt.values, fid.rt.values)"
   ]
  },
  {
   "cell_type": "code",
   "execution_count": null,
   "metadata": {},
   "outputs": [],
   "source": []
  },
  {
   "cell_type": "code",
   "execution_count": null,
   "metadata": {},
   "outputs": [],
   "source": []
  },
  {
   "cell_type": "code",
   "execution_count": null,
   "metadata": {},
   "outputs": [],
   "source": []
  },
  {
   "cell_type": "code",
   "execution_count": null,
   "metadata": {
    "collapsed": true
   },
   "outputs": [],
   "source": []
  }
 ],
 "metadata": {
  "kernelspec": {
   "display_name": "Python 3",
   "language": "python",
   "name": "python3"
  },
  "language_info": {
   "codemirror_mode": {
    "name": "ipython",
    "version": 3
   },
   "file_extension": ".py",
   "mimetype": "text/x-python",
   "name": "python",
   "nbconvert_exporter": "python",
   "pygments_lexer": "ipython3",
   "version": "3.6.1"
  }
 },
 "nbformat": 4,
 "nbformat_minor": 2
}
