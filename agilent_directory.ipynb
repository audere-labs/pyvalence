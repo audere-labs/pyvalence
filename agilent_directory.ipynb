{
 "cells": [
  {
   "cell_type": "markdown",
   "metadata": {
    "collapsed": true
   },
   "source": [
    "# Reading Agilent GCMS Files with `chemtbd`\n",
    "\n",
    "> __NOTE__: We need a name.  See [issue 3](https://github.com/blakeboswell/chemtbd/issues/3).\n",
    "\n",
    "Currently there is a hiearchy of objects for reading GCMS data:\n",
    "\n",
    "- `GcmsDir` object will read `RESULTS.csv` and `DATA.MS` from a single Agilent `.D` directory\n",
    "- `GcmsData` object will read a `DATA.MS` file\n",
    "- `GcmsResults` object will read a `RESULTS.csv` file\n",
    "\n",
    "These objects are available for import and direct use.  However, the main interface for file reading is the `chemtbd.io.Agilent` object which is a wrapper for the above methods.\n",
    "\n",
    "To use `chemtbd.io.Agilent`, import it as follows.  The directory that contains the `chemtbd` folder has to be the working directory"
   ]
  },
  {
   "cell_type": "code",
   "execution_count": 1,
   "metadata": {},
   "outputs": [],
   "source": [
    "from chemtbd.io import Agilent"
   ]
  },
  {
   "cell_type": "markdown",
   "metadata": {},
   "source": [
    "`Agilent` provides three main read functions:\n",
    "\n",
    "- `from_dir` expects a path to single Agilent `.D` directory as input\n",
    "- `from_root` expects a path to a parent directory containing only `.D` directories as children\n",
    "- `from_list` expects a list of paths to Agilent `.D` directories\n",
    "\n",
    "For example, let's load all `.D` folders from the directory `data/test3`:"
   ]
  },
  {
   "cell_type": "code",
   "execution_count": 2,
   "metadata": {},
   "outputs": [],
   "source": [
    "agi = Agilent.from_root('data/test3')"
   ]
  },
  {
   "cell_type": "markdown",
   "metadata": {
    "collapsed": true
   },
   "source": [
    "The `Agilent` object loads data lazily.  After initialization, Agi is a dictionary that contains the folder names as `keys` and `GcmsDir` objects as values.  When we ask it for data, it will read the data from disk, structure it as a pandas DataFrame, store it in a cache and finally return it.  The next time we ask for the same data, the DataFrame is loaded from the cache.\n",
    "\n",
    "Let's look at what `.D` folders are in `agi`:"
   ]
  },
  {
   "cell_type": "code",
   "execution_count": 3,
   "metadata": {},
   "outputs": [
    {
     "data": {
      "text/plain": [
       "dict_keys(['FA01.D', 'FA02.D', 'FA03.D', 'FA04.D', 'FA05.D', 'FA06.D', 'FA07.D', 'FA08.D', 'FA09.D', 'FA10.D', 'FA11.D', 'FA12.D', 'FA13.D', 'FA14.D', 'FA15.D'])"
      ]
     },
     "execution_count": 3,
     "metadata": {},
     "output_type": "execute_result"
    }
   ],
   "source": [
    "agi.keys()"
   ]
  },
  {
   "cell_type": "markdown",
   "metadata": {},
   "source": [
    "# Accessing all Files\n",
    "\n",
    "We can access the __RESULTS.CSV__ `tic` tables from all Agilent directories as a single pandas DataFrame using the below command.  The same command will similarly work for `lib` and `fdi` tables."
   ]
  },
  {
   "cell_type": "code",
   "execution_count": 5,
   "metadata": {},
   "outputs": [
    {
     "data": {
      "text/html": [
       "<div>\n",
       "<table border=\"1\" class=\"dataframe\">\n",
       "  <thead>\n",
       "    <tr style=\"text-align: right;\">\n",
       "      <th></th>\n",
       "      <th>header=</th>\n",
       "      <th>peak</th>\n",
       "      <th>rt</th>\n",
       "      <th>first</th>\n",
       "      <th>max</th>\n",
       "      <th>last</th>\n",
       "      <th>pk_ty</th>\n",
       "      <th>height</th>\n",
       "      <th>area</th>\n",
       "      <th>pct_max</th>\n",
       "      <th>pct_total</th>\n",
       "      <th>key</th>\n",
       "    </tr>\n",
       "  </thead>\n",
       "  <tbody>\n",
       "    <tr>\n",
       "      <th>0</th>\n",
       "      <td>1=</td>\n",
       "      <td>1.0</td>\n",
       "      <td>12.288</td>\n",
       "      <td>1600.0</td>\n",
       "      <td>1609.0</td>\n",
       "      <td>1647.0</td>\n",
       "      <td>rBV3</td>\n",
       "      <td>71023.0</td>\n",
       "      <td>478771.0</td>\n",
       "      <td>39.71</td>\n",
       "      <td>6.909</td>\n",
       "      <td>FA01.D</td>\n",
       "    </tr>\n",
       "    <tr>\n",
       "      <th>1</th>\n",
       "      <td>2=</td>\n",
       "      <td>2.0</td>\n",
       "      <td>13.598</td>\n",
       "      <td>1830.0</td>\n",
       "      <td>1838.0</td>\n",
       "      <td>1864.0</td>\n",
       "      <td>rBV2</td>\n",
       "      <td>247725.0</td>\n",
       "      <td>825285.0</td>\n",
       "      <td>68.46</td>\n",
       "      <td>11.910</td>\n",
       "      <td>FA01.D</td>\n",
       "    </tr>\n",
       "    <tr>\n",
       "      <th>2</th>\n",
       "      <td>3=</td>\n",
       "      <td>3.0</td>\n",
       "      <td>14.428</td>\n",
       "      <td>1977.0</td>\n",
       "      <td>1983.0</td>\n",
       "      <td>2004.0</td>\n",
       "      <td>rBV</td>\n",
       "      <td>481706.0</td>\n",
       "      <td>1098175.0</td>\n",
       "      <td>91.09</td>\n",
       "      <td>15.848</td>\n",
       "      <td>FA01.D</td>\n",
       "    </tr>\n",
       "    <tr>\n",
       "      <th>3</th>\n",
       "      <td>4=</td>\n",
       "      <td>4.0</td>\n",
       "      <td>15.080</td>\n",
       "      <td>2091.0</td>\n",
       "      <td>2097.0</td>\n",
       "      <td>2109.0</td>\n",
       "      <td>rBV</td>\n",
       "      <td>806692.0</td>\n",
       "      <td>1205528.0</td>\n",
       "      <td>100.00</td>\n",
       "      <td>17.397</td>\n",
       "      <td>FA01.D</td>\n",
       "    </tr>\n",
       "    <tr>\n",
       "      <th>4</th>\n",
       "      <td>5=</td>\n",
       "      <td>5.0</td>\n",
       "      <td>15.692</td>\n",
       "      <td>2198.0</td>\n",
       "      <td>2204.0</td>\n",
       "      <td>2215.0</td>\n",
       "      <td>rBV</td>\n",
       "      <td>731146.0</td>\n",
       "      <td>1085862.0</td>\n",
       "      <td>90.07</td>\n",
       "      <td>15.670</td>\n",
       "      <td>FA01.D</td>\n",
       "    </tr>\n",
       "  </tbody>\n",
       "</table>\n",
       "</div>"
      ],
      "text/plain": [
       "  header=  peak      rt   first     max    last pk_ty    height       area  \\\n",
       "0      1=   1.0  12.288  1600.0  1609.0  1647.0  rBV3   71023.0   478771.0   \n",
       "1      2=   2.0  13.598  1830.0  1838.0  1864.0  rBV2  247725.0   825285.0   \n",
       "2      3=   3.0  14.428  1977.0  1983.0  2004.0  rBV   481706.0  1098175.0   \n",
       "3      4=   4.0  15.080  2091.0  2097.0  2109.0  rBV   806692.0  1205528.0   \n",
       "4      5=   5.0  15.692  2198.0  2204.0  2215.0  rBV   731146.0  1085862.0   \n",
       "\n",
       "   pct_max  pct_total     key  \n",
       "0    39.71      6.909  FA01.D  \n",
       "1    68.46     11.910  FA01.D  \n",
       "2    91.09     15.848  FA01.D  \n",
       "3   100.00     17.397  FA01.D  \n",
       "4    90.07     15.670  FA01.D  "
      ]
     },
     "execution_count": 5,
     "metadata": {},
     "output_type": "execute_result"
    }
   ],
   "source": [
    "agi.results('tic').head()"
   ]
  },
  {
   "cell_type": "markdown",
   "metadata": {},
   "source": [
    "We can access the __DATA.MS__ `tme` tables from all Agilent directories as a single pandas DataFrame using the below command.  The same command wil work for the `tic` table."
   ]
  },
  {
   "cell_type": "code",
   "execution_count": 6,
   "metadata": {},
   "outputs": [
    {
     "data": {
      "text/html": [
       "<div>\n",
       "<table border=\"1\" class=\"dataframe\">\n",
       "  <thead>\n",
       "    <tr style=\"text-align: right;\">\n",
       "      <th></th>\n",
       "      <th>tme</th>\n",
       "      <th>key</th>\n",
       "    </tr>\n",
       "  </thead>\n",
       "  <tbody>\n",
       "    <tr>\n",
       "      <th>0</th>\n",
       "      <td>3.086817</td>\n",
       "      <td>FA01.D</td>\n",
       "    </tr>\n",
       "    <tr>\n",
       "      <th>1</th>\n",
       "      <td>3.092533</td>\n",
       "      <td>FA01.D</td>\n",
       "    </tr>\n",
       "    <tr>\n",
       "      <th>2</th>\n",
       "      <td>3.098250</td>\n",
       "      <td>FA01.D</td>\n",
       "    </tr>\n",
       "    <tr>\n",
       "      <th>3</th>\n",
       "      <td>3.103983</td>\n",
       "      <td>FA01.D</td>\n",
       "    </tr>\n",
       "    <tr>\n",
       "      <th>4</th>\n",
       "      <td>3.109700</td>\n",
       "      <td>FA01.D</td>\n",
       "    </tr>\n",
       "  </tbody>\n",
       "</table>\n",
       "</div>"
      ],
      "text/plain": [
       "        tme     key\n",
       "0  3.086817  FA01.D\n",
       "1  3.092533  FA01.D\n",
       "2  3.098250  FA01.D\n",
       "3  3.103983  FA01.D\n",
       "4  3.109700  FA01.D"
      ]
     },
     "execution_count": 6,
     "metadata": {},
     "output_type": "execute_result"
    }
   ],
   "source": [
    "agi.data('tme').head()"
   ]
  },
  {
   "cell_type": "markdown",
   "metadata": {},
   "source": [
    "> __NOTE__:  `tme` and `tic` from `DATA.MS` should probably be in the same table.  see [issue 2](https://github.com/blakeboswell/chemtbd/issues/2) for discussion."
   ]
  },
  {
   "cell_type": "markdown",
   "metadata": {},
   "source": [
    "## Acessing a Single Agilent Directory\n",
    "\n",
    "We can access the `RESULTS.CSV` and `DATA.MS` data for each `.D` indivdually as follows:"
   ]
  },
  {
   "cell_type": "code",
   "execution_count": 8,
   "metadata": {},
   "outputs": [
    {
     "data": {
      "text/html": [
       "<div>\n",
       "<table border=\"1\" class=\"dataframe\">\n",
       "  <thead>\n",
       "    <tr style=\"text-align: right;\">\n",
       "      <th></th>\n",
       "      <th>header=</th>\n",
       "      <th>peak</th>\n",
       "      <th>rt</th>\n",
       "      <th>first</th>\n",
       "      <th>max</th>\n",
       "      <th>last</th>\n",
       "      <th>pk_ty</th>\n",
       "      <th>height</th>\n",
       "      <th>area</th>\n",
       "      <th>pct_max</th>\n",
       "      <th>pct_total</th>\n",
       "    </tr>\n",
       "  </thead>\n",
       "  <tbody>\n",
       "    <tr>\n",
       "      <th>0</th>\n",
       "      <td>1=</td>\n",
       "      <td>1</td>\n",
       "      <td>12.288</td>\n",
       "      <td>1600</td>\n",
       "      <td>1609</td>\n",
       "      <td>1647</td>\n",
       "      <td>rBV3</td>\n",
       "      <td>71023</td>\n",
       "      <td>478771</td>\n",
       "      <td>39.71</td>\n",
       "      <td>6.909</td>\n",
       "    </tr>\n",
       "    <tr>\n",
       "      <th>1</th>\n",
       "      <td>2=</td>\n",
       "      <td>2</td>\n",
       "      <td>13.598</td>\n",
       "      <td>1830</td>\n",
       "      <td>1838</td>\n",
       "      <td>1864</td>\n",
       "      <td>rBV2</td>\n",
       "      <td>247725</td>\n",
       "      <td>825285</td>\n",
       "      <td>68.46</td>\n",
       "      <td>11.910</td>\n",
       "    </tr>\n",
       "    <tr>\n",
       "      <th>2</th>\n",
       "      <td>3=</td>\n",
       "      <td>3</td>\n",
       "      <td>14.428</td>\n",
       "      <td>1977</td>\n",
       "      <td>1983</td>\n",
       "      <td>2004</td>\n",
       "      <td>rBV</td>\n",
       "      <td>481706</td>\n",
       "      <td>1098175</td>\n",
       "      <td>91.09</td>\n",
       "      <td>15.848</td>\n",
       "    </tr>\n",
       "    <tr>\n",
       "      <th>3</th>\n",
       "      <td>4=</td>\n",
       "      <td>4</td>\n",
       "      <td>15.080</td>\n",
       "      <td>2091</td>\n",
       "      <td>2097</td>\n",
       "      <td>2109</td>\n",
       "      <td>rBV</td>\n",
       "      <td>806692</td>\n",
       "      <td>1205528</td>\n",
       "      <td>100.00</td>\n",
       "      <td>17.397</td>\n",
       "    </tr>\n",
       "    <tr>\n",
       "      <th>4</th>\n",
       "      <td>5=</td>\n",
       "      <td>5</td>\n",
       "      <td>15.692</td>\n",
       "      <td>2198</td>\n",
       "      <td>2204</td>\n",
       "      <td>2215</td>\n",
       "      <td>rBV</td>\n",
       "      <td>731146</td>\n",
       "      <td>1085862</td>\n",
       "      <td>90.07</td>\n",
       "      <td>15.670</td>\n",
       "    </tr>\n",
       "  </tbody>\n",
       "</table>\n",
       "</div>"
      ],
      "text/plain": [
       "  header=  peak      rt  first   max  last pk_ty  height     area  pct_max  \\\n",
       "0      1=     1  12.288   1600  1609  1647  rBV3   71023   478771    39.71   \n",
       "1      2=     2  13.598   1830  1838  1864  rBV2  247725   825285    68.46   \n",
       "2      3=     3  14.428   1977  1983  2004  rBV   481706  1098175    91.09   \n",
       "3      4=     4  15.080   2091  2097  2109  rBV   806692  1205528   100.00   \n",
       "4      5=     5  15.692   2198  2204  2215  rBV   731146  1085862    90.07   \n",
       "\n",
       "   pct_total  \n",
       "0      6.909  \n",
       "1     11.910  \n",
       "2     15.848  \n",
       "3     17.397  \n",
       "4     15.670  "
      ]
     },
     "execution_count": 8,
     "metadata": {},
     "output_type": "execute_result"
    }
   ],
   "source": [
    "agi['FA01.D'].results['tic'].head()"
   ]
  },
  {
   "cell_type": "code",
   "execution_count": 9,
   "metadata": {},
   "outputs": [
    {
     "data": {
      "text/html": [
       "<div>\n",
       "<table border=\"1\" class=\"dataframe\">\n",
       "  <thead>\n",
       "    <tr style=\"text-align: right;\">\n",
       "      <th></th>\n",
       "      <th>tme</th>\n",
       "    </tr>\n",
       "  </thead>\n",
       "  <tbody>\n",
       "    <tr>\n",
       "      <th>0</th>\n",
       "      <td>3.086817</td>\n",
       "    </tr>\n",
       "    <tr>\n",
       "      <th>1</th>\n",
       "      <td>3.092533</td>\n",
       "    </tr>\n",
       "    <tr>\n",
       "      <th>2</th>\n",
       "      <td>3.098250</td>\n",
       "    </tr>\n",
       "    <tr>\n",
       "      <th>3</th>\n",
       "      <td>3.103983</td>\n",
       "    </tr>\n",
       "    <tr>\n",
       "      <th>4</th>\n",
       "      <td>3.109700</td>\n",
       "    </tr>\n",
       "  </tbody>\n",
       "</table>\n",
       "</div>"
      ],
      "text/plain": [
       "        tme\n",
       "0  3.086817\n",
       "1  3.092533\n",
       "2  3.098250\n",
       "3  3.103983\n",
       "4  3.109700"
      ]
     },
     "execution_count": 9,
     "metadata": {},
     "output_type": "execute_result"
    }
   ],
   "source": [
    "agi['FA01.D'].data['tme'].head()"
   ]
  },
  {
   "cell_type": "markdown",
   "metadata": {},
   "source": [
    ">  __NOTE__ The interfaces are not consistent yet. Eventually we will have the option to use brackets and dot for requesting attributes from the `results` and `data` objects.   (as opposed to parenthesis sometimes)"
   ]
  },
  {
   "cell_type": "code",
   "execution_count": null,
   "metadata": {
    "collapsed": true
   },
   "outputs": [],
   "source": []
  }
 ],
 "metadata": {
  "kernelspec": {
   "display_name": "Python 3",
   "language": "python",
   "name": "python3"
  },
  "language_info": {
   "codemirror_mode": {
    "name": "ipython",
    "version": 3
   },
   "file_extension": ".py",
   "mimetype": "text/x-python",
   "name": "python",
   "nbconvert_exporter": "python",
   "pygments_lexer": "ipython3",
   "version": "3.6.1"
  }
 },
 "nbformat": 4,
 "nbformat_minor": 2
}
