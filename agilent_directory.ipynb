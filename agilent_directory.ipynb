{
 "cells": [
  {
   "cell_type": "markdown",
   "metadata": {
    "collapsed": true
   },
   "source": [
    "# Reading Agilent GCMS Directories with `chemtbd`\n",
    "\n",
    "> __NOTE__: We need a name.  See [issue 3](https://github.com/blakeboswell/chemtbd/issues/3)."
   ]
  },
  {
   "cell_type": "code",
   "execution_count": 1,
   "metadata": {},
   "outputs": [],
   "source": [
    "from chemtbd.io import Agilent"
   ]
  },
  {
   "cell_type": "markdown",
   "metadata": {},
   "source": [
    "The `Agilent` object contains an object for reading Agilent directories named `Agilent`.  Use it as follows:"
   ]
  },
  {
   "cell_type": "code",
   "execution_count": 2,
   "metadata": {},
   "outputs": [],
   "source": [
    "agi = Agilent.from_root('data/test3')"
   ]
  },
  {
   "cell_type": "markdown",
   "metadata": {
    "collapsed": true
   },
   "source": [
    "The `Agilent` object loads data lazily, so nothing has actually happened yet.  When we ask it for data, it will read the data from disk, structure it as a pandas DataFrame, store it in a cache and finally return it.  The next time we ask for the same data, the DataFrame is loaded from the cache.\n",
    "\n",
    "Currently there are two access properties:\n",
    "- `results` - returns `tic`, `fid`, and `lib` tables from `RESULTS.csv`\n",
    "- `raw` - returns `tic` and `tme` series from `DATA.MS`\n"
   ]
  },
  {
   "cell_type": "markdown",
   "metadata": {},
   "source": [
    "## Acessing Agilent GCMS `RESULTS.CSV`\n",
    "\n",
    "Let's read in the `results` data:\n",
    "\n",
    "> __NOTE__: The below will __not__ work on the test data containing dummy `fid` tables. See [issue 1](https://github.com/blakeboswell/chemtbd/issues/1) for details."
   ]
  },
  {
   "cell_type": "markdown",
   "metadata": {},
   "source": [
    "The `results` data can contain `tic`, `lib` and `fid` tables although one or more tables may be missing from the source data and therefore not available from the `Agilent` object.  \n",
    "\n",
    "When present in the source data, these tables are accessible via properties of the same name.  For example"
   ]
  },
  {
   "cell_type": "code",
   "execution_count": 3,
   "metadata": {},
   "outputs": [
    {
     "data": {
      "text/plain": [
       "dict_keys(['FA01.D', 'FA02.D', 'FA03.D', 'FA04.D', 'FA05.D', 'FA06.D', 'FA07.D', 'FA08.D', 'FA09.D', 'FA10.D', 'FA11.D', 'FA12.D', 'FA13.D', 'FA14.D', 'FA15.D'])"
      ]
     },
     "execution_count": 3,
     "metadata": {},
     "output_type": "execute_result"
    }
   ],
   "source": [
    "agi.keys()"
   ]
  },
  {
   "cell_type": "code",
   "execution_count": 4,
   "metadata": {},
   "outputs": [
    {
     "data": {
      "text/html": [
       "<div>\n",
       "<table border=\"1\" class=\"dataframe\">\n",
       "  <thead>\n",
       "    <tr style=\"text-align: right;\">\n",
       "      <th></th>\n",
       "      <th>header=</th>\n",
       "      <th>peak</th>\n",
       "      <th>rt</th>\n",
       "      <th>first</th>\n",
       "      <th>max</th>\n",
       "      <th>last</th>\n",
       "      <th>pk_ty</th>\n",
       "      <th>height</th>\n",
       "      <th>area</th>\n",
       "      <th>pct_max</th>\n",
       "      <th>pct_total</th>\n",
       "      <th>key</th>\n",
       "    </tr>\n",
       "  </thead>\n",
       "  <tbody>\n",
       "    <tr>\n",
       "      <th>0</th>\n",
       "      <td>1=</td>\n",
       "      <td>1.0</td>\n",
       "      <td>12.288</td>\n",
       "      <td>1600.0</td>\n",
       "      <td>1609.0</td>\n",
       "      <td>1647.0</td>\n",
       "      <td>rBV3</td>\n",
       "      <td>71023.0</td>\n",
       "      <td>478771.0</td>\n",
       "      <td>39.71</td>\n",
       "      <td>6.909</td>\n",
       "      <td>FA01.D</td>\n",
       "    </tr>\n",
       "    <tr>\n",
       "      <th>1</th>\n",
       "      <td>2=</td>\n",
       "      <td>2.0</td>\n",
       "      <td>13.598</td>\n",
       "      <td>1830.0</td>\n",
       "      <td>1838.0</td>\n",
       "      <td>1864.0</td>\n",
       "      <td>rBV2</td>\n",
       "      <td>247725.0</td>\n",
       "      <td>825285.0</td>\n",
       "      <td>68.46</td>\n",
       "      <td>11.910</td>\n",
       "      <td>FA01.D</td>\n",
       "    </tr>\n",
       "    <tr>\n",
       "      <th>2</th>\n",
       "      <td>3=</td>\n",
       "      <td>3.0</td>\n",
       "      <td>14.428</td>\n",
       "      <td>1977.0</td>\n",
       "      <td>1983.0</td>\n",
       "      <td>2004.0</td>\n",
       "      <td>rBV</td>\n",
       "      <td>481706.0</td>\n",
       "      <td>1098175.0</td>\n",
       "      <td>91.09</td>\n",
       "      <td>15.848</td>\n",
       "      <td>FA01.D</td>\n",
       "    </tr>\n",
       "    <tr>\n",
       "      <th>3</th>\n",
       "      <td>4=</td>\n",
       "      <td>4.0</td>\n",
       "      <td>15.080</td>\n",
       "      <td>2091.0</td>\n",
       "      <td>2097.0</td>\n",
       "      <td>2109.0</td>\n",
       "      <td>rBV</td>\n",
       "      <td>806692.0</td>\n",
       "      <td>1205528.0</td>\n",
       "      <td>100.00</td>\n",
       "      <td>17.397</td>\n",
       "      <td>FA01.D</td>\n",
       "    </tr>\n",
       "    <tr>\n",
       "      <th>4</th>\n",
       "      <td>5=</td>\n",
       "      <td>5.0</td>\n",
       "      <td>15.692</td>\n",
       "      <td>2198.0</td>\n",
       "      <td>2204.0</td>\n",
       "      <td>2215.0</td>\n",
       "      <td>rBV</td>\n",
       "      <td>731146.0</td>\n",
       "      <td>1085862.0</td>\n",
       "      <td>90.07</td>\n",
       "      <td>15.670</td>\n",
       "      <td>FA01.D</td>\n",
       "    </tr>\n",
       "  </tbody>\n",
       "</table>\n",
       "</div>"
      ],
      "text/plain": [
       "  header=  peak      rt   first     max    last pk_ty    height       area  \\\n",
       "0      1=   1.0  12.288  1600.0  1609.0  1647.0  rBV3   71023.0   478771.0   \n",
       "1      2=   2.0  13.598  1830.0  1838.0  1864.0  rBV2  247725.0   825285.0   \n",
       "2      3=   3.0  14.428  1977.0  1983.0  2004.0  rBV   481706.0  1098175.0   \n",
       "3      4=   4.0  15.080  2091.0  2097.0  2109.0  rBV   806692.0  1205528.0   \n",
       "4      5=   5.0  15.692  2198.0  2204.0  2215.0  rBV   731146.0  1085862.0   \n",
       "\n",
       "   pct_max  pct_total     key  \n",
       "0    39.71      6.909  FA01.D  \n",
       "1    68.46     11.910  FA01.D  \n",
       "2    91.09     15.848  FA01.D  \n",
       "3   100.00     17.397  FA01.D  \n",
       "4    90.07     15.670  FA01.D  "
      ]
     },
     "execution_count": 4,
     "metadata": {},
     "output_type": "execute_result"
    }
   ],
   "source": [
    "agi.results('tic').head()"
   ]
  },
  {
   "cell_type": "code",
   "execution_count": 5,
   "metadata": {},
   "outputs": [
    {
     "data": {
      "text/plain": [
       "(129, 12)"
      ]
     },
     "execution_count": 5,
     "metadata": {},
     "output_type": "execute_result"
    }
   ],
   "source": [
    "agi.results('tic').shape"
   ]
  },
  {
   "cell_type": "code",
   "execution_count": 6,
   "metadata": {},
   "outputs": [
    {
     "data": {
      "text/html": [
       "<div>\n",
       "<table border=\"1\" class=\"dataframe\">\n",
       "  <thead>\n",
       "    <tr style=\"text-align: right;\">\n",
       "      <th></th>\n",
       "      <th>header=</th>\n",
       "      <th>pk</th>\n",
       "      <th>rt</th>\n",
       "      <th>pct_area</th>\n",
       "      <th>library_id</th>\n",
       "      <th>ref</th>\n",
       "      <th>cas</th>\n",
       "      <th>qual</th>\n",
       "      <th>key</th>\n",
       "    </tr>\n",
       "  </thead>\n",
       "  <tbody>\n",
       "    <tr>\n",
       "      <th>0</th>\n",
       "      <td>1=</td>\n",
       "      <td>1.0</td>\n",
       "      <td>5.7877</td>\n",
       "      <td>2.0335</td>\n",
       "      <td>Methyl octanoate</td>\n",
       "      <td>17.0</td>\n",
       "      <td>000000-00-0</td>\n",
       "      <td>96.0</td>\n",
       "      <td>FA03.D</td>\n",
       "    </tr>\n",
       "    <tr>\n",
       "      <th>1</th>\n",
       "      <td>2=</td>\n",
       "      <td>2.0</td>\n",
       "      <td>7.3441</td>\n",
       "      <td>3.4015</td>\n",
       "      <td>Methyl decanoate</td>\n",
       "      <td>1.0</td>\n",
       "      <td>000000-00-0</td>\n",
       "      <td>98.0</td>\n",
       "      <td>FA03.D</td>\n",
       "    </tr>\n",
       "    <tr>\n",
       "      <th>2</th>\n",
       "      <td>3=</td>\n",
       "      <td>3.0</td>\n",
       "      <td>8.0364</td>\n",
       "      <td>1.7448</td>\n",
       "      <td>Methyl undecanoate</td>\n",
       "      <td>2.0</td>\n",
       "      <td>000000-00-0</td>\n",
       "      <td>98.0</td>\n",
       "      <td>FA03.D</td>\n",
       "    </tr>\n",
       "    <tr>\n",
       "      <th>3</th>\n",
       "      <td>4=</td>\n",
       "      <td>4.0</td>\n",
       "      <td>8.6715</td>\n",
       "      <td>3.9674</td>\n",
       "      <td>Methyl dodecanoate</td>\n",
       "      <td>3.0</td>\n",
       "      <td>000000-00-0</td>\n",
       "      <td>98.0</td>\n",
       "      <td>FA03.D</td>\n",
       "    </tr>\n",
       "    <tr>\n",
       "      <th>4</th>\n",
       "      <td>5=</td>\n",
       "      <td>5.0</td>\n",
       "      <td>9.2781</td>\n",
       "      <td>1.9607</td>\n",
       "      <td>Methyl tridecanoate</td>\n",
       "      <td>4.0</td>\n",
       "      <td>000000-00-0</td>\n",
       "      <td>99.0</td>\n",
       "      <td>FA03.D</td>\n",
       "    </tr>\n",
       "  </tbody>\n",
       "</table>\n",
       "</div>"
      ],
      "text/plain": [
       "  header=   pk      rt  pct_area           library_id   ref          cas  \\\n",
       "0      1=  1.0  5.7877    2.0335     Methyl octanoate  17.0  000000-00-0   \n",
       "1      2=  2.0  7.3441    3.4015     Methyl decanoate   1.0  000000-00-0   \n",
       "2      3=  3.0  8.0364    1.7448   Methyl undecanoate   2.0  000000-00-0   \n",
       "3      4=  4.0  8.6715    3.9674   Methyl dodecanoate   3.0  000000-00-0   \n",
       "4      5=  5.0  9.2781    1.9607  Methyl tridecanoate   4.0  000000-00-0   \n",
       "\n",
       "   qual     key  \n",
       "0  96.0  FA03.D  \n",
       "1  98.0  FA03.D  \n",
       "2  98.0  FA03.D  \n",
       "3  98.0  FA03.D  \n",
       "4  99.0  FA03.D  "
      ]
     },
     "execution_count": 6,
     "metadata": {},
     "output_type": "execute_result"
    }
   ],
   "source": [
    "agi.results('lib').head()"
   ]
  },
  {
   "cell_type": "code",
   "execution_count": 7,
   "metadata": {},
   "outputs": [
    {
     "data": {
      "text/html": [
       "<div>\n",
       "<table border=\"1\" class=\"dataframe\">\n",
       "  <thead>\n",
       "    <tr style=\"text-align: right;\">\n",
       "      <th></th>\n",
       "      <th>header=</th>\n",
       "      <th>peak</th>\n",
       "      <th>rt</th>\n",
       "      <th>first</th>\n",
       "      <th>end</th>\n",
       "      <th>pk_ty</th>\n",
       "      <th>height</th>\n",
       "      <th>area</th>\n",
       "      <th>pct_max</th>\n",
       "      <th>pct_total</th>\n",
       "      <th>key</th>\n",
       "    </tr>\n",
       "  </thead>\n",
       "  <tbody>\n",
       "    <tr>\n",
       "      <th>0</th>\n",
       "      <td>1=</td>\n",
       "      <td>1</td>\n",
       "      <td>6.250716</td>\n",
       "      <td>5.938180</td>\n",
       "      <td>6.563252</td>\n",
       "      <td>M</td>\n",
       "      <td>2578080</td>\n",
       "      <td>14894660</td>\n",
       "      <td>1</td>\n",
       "      <td>1.962</td>\n",
       "      <td>FA03.D</td>\n",
       "    </tr>\n",
       "    <tr>\n",
       "      <th>1</th>\n",
       "      <td>2=</td>\n",
       "      <td>2</td>\n",
       "      <td>7.858187</td>\n",
       "      <td>7.465278</td>\n",
       "      <td>8.251096</td>\n",
       "      <td>M</td>\n",
       "      <td>9647430</td>\n",
       "      <td>24914490</td>\n",
       "      <td>1</td>\n",
       "      <td>3.282</td>\n",
       "      <td>FA03.D</td>\n",
       "    </tr>\n",
       "    <tr>\n",
       "      <th>2</th>\n",
       "      <td>3=</td>\n",
       "      <td>3</td>\n",
       "      <td>8.357856</td>\n",
       "      <td>7.939963</td>\n",
       "      <td>8.775749</td>\n",
       "      <td>M</td>\n",
       "      <td>6084180</td>\n",
       "      <td>12779820</td>\n",
       "      <td>1</td>\n",
       "      <td>1.683</td>\n",
       "      <td>FA03.D</td>\n",
       "    </tr>\n",
       "    <tr>\n",
       "      <th>3</th>\n",
       "      <td>4=</td>\n",
       "      <td>4</td>\n",
       "      <td>9.798795</td>\n",
       "      <td>9.308855</td>\n",
       "      <td>10.288735</td>\n",
       "      <td>M</td>\n",
       "      <td>19290490</td>\n",
       "      <td>29059610</td>\n",
       "      <td>1</td>\n",
       "      <td>3.828</td>\n",
       "      <td>FA03.D</td>\n",
       "    </tr>\n",
       "    <tr>\n",
       "      <th>4</th>\n",
       "      <td>5=</td>\n",
       "      <td>5</td>\n",
       "      <td>10.669815</td>\n",
       "      <td>10.136324</td>\n",
       "      <td>11.203306</td>\n",
       "      <td>M</td>\n",
       "      <td>8825210</td>\n",
       "      <td>14361540</td>\n",
       "      <td>1</td>\n",
       "      <td>1.892</td>\n",
       "      <td>FA03.D</td>\n",
       "    </tr>\n",
       "  </tbody>\n",
       "</table>\n",
       "</div>"
      ],
      "text/plain": [
       "  header=  peak         rt      first        end pk_ty    height      area  \\\n",
       "0      1=     1   6.250716   5.938180   6.563252     M   2578080  14894660   \n",
       "1      2=     2   7.858187   7.465278   8.251096     M   9647430  24914490   \n",
       "2      3=     3   8.357856   7.939963   8.775749     M   6084180  12779820   \n",
       "3      4=     4   9.798795   9.308855  10.288735     M  19290490  29059610   \n",
       "4      5=     5  10.669815  10.136324  11.203306     M   8825210  14361540   \n",
       "\n",
       "   pct_max  pct_total     key  \n",
       "0        1      1.962  FA03.D  \n",
       "1        1      3.282  FA03.D  \n",
       "2        1      1.683  FA03.D  \n",
       "3        1      3.828  FA03.D  \n",
       "4        1      1.892  FA03.D  "
      ]
     },
     "execution_count": 7,
     "metadata": {},
     "output_type": "execute_result"
    }
   ],
   "source": [
    "agi.results('fid').head()"
   ]
  },
  {
   "cell_type": "markdown",
   "metadata": {},
   "source": [
    "# Accessing Agilent GCMS `DATA.MS`"
   ]
  },
  {
   "cell_type": "markdown",
   "metadata": {
    "collapsed": true
   },
   "source": []
  },
  {
   "cell_type": "code",
   "execution_count": 8,
   "metadata": {},
   "outputs": [
    {
     "data": {
      "text/html": [
       "<div>\n",
       "<table border=\"1\" class=\"dataframe\">\n",
       "  <thead>\n",
       "    <tr style=\"text-align: right;\">\n",
       "      <th></th>\n",
       "      <th>tic</th>\n",
       "      <th>key</th>\n",
       "    </tr>\n",
       "  </thead>\n",
       "  <tbody>\n",
       "    <tr>\n",
       "      <th>0</th>\n",
       "      <td>3576027.0</td>\n",
       "      <td>FA01.D</td>\n",
       "    </tr>\n",
       "    <tr>\n",
       "      <th>1</th>\n",
       "      <td>2654533.0</td>\n",
       "      <td>FA01.D</td>\n",
       "    </tr>\n",
       "    <tr>\n",
       "      <th>2</th>\n",
       "      <td>2052596.0</td>\n",
       "      <td>FA01.D</td>\n",
       "    </tr>\n",
       "    <tr>\n",
       "      <th>3</th>\n",
       "      <td>1665840.0</td>\n",
       "      <td>FA01.D</td>\n",
       "    </tr>\n",
       "    <tr>\n",
       "      <th>4</th>\n",
       "      <td>1409909.0</td>\n",
       "      <td>FA01.D</td>\n",
       "    </tr>\n",
       "  </tbody>\n",
       "</table>\n",
       "</div>"
      ],
      "text/plain": [
       "         tic     key\n",
       "0  3576027.0  FA01.D\n",
       "1  2654533.0  FA01.D\n",
       "2  2052596.0  FA01.D\n",
       "3  1665840.0  FA01.D\n",
       "4  1409909.0  FA01.D"
      ]
     },
     "execution_count": 8,
     "metadata": {},
     "output_type": "execute_result"
    }
   ],
   "source": [
    "agi.data('tic').head()"
   ]
  },
  {
   "cell_type": "code",
   "execution_count": 9,
   "metadata": {},
   "outputs": [
    {
     "data": {
      "text/html": [
       "<div>\n",
       "<table border=\"1\" class=\"dataframe\">\n",
       "  <thead>\n",
       "    <tr style=\"text-align: right;\">\n",
       "      <th></th>\n",
       "      <th>tme</th>\n",
       "      <th>key</th>\n",
       "    </tr>\n",
       "  </thead>\n",
       "  <tbody>\n",
       "    <tr>\n",
       "      <th>0</th>\n",
       "      <td>3.086817</td>\n",
       "      <td>FA01.D</td>\n",
       "    </tr>\n",
       "    <tr>\n",
       "      <th>1</th>\n",
       "      <td>3.092533</td>\n",
       "      <td>FA01.D</td>\n",
       "    </tr>\n",
       "    <tr>\n",
       "      <th>2</th>\n",
       "      <td>3.098250</td>\n",
       "      <td>FA01.D</td>\n",
       "    </tr>\n",
       "    <tr>\n",
       "      <th>3</th>\n",
       "      <td>3.103983</td>\n",
       "      <td>FA01.D</td>\n",
       "    </tr>\n",
       "    <tr>\n",
       "      <th>4</th>\n",
       "      <td>3.109700</td>\n",
       "      <td>FA01.D</td>\n",
       "    </tr>\n",
       "  </tbody>\n",
       "</table>\n",
       "</div>"
      ],
      "text/plain": [
       "        tme     key\n",
       "0  3.086817  FA01.D\n",
       "1  3.092533  FA01.D\n",
       "2  3.098250  FA01.D\n",
       "3  3.103983  FA01.D\n",
       "4  3.109700  FA01.D"
      ]
     },
     "execution_count": 9,
     "metadata": {},
     "output_type": "execute_result"
    }
   ],
   "source": [
    "agi.data('tme').head()"
   ]
  },
  {
   "cell_type": "code",
   "execution_count": 10,
   "metadata": {},
   "outputs": [
    {
     "data": {
      "text/plain": [
       "(44355, 2)"
      ]
     },
     "execution_count": 10,
     "metadata": {},
     "output_type": "execute_result"
    }
   ],
   "source": [
    "agi.data('tme').shape"
   ]
  },
  {
   "cell_type": "code",
   "execution_count": 11,
   "metadata": {},
   "outputs": [
    {
     "data": {
      "text/plain": [
       "(44355, 2)"
      ]
     },
     "execution_count": 11,
     "metadata": {},
     "output_type": "execute_result"
    }
   ],
   "source": [
    "agi.data('tic').shape"
   ]
  },
  {
   "cell_type": "code",
   "execution_count": null,
   "metadata": {
    "collapsed": true
   },
   "outputs": [],
   "source": []
  }
 ],
 "metadata": {
  "kernelspec": {
   "display_name": "Python 3",
   "language": "python",
   "name": "python3"
  },
  "language_info": {
   "codemirror_mode": {
    "name": "ipython",
    "version": 3
   },
   "file_extension": ".py",
   "mimetype": "text/x-python",
   "name": "python",
   "nbconvert_exporter": "python",
   "pygments_lexer": "ipython3",
   "version": "3.6.1"
  }
 },
 "nbformat": 4,
 "nbformat_minor": 2
}
