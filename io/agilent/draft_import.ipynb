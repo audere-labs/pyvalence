{
 "cells": [
  {
   "cell_type": "code",
   "execution_count": 1,
   "metadata": {
    "collapsed": true
   },
   "outputs": [],
   "source": [
    "import re\n",
    "import csv\n",
    "import pandas as pd\n",
    "import numpy as np"
   ]
  },
  {
   "cell_type": "code",
   "execution_count": 2,
   "metadata": {
    "collapsed": true
   },
   "outputs": [],
   "source": [
    "import os\n",
    "def diriter(root_dir, extension):\n",
    "    ''' grab files from root/sub dirs having extension\n",
    "    '''\n",
    "    return ((f, os.path.join(root, f))\n",
    "            for root, dirs, files in os.walk(root_dir)\n",
    "            for f in files if f.endswith(extension))"
   ]
  },
  {
   "cell_type": "code",
   "execution_count": 9,
   "metadata": {
    "collapsed": true
   },
   "outputs": [],
   "source": [
    "file_path = '../../data/FA03.D/RESULTS.CSV'"
   ]
  },
  {
   "cell_type": "code",
   "execution_count": 4,
   "metadata": {
    "collapsed": true
   },
   "outputs": [],
   "source": [
    "''' conditions\n",
    "'''\n",
    "def istablerow(line):\n",
    "    return re.match('\\d+=', line)\n",
    "\n",
    "def isheader(line):\n",
    "    return line[0] == 'Header='"
   ]
  },
  {
   "cell_type": "code",
   "execution_count": 5,
   "metadata": {
    "collapsed": true
   },
   "outputs": [],
   "source": [
    "def seek_rows(header, gen):\n",
    "    ''' gen is at position after header seek until\n",
    "        no more table rows or stopiter exception\n",
    "    '''\n",
    "    table = [header]\n",
    "    try:\n",
    "        while True:\n",
    "            line = next(gen)\n",
    "            if not istablerow(line[0]):\n",
    "                break\n",
    "            table.append(line)\n",
    "    except StopIteration as e:\n",
    "        line = None\n",
    "    finally:\n",
    "        return line, table"
   ]
  },
  {
   "cell_type": "code",
   "execution_count": 6,
   "metadata": {
    "collapsed": true
   },
   "outputs": [],
   "source": [
    "def scan_csv(gen):\n",
    "    ''' split csv generator into meta information\n",
    "        and list of individual tables of tokens\n",
    "    '''    \n",
    "    meta, tables = [], []\n",
    "    try:\n",
    "        while True:\n",
    "            line = next(gen)\n",
    "            if isheader(line):\n",
    "                line, table = seek_rows(line, gen)\n",
    "                tables.append(table)\n",
    "            if line:\n",
    "                meta.append(line)\n",
    "    except StopIteration as e:\n",
    "        return meta, tables"
   ]
  },
  {
   "cell_type": "code",
   "execution_count": null,
   "metadata": {
    "collapsed": true
   },
   "outputs": [],
   "source": [
    "# def make_dataframes(tables):\n",
    "#     ''' make data frame from lists of list of tokens\n",
    "#     '''\n",
    "#     return [pd.DataFrame(table[1:], columns=table[0])\n",
    "#             for table in tables]\n",
    "\n",
    "# def clean_col(col):\n",
    "#     '''\n",
    "#     '''\n",
    "#     return ''.join(['' if c in ['/', ' ', '.'] else c\n",
    "#                     for c in col]).lower()\n",
    "\n",
    "# def make_dataframe(table):\n",
    "#     df = pd.DataFrame(table[1:], columns=table[0])\n",
    "#     prefix = 'tic' if 'R.T.' in df.columns else 'lib'\n",
    "#     df.columns = [clean_col(col) for col in df.columns]\n",
    "#     return df.add_prefix('{}_'.format(prefix))\n",
    "\n",
    "\n",
    "# def cbind_dataframes(dfs):\n",
    "#     ''' column bind dfs and drop dup columns\n",
    "#     '''\n",
    "#     return pd.concat([df for df in dfs], axis=1)"
   ]
  },
  {
   "cell_type": "code",
   "execution_count": 10,
   "metadata": {},
   "outputs": [],
   "source": [
    "meta, tables = scan_csv(csv.reader(open(file_path)))"
   ]
  },
  {
   "cell_type": "code",
   "execution_count": 11,
   "metadata": {},
   "outputs": [
    {
     "ename": "SyntaxError",
     "evalue": "invalid syntax (gcms_area_analysis.py, line 25)",
     "output_type": "error",
     "traceback": [
      "\u001b[0;36m  File \u001b[0;32m\"/Users/blakeboswell/projects/audere/chem/io/agilent/gcms_area_analysis.py\"\u001b[0;36m, line \u001b[0;32m25\u001b[0m\n\u001b[0;31m    'Pct Max': ('pct_max': np.float32),\u001b[0m\n\u001b[0m                         ^\u001b[0m\n\u001b[0;31mSyntaxError\u001b[0m\u001b[0;31m:\u001b[0m invalid syntax\n"
     ]
    }
   ],
   "source": [
    "import gcms_area_analysis as gcms"
   ]
  },
  {
   "cell_type": "code",
   "execution_count": 8,
   "metadata": {},
   "outputs": [
    {
     "name": "stdout",
     "output_type": "stream",
     "text": [
      "\u001b[1m\u001b[36mchem\u001b[m\u001b[m             \u001b[1m\u001b[36mcue-model\u001b[m\u001b[m        \u001b[1m\u001b[36mfodder\u001b[m\u001b[m           \u001b[1m\u001b[36mrevision-browser\u001b[m\u001b[m\r\n",
      "\u001b[1m\u001b[36mcue\u001b[m\u001b[m              \u001b[1m\u001b[36mdriveai\u001b[m\u001b[m          \u001b[1m\u001b[36mhistory\u001b[m\u001b[m          \u001b[1m\u001b[36mspeechapp\u001b[m\u001b[m\r\n"
     ]
    }
   ],
   "source": [
    "!ls ../../../"
   ]
  },
  {
   "cell_type": "code",
   "execution_count": null,
   "metadata": {
    "collapsed": true
   },
   "outputs": [],
   "source": [
    "def find_match(df):\n",
    "    argmax = lambda x: ((x - df.lib_rt.astype(np.float32))**2).idxmin()\n",
    "    return df.lib_libraryid[df.tic_rt.astype(np.float32).apply(argmax)]"
   ]
  },
  {
   "cell_type": "code",
   "execution_count": null,
   "metadata": {
    "collapsed": true
   },
   "outputs": [],
   "source": [
    "df['match_libid'] = find_match(df)"
   ]
  },
  {
   "cell_type": "code",
   "execution_count": null,
   "metadata": {
    "collapsed": true
   },
   "outputs": [],
   "source": [
    "df.head(10)"
   ]
  },
  {
   "cell_type": "code",
   "execution_count": null,
   "metadata": {
    "collapsed": true
   },
   "outputs": [],
   "source": [
    "tables[1][1]"
   ]
  },
  {
   "cell_type": "code",
   "execution_count": null,
   "metadata": {
    "collapsed": true
   },
   "outputs": [],
   "source": [
    "print(tables[0][1:5])"
   ]
  },
  {
   "cell_type": "code",
   "execution_count": null,
   "metadata": {
    "collapsed": true
   },
   "outputs": [],
   "source": [
    "!pwd"
   ]
  },
  {
   "cell_type": "code",
   "execution_count": null,
   "metadata": {
    "collapsed": true
   },
   "outputs": [],
   "source": []
  }
 ],
 "metadata": {
  "kernelspec": {
   "display_name": "Python 3",
   "language": "python",
   "name": "python3"
  },
  "language_info": {
   "codemirror_mode": {
    "name": "ipython",
    "version": 3
   },
   "file_extension": ".py",
   "mimetype": "text/x-python",
   "name": "python",
   "nbconvert_exporter": "python",
   "pygments_lexer": "ipython3",
   "version": "3.6.1"
  }
 },
 "nbformat": 4,
 "nbformat_minor": 2
}
