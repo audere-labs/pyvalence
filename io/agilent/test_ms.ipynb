{
 "cells": [
  {
   "cell_type": "code",
   "execution_count": 9,
   "metadata": {
    "collapsed": true
   },
   "outputs": [],
   "source": []
  },
  {
   "cell_type": "code",
   "execution_count": 10,
   "metadata": {
    "collapsed": true
   },
   "outputs": [],
   "source": [
    "import struct\n",
    "import numpy as np\n",
    "\n",
    "def total_trace(filename):\n",
    "    # TODO: use twin?\n",
    "    f = open(filename, 'rb')\n",
    "\n",
    "    # get number of scans to read in\n",
    "    f.seek(0x5)\n",
    "    if f.read(4) == 'GC':\n",
    "        f.seek(0x142)\n",
    "    else:\n",
    "        f.seek(0x118)\n",
    "    nscans = struct.unpack('>H', f.read(2))[0]\n",
    "\n",
    "    # find the starting location of the data\n",
    "    f.seek(0x10A)\n",
    "    f.seek(2 * struct.unpack('>H', f.read(2))[0] - 2)\n",
    "\n",
    "    tme = np.zeros(nscans)\n",
    "    tic = np.zeros(nscans)\n",
    "    for i in range(nscans):\n",
    "        npos = f.tell() + 2 * struct.unpack('>H', f.read(2))[0]\n",
    "        tme[i] = struct.unpack('>I', f.read(4))[0] / 60000.\n",
    "        f.seek(npos - 4)\n",
    "        tic[i] = struct.unpack('>I', f.read(4))[0]\n",
    "        f.seek(npos)\n",
    "    f.close()\n",
    "    return tic, tme"
   ]
  },
  {
   "cell_type": "code",
   "execution_count": 4,
   "metadata": {},
   "outputs": [
    {
     "name": "stdout",
     "output_type": "stream",
     "text": [
      "\u001b[1m\u001b[36mAston.egg-info\u001b[m\u001b[m README.rst     \u001b[1m\u001b[36maston\u001b[m\u001b[m          \u001b[1m\u001b[36mextras\u001b[m\u001b[m         tox.ini\r\n",
      "LICENSE.txt    TODO.rst       \u001b[1m\u001b[36mbuild\u001b[m\u001b[m          \u001b[31msetup.py\u001b[m\u001b[m\r\n",
      "MANIFEST.in    Untitled.ipynb \u001b[1m\u001b[36mdist\u001b[m\u001b[m           \u001b[1m\u001b[36mtest_data\u001b[m\u001b[m\r\n"
     ]
    }
   ],
   "source": [
    "!ls"
   ]
  },
  {
   "cell_type": "code",
   "execution_count": 7,
   "metadata": {},
   "outputs": [
    {
     "name": "stdout",
     "output_type": "stream",
     "text": [
      "\u001b[31mAudit.txt\u001b[m\u001b[m    \u001b[31mFAMES-HA.RES\u001b[m\u001b[m \u001b[31mLS_Report\u001b[m\u001b[m    \u001b[31mPercent.txt\u001b[m\u001b[m  \u001b[31mRESULTS.CSV\u001b[m\u001b[m  \u001b[31mcnorm.ini\u001b[m\u001b[m\r\n",
      "\u001b[31mDATA.MS\u001b[m\u001b[m      \u001b[31mFAMES-HA.XLS\u001b[m\u001b[m \u001b[31mPRE_POST.INI\u001b[m\u001b[m \u001b[31mQReport.txt\u001b[m\u001b[m  \u001b[31macqmeth.txt\u001b[m\u001b[m  \u001b[31mfileinfo.txt\u001b[m\u001b[m\r\n"
     ]
    }
   ],
   "source": [
    "!ls ../data/FA01.D"
   ]
  },
  {
   "cell_type": "code",
   "execution_count": 11,
   "metadata": {},
   "outputs": [],
   "source": [
    "tic, tme = total_trace('../data/FA01.D/DATA.ms')"
   ]
  },
  {
   "cell_type": "code",
   "execution_count": 12,
   "metadata": {},
   "outputs": [
    {
     "data": {
      "text/plain": [
       "array([ 3576027.,  2654533.,  2052596., ...,   112871.,   111093.,\n",
       "         106704.])"
      ]
     },
     "execution_count": 12,
     "metadata": {},
     "output_type": "execute_result"
    }
   ],
   "source": [
    "tic"
   ]
  },
  {
   "cell_type": "code",
   "execution_count": 13,
   "metadata": {},
   "outputs": [
    {
     "data": {
      "text/plain": [
       "array([  3.08681667,   3.09253333,   3.09825   , ...,  19.98951667,\n",
       "        19.99523333,  20.00096667])"
      ]
     },
     "execution_count": 13,
     "metadata": {},
     "output_type": "execute_result"
    }
   ],
   "source": [
    "tme"
   ]
  },
  {
   "cell_type": "code",
   "execution_count": 26,
   "metadata": {},
   "outputs": [],
   "source": [
    "import matplotlib.pyplot as plt\n",
    "%matplotlib inline"
   ]
  },
  {
   "cell_type": "code",
   "execution_count": 29,
   "metadata": {},
   "outputs": [
    {
     "data": {
      "text/plain": [
       "[<matplotlib.lines.Line2D at 0x109bf6a90>]"
      ]
     },
     "execution_count": 29,
     "metadata": {},
     "output_type": "execute_result"
    },
    {
     "data": {
      "image/png": "[encoded data removed]",
      "text/plain": [
       "<matplotlib.figure.Figure at 0x109b34a20>"
      ]
     },
     "metadata": {},
     "output_type": "display_data"
    }
   ],
   "source": [
    "plt.plot(tme, tic)"
   ]
  },
  {
   "cell_type": "code",
   "execution_count": null,
   "metadata": {
    "collapsed": true
   },
   "outputs": [],
   "source": []
  }
 ],
 "metadata": {
  "kernelspec": {
   "display_name": "Python 3",
   "language": "python",
   "name": "python3"
  },
  "language_info": {
   "codemirror_mode": {
    "name": "ipython",
    "version": 3
   },
   "file_extension": ".py",
   "mimetype": "text/x-python",
   "name": "python",
   "nbconvert_exporter": "python",
   "pygments_lexer": "ipython3",
   "version": "3.6.1"
  }
 },
 "nbformat": 4,
 "nbformat_minor": 2
}
